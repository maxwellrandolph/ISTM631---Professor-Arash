{
  "nbformat": 4,
  "nbformat_minor": 0,
  "metadata": {
    "colab": {
      "name": "Week 6 - ISTM631.ipynb",
      "provenance": [],
      "authorship_tag": "ABX9TyOGZobLZASPnO/HxVfPgGHE",
      "include_colab_link": true
    },
    "kernelspec": {
      "name": "python3",
      "display_name": "Python 3"
    }
  },
  "cells": [
    {
      "cell_type": "markdown",
      "metadata": {
        "id": "view-in-github",
        "colab_type": "text"
      },
      "source": [
        "<a href=\"https://colab.research.google.com/github/maxwellrandolph/ISTM631---Professor-Arash/blob/master/Week_6_ISTM631.ipynb\" target=\"_parent\"><img src=\"https://colab.research.google.com/assets/colab-badge.svg\" alt=\"Open In Colab\"/></a>"
      ]
    },
    {
      "cell_type": "markdown",
      "metadata": {
        "id": "l26e6HwRp9im"
      },
      "source": [
        "# **In-Class Assigned HW Begins Here**"
      ]
    },
    {
      "cell_type": "markdown",
      "metadata": {
        "id": "InHKBpuNqMaG"
      },
      "source": [
        "**homework - look ar imdb code and try to correctly show genre in our python output - Example: IMDB rating - /n/n9.3/n - should just show 9.3 -one solution go up to the line 6 IBM rating and change that /n - line break need the**"
      ]
    },
    {
      "cell_type": "code",
      "metadata": {
        "id": "cjwV6J7CcN86",
        "outputId": "afcff3a1-4c16-4488-a9d8-a7ca25498815",
        "colab": {
          "base_uri": "https://localhost:8080/",
          "height": 34
        }
      },
      "source": [
        "import pandas as pd\n",
        "import time\n",
        "\n",
        "article = pd.read_html('https://en.wikipedia.org/wiki/2018_FIFA_World_Cup',header=0)\n",
        "df = article[5]\n",
        "count = 0\n",
        "for i in range(0,len(article)):\n",
        "  df = article[i]\n",
        "  #print(df.head())\n",
        "  count += 1\n",
        "count"
      ],
      "execution_count": 3,
      "outputs": [
        {
          "output_type": "execute_result",
          "data": {
            "text/plain": [
              "96"
            ]
          },
          "metadata": {
            "tags": []
          },
          "execution_count": 3
        }
      ]
    },
    {
      "cell_type": "code",
      "metadata": {
        "id": "Ubawp-Dpp-EH",
        "outputId": "c23b3bca-080b-4d1e-fad9-fba2a9d9b89c",
        "colab": {
          "base_uri": "https://localhost:8080/",
          "height": 80
        }
      },
      "source": [
        "article[12]"
      ],
      "execution_count": 4,
      "outputs": [
        {
          "output_type": "execute_result",
          "data": {
            "text/html": [
              "<div>\n",
              "<style scoped>\n",
              "    .dataframe tbody tr th:only-of-type {\n",
              "        vertical-align: middle;\n",
              "    }\n",
              "\n",
              "    .dataframe tbody tr th {\n",
              "        vertical-align: top;\n",
              "    }\n",
              "\n",
              "    .dataframe thead th {\n",
              "        text-align: right;\n",
              "    }\n",
              "</style>\n",
              "<table border=\"1\" class=\"dataframe\">\n",
              "  <thead>\n",
              "    <tr style=\"text-align: right;\">\n",
              "      <th></th>\n",
              "      <th>Saudi Arabia</th>\n",
              "      <th>2–1</th>\n",
              "      <th>Egypt</th>\n",
              "    </tr>\n",
              "  </thead>\n",
              "  <tbody>\n",
              "    <tr>\n",
              "      <th>0</th>\n",
              "      <td>Al-Faraj 45+6' (pen.) Al-Dawsari 90+5'</td>\n",
              "      <td>Report</td>\n",
              "      <td>Salah 22'</td>\n",
              "    </tr>\n",
              "  </tbody>\n",
              "</table>\n",
              "</div>"
            ],
            "text/plain": [
              "                             Saudi Arabia     2–1      Egypt\n",
              "0  Al-Faraj 45+6' (pen.) Al-Dawsari 90+5'  Report  Salah 22'"
            ]
          },
          "metadata": {
            "tags": []
          },
          "execution_count": 4
        }
      ]
    },
    {
      "cell_type": "code",
      "metadata": {
        "id": "dBG1W6F7p_0H"
      },
      "source": [
        "import bs4\n",
        "import pandas as pd\n",
        "import requests\n"
      ],
      "execution_count": 5,
      "outputs": []
    },
    {
      "cell_type": "code",
      "metadata": {
        "id": "gAWzgh4gqEab"
      },
      "source": [
        "def numeric_value(movie, tag, class_=None, order=None):\n",
        "    if order:\n",
        "        if len(movie.findAll(tag, class_)) > 1:\n",
        "            to_extract = movie.findAll(tag, class_)[order]['data-value']\n",
        "        else:\n",
        "            to_extract = None\n",
        "    else:\n",
        "        to_extract = movie.find(tag, class_)['data-value']\n",
        "\n",
        "    return to_extract\n",
        "\n",
        "\n",
        "def text_value(movie, tag, class_=None):\n",
        "    if movie.find(tag, class_):\n",
        "        return movie.find(tag, class_).text\n",
        "    else:\n",
        "        return\n",
        "\n",
        "\n",
        "def nested_text_value(movie, tag_1, class_1, tag_2, class_2, order=None):\n",
        "    if not order:\n",
        "        return movie.find(tag_1, class_1).find(tag_2, class_2).text\n",
        "    else:\n",
        "        return [val.text for val in movie.find(tag_1, class_1).findAll(tag_2, class_2)[order]]\n",
        "\n",
        "\n",
        "def extract_attribute(soup, tag_1, class_1='', tag_2='', class_2='',\n",
        "                      text_attribute=True, order=None, nested=False):\n",
        "    movies = soup.findAll('div', class_='lister-item-content')\n",
        "    data_list = []\n",
        "    for movie in movies:\n",
        "        if text_attribute:\n",
        "            if nested:\n",
        "                data_list.append(nested_text_value(movie, tag_1, class_1, tag_2, class_2, order))\n",
        "            else:\n",
        "                data_list.append(text_value(movie, tag_1, class_1))\n",
        "        else:\n",
        "            data_list.append(numeric_value(movie, tag_1, class_1, order))\n",
        "\n",
        "    return data_list\n",
        "    "
      ],
      "execution_count": 6,
      "outputs": []
    },
    {
      "cell_type": "code",
      "metadata": {
        "id": "LoyH_8X0qJUK"
      },
      "source": [
        "url = 'https://www.imdb.com/search/title/?count=100&groups=top_1000&sort=user_rating'\n",
        "def get_page_contents(url):\n",
        "    page = requests.get(url, headers={\"Accept-Language\": \"en-US\"})\n",
        "    return bs4.BeautifulSoup(page.text, \"html.parser\")\n",
        "\n",
        "soup = get_page_contents(url)"
      ],
      "execution_count": 7,
      "outputs": []
    },
    {
      "cell_type": "code",
      "metadata": {
        "id": "PpEP1iLcqQvR",
        "outputId": "0398f0a3-158c-4e40-c21d-2e9e6d4afaed",
        "colab": {
          "base_uri": "https://localhost:8080/",
          "height": 419
        }
      },
      "source": [
        "titles = extract_attribute(soup, 'a')\n",
        "release = extract_attribute(soup, 'span', 'lister-item-year text-muted unbold')\n",
        "audience_rating = extract_attribute(soup, 'span', 'certificate')\n",
        "runtime = extract_attribute(soup, 'span', 'runtime')\n",
        "genre = extract_attribute(soup, 'span', 'genre')\n",
        "imdb_rating = extract_attribute(soup, 'div', 'inline-block ratings-imdb-rating', False)\n",
        "votes = extract_attribute(soup, 'span' , {'name' : 'nv'}, False, 0)\n",
        "earnings = extract_attribute(soup, 'span' , {'name' : 'nv'}, False, 1)\n",
        "#directors = extract_attribute(soup, 'p', '', 'a', '', True, 0, True)\n",
        "actors = extract_attribute(soup, 'p', '', 'a', '', True, slice(1, 5, None), True)\n",
        "\n",
        "\n",
        "df_dict = {'Title': titles, 'Relase': release, 'Audience Rating': audience_rating,\n",
        "           'Runtime': runtime, 'Genre': genre, 'IMDB Rating': imdb_rating,\n",
        "           'Votes': votes, 'Box Office Earnings': earnings, \n",
        "           'Actors': actors} #'Director': directors,\n",
        "df = pd.DataFrame(df_dict)\n",
        "df"
      ],
      "execution_count": 59,
      "outputs": [
        {
          "output_type": "execute_result",
          "data": {
            "text/html": [
              "<div>\n",
              "<style scoped>\n",
              "    .dataframe tbody tr th:only-of-type {\n",
              "        vertical-align: middle;\n",
              "    }\n",
              "\n",
              "    .dataframe tbody tr th {\n",
              "        vertical-align: top;\n",
              "    }\n",
              "\n",
              "    .dataframe thead th {\n",
              "        text-align: right;\n",
              "    }\n",
              "</style>\n",
              "<table border=\"1\" class=\"dataframe\">\n",
              "  <thead>\n",
              "    <tr style=\"text-align: right;\">\n",
              "      <th></th>\n",
              "      <th>Title</th>\n",
              "      <th>Relase</th>\n",
              "      <th>Audience Rating</th>\n",
              "      <th>Runtime</th>\n",
              "      <th>Genre</th>\n",
              "      <th>IMDB Rating</th>\n",
              "      <th>Votes</th>\n",
              "      <th>Box Office Earnings</th>\n",
              "      <th>Actors</th>\n",
              "    </tr>\n",
              "  </thead>\n",
              "  <tbody>\n",
              "    <tr>\n",
              "      <th>0</th>\n",
              "      <td>The Shawshank Redemption</td>\n",
              "      <td>(1994)</td>\n",
              "      <td>R</td>\n",
              "      <td>142 min</td>\n",
              "      <td>\\nDrama</td>\n",
              "      <td>\\n\\n9.3\\n</td>\n",
              "      <td>2,293,043</td>\n",
              "      <td>2,293,043</td>\n",
              "      <td>[]</td>\n",
              "    </tr>\n",
              "    <tr>\n",
              "      <th>1</th>\n",
              "      <td>The Godfather</td>\n",
              "      <td>(1972)</td>\n",
              "      <td>R</td>\n",
              "      <td>175 min</td>\n",
              "      <td>\\nCrime, Drama</td>\n",
              "      <td>\\n\\n9.2\\n</td>\n",
              "      <td>1,582,807</td>\n",
              "      <td>1,582,807</td>\n",
              "      <td>[]</td>\n",
              "    </tr>\n",
              "    <tr>\n",
              "      <th>2</th>\n",
              "      <td>The Dark Knight</td>\n",
              "      <td>(2008)</td>\n",
              "      <td>PG-13</td>\n",
              "      <td>152 min</td>\n",
              "      <td>\\nAction, Crime, Drama</td>\n",
              "      <td>\\n\\n9.0\\n</td>\n",
              "      <td>2,258,091</td>\n",
              "      <td>2,258,091</td>\n",
              "      <td>[]</td>\n",
              "    </tr>\n",
              "    <tr>\n",
              "      <th>3</th>\n",
              "      <td>The Godfather: Part II</td>\n",
              "      <td>(1974)</td>\n",
              "      <td>R</td>\n",
              "      <td>202 min</td>\n",
              "      <td>\\nCrime, Drama</td>\n",
              "      <td>\\n\\n9.0\\n</td>\n",
              "      <td>1,105,811</td>\n",
              "      <td>1,105,811</td>\n",
              "      <td>[]</td>\n",
              "    </tr>\n",
              "    <tr>\n",
              "      <th>4</th>\n",
              "      <td>The Lord of the Rings: The Return of the King</td>\n",
              "      <td>(2003)</td>\n",
              "      <td>PG-13</td>\n",
              "      <td>201 min</td>\n",
              "      <td>\\nAction, Adventure, Drama</td>\n",
              "      <td>\\n\\n8.9\\n</td>\n",
              "      <td>1,612,731</td>\n",
              "      <td>1,612,731</td>\n",
              "      <td>[]</td>\n",
              "    </tr>\n",
              "    <tr>\n",
              "      <th>...</th>\n",
              "      <td>...</td>\n",
              "      <td>...</td>\n",
              "      <td>...</td>\n",
              "      <td>...</td>\n",
              "      <td>...</td>\n",
              "      <td>...</td>\n",
              "      <td>...</td>\n",
              "      <td>...</td>\n",
              "      <td>...</td>\n",
              "    </tr>\n",
              "    <tr>\n",
              "      <th>95</th>\n",
              "      <td>Amélie</td>\n",
              "      <td>(2001)</td>\n",
              "      <td>R</td>\n",
              "      <td>122 min</td>\n",
              "      <td>\\nComedy, Romance</td>\n",
              "      <td>\\n\\n8.3\\n</td>\n",
              "      <td>693,492</td>\n",
              "      <td>693,492</td>\n",
              "      <td>[]</td>\n",
              "    </tr>\n",
              "    <tr>\n",
              "      <th>96</th>\n",
              "      <td>Snatch</td>\n",
              "      <td>(2000)</td>\n",
              "      <td>R</td>\n",
              "      <td>102 min</td>\n",
              "      <td>\\nComedy, Crime</td>\n",
              "      <td>\\n\\n8.3\\n</td>\n",
              "      <td>770,156</td>\n",
              "      <td>770,156</td>\n",
              "      <td>[]</td>\n",
              "    </tr>\n",
              "    <tr>\n",
              "      <th>97</th>\n",
              "      <td>Requiem for a Dream</td>\n",
              "      <td>(2000)</td>\n",
              "      <td>R</td>\n",
              "      <td>102 min</td>\n",
              "      <td>\\nDrama</td>\n",
              "      <td>\\n\\n8.3\\n</td>\n",
              "      <td>752,813</td>\n",
              "      <td>752,813</td>\n",
              "      <td>[]</td>\n",
              "    </tr>\n",
              "    <tr>\n",
              "      <th>98</th>\n",
              "      <td>American Beauty</td>\n",
              "      <td>(1999)</td>\n",
              "      <td>R</td>\n",
              "      <td>122 min</td>\n",
              "      <td>\\nDrama</td>\n",
              "      <td>\\n\\n8.3\\n</td>\n",
              "      <td>1,053,783</td>\n",
              "      <td>1,053,783</td>\n",
              "      <td>[]</td>\n",
              "    </tr>\n",
              "    <tr>\n",
              "      <th>99</th>\n",
              "      <td>Good Will Hunting</td>\n",
              "      <td>(1997)</td>\n",
              "      <td>R</td>\n",
              "      <td>126 min</td>\n",
              "      <td>\\nDrama, Romance</td>\n",
              "      <td>\\n\\n8.3\\n</td>\n",
              "      <td>843,068</td>\n",
              "      <td>843,068</td>\n",
              "      <td>[]</td>\n",
              "    </tr>\n",
              "  </tbody>\n",
              "</table>\n",
              "<p>100 rows × 9 columns</p>\n",
              "</div>"
            ],
            "text/plain": [
              "                                            Title  ... Actors\n",
              "0                        The Shawshank Redemption  ...     []\n",
              "1                                   The Godfather  ...     []\n",
              "2                                 The Dark Knight  ...     []\n",
              "3                          The Godfather: Part II  ...     []\n",
              "4   The Lord of the Rings: The Return of the King  ...     []\n",
              "..                                            ...  ...    ...\n",
              "95                                         Amélie  ...     []\n",
              "96                                         Snatch  ...     []\n",
              "97                            Requiem for a Dream  ...     []\n",
              "98                                American Beauty  ...     []\n",
              "99                              Good Will Hunting  ...     []\n",
              "\n",
              "[100 rows x 9 columns]"
            ]
          },
          "metadata": {
            "tags": []
          },
          "execution_count": 59
        }
      ]
    },
    {
      "cell_type": "markdown",
      "metadata": {
        "id": "SJVNi33wscmo"
      },
      "source": [
        "homework - look ar imdb code and try to fix the issue\n",
        "change it to show it correctly in our platform - IMDB rating - /n/n9.3/n - should just show 9.3\n",
        "-one solution go up to the line 6 IBM rating and change that\n",
        "/n - line break\n",
        "need the \n",
        "\n",
        "it is currently in a list, so you might need to change to float - try a split -"
      ]
    },
    {
      "cell_type": "code",
      "metadata": {
        "id": "iiJV3pf4qRb9",
        "outputId": "94cfa709-5e4b-4dc4-829b-b0ce06f1ee23",
        "colab": {
          "base_uri": "https://localhost:8080/",
          "height": 34
        }
      },
      "source": [
        "imdb_rating[0].split()"
      ],
      "execution_count": 31,
      "outputs": [
        {
          "output_type": "execute_result",
          "data": {
            "text/plain": [
              "['9.3']"
            ]
          },
          "metadata": {
            "tags": []
          },
          "execution_count": 31
        }
      ]
    },
    {
      "cell_type": "code",
      "metadata": {
        "id": "2ej7Ih3wshe1",
        "outputId": "e63e5ac4-175a-4964-a639-3d32d6eb848b",
        "colab": {
          "base_uri": "https://localhost:8080/",
          "height": 232
        }
      },
      "source": [
        "titles = extract_attribute(soup, 'a')\n",
        "release = extract_attribute(soup, 'span', 'lister-item-year text-muted unbold')\n",
        "audience_rating = extract_attribute(soup, 'span', 'certificate')\n",
        "runtime = extract_attribute(soup, 'span', 'runtime')\n",
        "genre = extract_attribute(soup, 'span', 'genre').text.replace('\\n', '')\n",
        "imdb_rating = extract_attribute(soup, 'div', 'inline-block ratings-imdb-rating', False)\n",
        "votes = extract_attribute(soup, 'span' , {'name' : 'nv'}, False, 0)\n",
        "earnings = extract_attribute(soup, 'span' , {'name' : 'nv'}, False, 1)\n",
        "#directors = extract_attribute(soup, 'p', '', 'a', '', True, 0, True)\n",
        "actors = extract_attribute(soup, 'p', '', 'a', '', True, slice(1, 5, None), True)\n",
        "\n",
        "\n",
        "df_dict = {'Title': titles, 'Relase': release, 'Audience Rating': audience_rating,\n",
        "           'Runtime': runtime, 'Genre': genre, 'IMDB Rating': imdb_rating,\n",
        "           'Votes': votes, 'Box Office Earnings': earnings, \n",
        "           'Actors': actors} #'Director': directors,\n",
        "df = pd.DataFrame(df_dict)\n",
        "df"
      ],
      "execution_count": 23,
      "outputs": [
        {
          "output_type": "error",
          "ename": "AttributeError",
          "evalue": "ignored",
          "traceback": [
            "\u001b[0;31m---------------------------------------------------------------------------\u001b[0m",
            "\u001b[0;31mAttributeError\u001b[0m                            Traceback (most recent call last)",
            "\u001b[0;32m<ipython-input-23-8352001c486d>\u001b[0m in \u001b[0;36m<module>\u001b[0;34m()\u001b[0m\n\u001b[1;32m      3\u001b[0m \u001b[0maudience_rating\u001b[0m \u001b[0;34m=\u001b[0m \u001b[0mextract_attribute\u001b[0m\u001b[0;34m(\u001b[0m\u001b[0msoup\u001b[0m\u001b[0;34m,\u001b[0m \u001b[0;34m'span'\u001b[0m\u001b[0;34m,\u001b[0m \u001b[0;34m'certificate'\u001b[0m\u001b[0;34m)\u001b[0m\u001b[0;34m\u001b[0m\u001b[0;34m\u001b[0m\u001b[0m\n\u001b[1;32m      4\u001b[0m \u001b[0mruntime\u001b[0m \u001b[0;34m=\u001b[0m \u001b[0mextract_attribute\u001b[0m\u001b[0;34m(\u001b[0m\u001b[0msoup\u001b[0m\u001b[0;34m,\u001b[0m \u001b[0;34m'span'\u001b[0m\u001b[0;34m,\u001b[0m \u001b[0;34m'runtime'\u001b[0m\u001b[0;34m)\u001b[0m\u001b[0;34m\u001b[0m\u001b[0;34m\u001b[0m\u001b[0m\n\u001b[0;32m----> 5\u001b[0;31m \u001b[0mgenre\u001b[0m \u001b[0;34m=\u001b[0m \u001b[0mextract_attribute\u001b[0m\u001b[0;34m(\u001b[0m\u001b[0msoup\u001b[0m\u001b[0;34m,\u001b[0m \u001b[0;34m'span'\u001b[0m\u001b[0;34m,\u001b[0m \u001b[0;34m'genre'\u001b[0m\u001b[0;34m)\u001b[0m\u001b[0;34m.\u001b[0m\u001b[0mtext\u001b[0m\u001b[0;34m.\u001b[0m\u001b[0mreplace\u001b[0m\u001b[0;34m(\u001b[0m\u001b[0;34m'\\n'\u001b[0m\u001b[0;34m,\u001b[0m \u001b[0;34m''\u001b[0m\u001b[0;34m)\u001b[0m\u001b[0;34m\u001b[0m\u001b[0;34m\u001b[0m\u001b[0m\n\u001b[0m\u001b[1;32m      6\u001b[0m \u001b[0mimdb_rating\u001b[0m \u001b[0;34m=\u001b[0m \u001b[0mextract_attribute\u001b[0m\u001b[0;34m(\u001b[0m\u001b[0msoup\u001b[0m\u001b[0;34m,\u001b[0m \u001b[0;34m'div'\u001b[0m\u001b[0;34m,\u001b[0m \u001b[0;34m'inline-block ratings-imdb-rating'\u001b[0m\u001b[0;34m,\u001b[0m \u001b[0;32mFalse\u001b[0m\u001b[0;34m)\u001b[0m\u001b[0;34m\u001b[0m\u001b[0;34m\u001b[0m\u001b[0m\n\u001b[1;32m      7\u001b[0m \u001b[0mvotes\u001b[0m \u001b[0;34m=\u001b[0m \u001b[0mextract_attribute\u001b[0m\u001b[0;34m(\u001b[0m\u001b[0msoup\u001b[0m\u001b[0;34m,\u001b[0m \u001b[0;34m'span'\u001b[0m \u001b[0;34m,\u001b[0m \u001b[0;34m{\u001b[0m\u001b[0;34m'name'\u001b[0m \u001b[0;34m:\u001b[0m \u001b[0;34m'nv'\u001b[0m\u001b[0;34m}\u001b[0m\u001b[0;34m,\u001b[0m \u001b[0;32mFalse\u001b[0m\u001b[0;34m,\u001b[0m \u001b[0;36m0\u001b[0m\u001b[0;34m)\u001b[0m\u001b[0;34m\u001b[0m\u001b[0;34m\u001b[0m\u001b[0m\n",
            "\u001b[0;31mAttributeError\u001b[0m: 'list' object has no attribute 'text'"
          ]
        }
      ]
    },
    {
      "cell_type": "code",
      "metadata": {
        "id": "is1CJnN2FISK",
        "outputId": "4a9a8b6a-4df7-4aff-a2ea-7c958c1e9850",
        "colab": {
          "base_uri": "https://localhost:8080/",
          "height": 232
        }
      },
      "source": [
        "titles = extract_attribute(soup, 'a')\n",
        "release = extract_attribute(soup, 'span', 'lister-item-year text-muted unbold')\n",
        "audience_rating = extract_attribute(soup, 'span', 'certificate')\n",
        "runtime = extract_attribute(soup, 'span', 'runtime')\n",
        "genre3 = extract_attribute(soup, 'span', 'genre')\n",
        "genre = genre3.text.replace('\\n', '')\n",
        "imdb_rating = extract_attribute(soup, 'div', 'inline-block ratings-imdb-rating', False)\n",
        "votes = extract_attribute(soup, 'span' , {'name' : 'nv'}, False, 0)\n",
        "earnings = extract_attribute(soup, 'span' , {'name' : 'nv'}, False, 1)\n",
        "#directors = extract_attribute(soup, 'p', '', 'a', '', True, 0, True)\n",
        "actors = extract_attribute(soup, 'p', '', 'a', '', True, slice(1, 5, None), True)\n",
        "\n",
        "\n",
        "df_dict = {'Title': titles, 'Relase': release, 'Audience Rating': audience_rating,\n",
        "           'Runtime': runtime, 'Genre': genre, 'IMDB Rating': imdb_rating,\n",
        "           'Votes': votes, 'Box Office Earnings': earnings, \n",
        "           'Actors': actors} #'Director': directors,\n",
        "df = pd.DataFrame(df_dict)\n",
        "df"
      ],
      "execution_count": 21,
      "outputs": [
        {
          "output_type": "error",
          "ename": "AttributeError",
          "evalue": "ignored",
          "traceback": [
            "\u001b[0;31m---------------------------------------------------------------------------\u001b[0m",
            "\u001b[0;31mAttributeError\u001b[0m                            Traceback (most recent call last)",
            "\u001b[0;32m<ipython-input-21-f7c2884f633d>\u001b[0m in \u001b[0;36m<module>\u001b[0;34m()\u001b[0m\n\u001b[1;32m      4\u001b[0m \u001b[0mruntime\u001b[0m \u001b[0;34m=\u001b[0m \u001b[0mextract_attribute\u001b[0m\u001b[0;34m(\u001b[0m\u001b[0msoup\u001b[0m\u001b[0;34m,\u001b[0m \u001b[0;34m'span'\u001b[0m\u001b[0;34m,\u001b[0m \u001b[0;34m'runtime'\u001b[0m\u001b[0;34m)\u001b[0m\u001b[0;34m\u001b[0m\u001b[0;34m\u001b[0m\u001b[0m\n\u001b[1;32m      5\u001b[0m \u001b[0mgenre3\u001b[0m \u001b[0;34m=\u001b[0m \u001b[0mextract_attribute\u001b[0m\u001b[0;34m(\u001b[0m\u001b[0msoup\u001b[0m\u001b[0;34m,\u001b[0m \u001b[0;34m'span'\u001b[0m\u001b[0;34m,\u001b[0m \u001b[0;34m'genre'\u001b[0m\u001b[0;34m)\u001b[0m\u001b[0;34m\u001b[0m\u001b[0;34m\u001b[0m\u001b[0m\n\u001b[0;32m----> 6\u001b[0;31m \u001b[0mgenre\u001b[0m \u001b[0;34m=\u001b[0m \u001b[0mgenre3\u001b[0m\u001b[0;34m.\u001b[0m\u001b[0mtext\u001b[0m\u001b[0;34m.\u001b[0m\u001b[0mreplace\u001b[0m\u001b[0;34m(\u001b[0m\u001b[0;34m'\\n'\u001b[0m\u001b[0;34m,\u001b[0m \u001b[0;34m''\u001b[0m\u001b[0;34m)\u001b[0m\u001b[0;34m\u001b[0m\u001b[0;34m\u001b[0m\u001b[0m\n\u001b[0m\u001b[1;32m      7\u001b[0m \u001b[0mimdb_rating\u001b[0m \u001b[0;34m=\u001b[0m \u001b[0mextract_attribute\u001b[0m\u001b[0;34m(\u001b[0m\u001b[0msoup\u001b[0m\u001b[0;34m,\u001b[0m \u001b[0;34m'div'\u001b[0m\u001b[0;34m,\u001b[0m \u001b[0;34m'inline-block ratings-imdb-rating'\u001b[0m\u001b[0;34m,\u001b[0m \u001b[0;32mFalse\u001b[0m\u001b[0;34m)\u001b[0m\u001b[0;34m\u001b[0m\u001b[0;34m\u001b[0m\u001b[0m\n\u001b[1;32m      8\u001b[0m \u001b[0mvotes\u001b[0m \u001b[0;34m=\u001b[0m \u001b[0mextract_attribute\u001b[0m\u001b[0;34m(\u001b[0m\u001b[0msoup\u001b[0m\u001b[0;34m,\u001b[0m \u001b[0;34m'span'\u001b[0m \u001b[0;34m,\u001b[0m \u001b[0;34m{\u001b[0m\u001b[0;34m'name'\u001b[0m \u001b[0;34m:\u001b[0m \u001b[0;34m'nv'\u001b[0m\u001b[0;34m}\u001b[0m\u001b[0;34m,\u001b[0m \u001b[0;32mFalse\u001b[0m\u001b[0;34m,\u001b[0m \u001b[0;36m0\u001b[0m\u001b[0;34m)\u001b[0m\u001b[0;34m\u001b[0m\u001b[0;34m\u001b[0m\u001b[0m\n",
            "\u001b[0;31mAttributeError\u001b[0m: 'list' object has no attribute 'text'"
          ]
        }
      ]
    },
    {
      "cell_type": "markdown",
      "metadata": {
        "id": "q26DZcKtF7d-"
      },
      "source": [
        "genre = genre3.text.replace('\\n', '')\n",
        "\n",
        "imdb_rating[0].split()"
      ]
    },
    {
      "cell_type": "code",
      "metadata": {
        "id": "rUXHUItvGIIU",
        "outputId": "7cfa2c90-68eb-48ab-af8b-12a63286d711",
        "colab": {
          "base_uri": "https://localhost:8080/",
          "height": 232
        }
      },
      "source": [
        "df_dict = {'Title': titles, 'Relase': release, 'Audience Rating': audience_rating,\n",
        "           'Runtime': runtime, 'Genre': genre.text.replace('\\n', ''), 'IMDB Rating': imdb_rating,\n",
        "           'Votes': votes, 'Box Office Earnings': earnings, \n",
        "           'Actors': actors} #'Director': directors,\n",
        "df = pd.DataFrame(df_dict)\n",
        "df"
      ],
      "execution_count": 25,
      "outputs": [
        {
          "output_type": "error",
          "ename": "AttributeError",
          "evalue": "ignored",
          "traceback": [
            "\u001b[0;31m---------------------------------------------------------------------------\u001b[0m",
            "\u001b[0;31mAttributeError\u001b[0m                            Traceback (most recent call last)",
            "\u001b[0;32m<ipython-input-25-4dc9500685e6>\u001b[0m in \u001b[0;36m<module>\u001b[0;34m()\u001b[0m\n\u001b[1;32m      1\u001b[0m df_dict = {'Title': titles, 'Relase': release, 'Audience Rating': audience_rating,\n\u001b[0;32m----> 2\u001b[0;31m            \u001b[0;34m'Runtime'\u001b[0m\u001b[0;34m:\u001b[0m \u001b[0mruntime\u001b[0m\u001b[0;34m,\u001b[0m \u001b[0;34m'Genre'\u001b[0m\u001b[0;34m:\u001b[0m \u001b[0mgenre\u001b[0m\u001b[0;34m.\u001b[0m\u001b[0mtext\u001b[0m\u001b[0;34m.\u001b[0m\u001b[0mreplace\u001b[0m\u001b[0;34m(\u001b[0m\u001b[0;34m'\\n'\u001b[0m\u001b[0;34m,\u001b[0m \u001b[0;34m''\u001b[0m\u001b[0;34m)\u001b[0m\u001b[0;34m,\u001b[0m \u001b[0;34m'IMDB Rating'\u001b[0m\u001b[0;34m:\u001b[0m \u001b[0mimdb_rating\u001b[0m\u001b[0;34m,\u001b[0m\u001b[0;34m\u001b[0m\u001b[0;34m\u001b[0m\u001b[0m\n\u001b[0m\u001b[1;32m      3\u001b[0m            \u001b[0;34m'Votes'\u001b[0m\u001b[0;34m:\u001b[0m \u001b[0mvotes\u001b[0m\u001b[0;34m,\u001b[0m \u001b[0;34m'Box Office Earnings'\u001b[0m\u001b[0;34m:\u001b[0m \u001b[0mearnings\u001b[0m\u001b[0;34m,\u001b[0m\u001b[0;34m\u001b[0m\u001b[0;34m\u001b[0m\u001b[0m\n\u001b[1;32m      4\u001b[0m            'Actors': actors} #'Director': directors,\n\u001b[1;32m      5\u001b[0m \u001b[0mdf\u001b[0m \u001b[0;34m=\u001b[0m \u001b[0mpd\u001b[0m\u001b[0;34m.\u001b[0m\u001b[0mDataFrame\u001b[0m\u001b[0;34m(\u001b[0m\u001b[0mdf_dict\u001b[0m\u001b[0;34m)\u001b[0m\u001b[0;34m\u001b[0m\u001b[0;34m\u001b[0m\u001b[0m\n",
            "\u001b[0;31mAttributeError\u001b[0m: 'list' object has no attribute 'text'"
          ]
        }
      ]
    },
    {
      "cell_type": "code",
      "metadata": {
        "id": "5edzEzyAOUE_",
        "outputId": "aa7e9553-610d-4825-b080-2b0aa1a46643",
        "colab": {
          "base_uri": "https://localhost:8080/",
          "height": 164
        }
      },
      "source": [
        "genre[0] = genre.split()"
      ],
      "execution_count": 30,
      "outputs": [
        {
          "output_type": "error",
          "ename": "AttributeError",
          "evalue": "ignored",
          "traceback": [
            "\u001b[0;31m---------------------------------------------------------------------------\u001b[0m",
            "\u001b[0;31mAttributeError\u001b[0m                            Traceback (most recent call last)",
            "\u001b[0;32m<ipython-input-30-55131a3e5d0a>\u001b[0m in \u001b[0;36m<module>\u001b[0;34m()\u001b[0m\n\u001b[0;32m----> 1\u001b[0;31m \u001b[0mgenre\u001b[0m\u001b[0;34m[\u001b[0m\u001b[0;36m0\u001b[0m\u001b[0;34m]\u001b[0m \u001b[0;34m=\u001b[0m \u001b[0mgenre\u001b[0m\u001b[0;34m.\u001b[0m\u001b[0msplit\u001b[0m\u001b[0;34m(\u001b[0m\u001b[0;34m)\u001b[0m\u001b[0;34m\u001b[0m\u001b[0;34m\u001b[0m\u001b[0m\n\u001b[0m",
            "\u001b[0;31mAttributeError\u001b[0m: 'list' object has no attribute 'split'"
          ]
        }
      ]
    },
    {
      "cell_type": "code",
      "metadata": {
        "id": "5KitmSFOOcG3",
        "outputId": "7effdd83-e961-4f05-c865-18cec71b2d27",
        "colab": {
          "base_uri": "https://localhost:8080/",
          "height": 419
        }
      },
      "source": [
        "titles = extract_attribute(soup, 'a')\n",
        "release = extract_attribute(soup, 'span', 'lister-item-year text-muted unbold')\n",
        "audience_rating = extract_attribute(soup, 'span', 'certificate')\n",
        "runtime = extract_attribute(soup, 'span', 'runtime')\n",
        "genre = extract_attribute(soup, 'span', 'genrelist2') \n",
        "imdb_rating = extract_attribute(soup, 'div', 'inline-block ratings-imdb-rating', False)\n",
        "votes = extract_attribute(soup, 'span' , {'name' : 'nv'}, False, 0)\n",
        "earnings = extract_attribute(soup, 'span' , {'name' : 'nv'}, False, 1)\n",
        "#directors = extract_attribute(soup, 'p', '', 'a', '', True, 0, True)\n",
        "actors = extract_attribute(soup, 'p', '', 'a', '', True, slice(1, 5, None), True)\n",
        "\n",
        "\n",
        "df_dict = {'Title': titles, 'Relase': release, 'Audience Rating': audience_rating,\n",
        "           'Runtime': runtime, 'Genre': genre, 'IMDB Rating': imdb_rating,\n",
        "           'Votes': votes, 'Box Office Earnings': earnings, \n",
        "           'Actors': actors} #'Director': directors,\n",
        "df = pd.DataFrame(df_dict)\n",
        "df"
      ],
      "execution_count": 38,
      "outputs": [
        {
          "output_type": "execute_result",
          "data": {
            "text/html": [
              "<div>\n",
              "<style scoped>\n",
              "    .dataframe tbody tr th:only-of-type {\n",
              "        vertical-align: middle;\n",
              "    }\n",
              "\n",
              "    .dataframe tbody tr th {\n",
              "        vertical-align: top;\n",
              "    }\n",
              "\n",
              "    .dataframe thead th {\n",
              "        text-align: right;\n",
              "    }\n",
              "</style>\n",
              "<table border=\"1\" class=\"dataframe\">\n",
              "  <thead>\n",
              "    <tr style=\"text-align: right;\">\n",
              "      <th></th>\n",
              "      <th>Title</th>\n",
              "      <th>Relase</th>\n",
              "      <th>Audience Rating</th>\n",
              "      <th>Runtime</th>\n",
              "      <th>Genre</th>\n",
              "      <th>IMDB Rating</th>\n",
              "      <th>Votes</th>\n",
              "      <th>Box Office Earnings</th>\n",
              "      <th>Actors</th>\n",
              "    </tr>\n",
              "  </thead>\n",
              "  <tbody>\n",
              "    <tr>\n",
              "      <th>0</th>\n",
              "      <td>The Shawshank Redemption</td>\n",
              "      <td>(1994)</td>\n",
              "      <td>R</td>\n",
              "      <td>142 min</td>\n",
              "      <td>None</td>\n",
              "      <td>\\n\\n9.3\\n</td>\n",
              "      <td>2,293,043</td>\n",
              "      <td>2,293,043</td>\n",
              "      <td>[]</td>\n",
              "    </tr>\n",
              "    <tr>\n",
              "      <th>1</th>\n",
              "      <td>The Godfather</td>\n",
              "      <td>(1972)</td>\n",
              "      <td>R</td>\n",
              "      <td>175 min</td>\n",
              "      <td>None</td>\n",
              "      <td>\\n\\n9.2\\n</td>\n",
              "      <td>1,582,807</td>\n",
              "      <td>1,582,807</td>\n",
              "      <td>[]</td>\n",
              "    </tr>\n",
              "    <tr>\n",
              "      <th>2</th>\n",
              "      <td>The Dark Knight</td>\n",
              "      <td>(2008)</td>\n",
              "      <td>PG-13</td>\n",
              "      <td>152 min</td>\n",
              "      <td>None</td>\n",
              "      <td>\\n\\n9.0\\n</td>\n",
              "      <td>2,258,091</td>\n",
              "      <td>2,258,091</td>\n",
              "      <td>[]</td>\n",
              "    </tr>\n",
              "    <tr>\n",
              "      <th>3</th>\n",
              "      <td>The Godfather: Part II</td>\n",
              "      <td>(1974)</td>\n",
              "      <td>R</td>\n",
              "      <td>202 min</td>\n",
              "      <td>None</td>\n",
              "      <td>\\n\\n9.0\\n</td>\n",
              "      <td>1,105,811</td>\n",
              "      <td>1,105,811</td>\n",
              "      <td>[]</td>\n",
              "    </tr>\n",
              "    <tr>\n",
              "      <th>4</th>\n",
              "      <td>The Lord of the Rings: The Return of the King</td>\n",
              "      <td>(2003)</td>\n",
              "      <td>PG-13</td>\n",
              "      <td>201 min</td>\n",
              "      <td>None</td>\n",
              "      <td>\\n\\n8.9\\n</td>\n",
              "      <td>1,612,731</td>\n",
              "      <td>1,612,731</td>\n",
              "      <td>[]</td>\n",
              "    </tr>\n",
              "    <tr>\n",
              "      <th>...</th>\n",
              "      <td>...</td>\n",
              "      <td>...</td>\n",
              "      <td>...</td>\n",
              "      <td>...</td>\n",
              "      <td>...</td>\n",
              "      <td>...</td>\n",
              "      <td>...</td>\n",
              "      <td>...</td>\n",
              "      <td>...</td>\n",
              "    </tr>\n",
              "    <tr>\n",
              "      <th>95</th>\n",
              "      <td>Amélie</td>\n",
              "      <td>(2001)</td>\n",
              "      <td>R</td>\n",
              "      <td>122 min</td>\n",
              "      <td>None</td>\n",
              "      <td>\\n\\n8.3\\n</td>\n",
              "      <td>693,492</td>\n",
              "      <td>693,492</td>\n",
              "      <td>[]</td>\n",
              "    </tr>\n",
              "    <tr>\n",
              "      <th>96</th>\n",
              "      <td>Snatch</td>\n",
              "      <td>(2000)</td>\n",
              "      <td>R</td>\n",
              "      <td>102 min</td>\n",
              "      <td>None</td>\n",
              "      <td>\\n\\n8.3\\n</td>\n",
              "      <td>770,156</td>\n",
              "      <td>770,156</td>\n",
              "      <td>[]</td>\n",
              "    </tr>\n",
              "    <tr>\n",
              "      <th>97</th>\n",
              "      <td>Requiem for a Dream</td>\n",
              "      <td>(2000)</td>\n",
              "      <td>R</td>\n",
              "      <td>102 min</td>\n",
              "      <td>None</td>\n",
              "      <td>\\n\\n8.3\\n</td>\n",
              "      <td>752,813</td>\n",
              "      <td>752,813</td>\n",
              "      <td>[]</td>\n",
              "    </tr>\n",
              "    <tr>\n",
              "      <th>98</th>\n",
              "      <td>American Beauty</td>\n",
              "      <td>(1999)</td>\n",
              "      <td>R</td>\n",
              "      <td>122 min</td>\n",
              "      <td>None</td>\n",
              "      <td>\\n\\n8.3\\n</td>\n",
              "      <td>1,053,783</td>\n",
              "      <td>1,053,783</td>\n",
              "      <td>[]</td>\n",
              "    </tr>\n",
              "    <tr>\n",
              "      <th>99</th>\n",
              "      <td>Good Will Hunting</td>\n",
              "      <td>(1997)</td>\n",
              "      <td>R</td>\n",
              "      <td>126 min</td>\n",
              "      <td>None</td>\n",
              "      <td>\\n\\n8.3\\n</td>\n",
              "      <td>843,068</td>\n",
              "      <td>843,068</td>\n",
              "      <td>[]</td>\n",
              "    </tr>\n",
              "  </tbody>\n",
              "</table>\n",
              "<p>100 rows × 9 columns</p>\n",
              "</div>"
            ],
            "text/plain": [
              "                                            Title  ... Actors\n",
              "0                        The Shawshank Redemption  ...     []\n",
              "1                                   The Godfather  ...     []\n",
              "2                                 The Dark Knight  ...     []\n",
              "3                          The Godfather: Part II  ...     []\n",
              "4   The Lord of the Rings: The Return of the King  ...     []\n",
              "..                                            ...  ...    ...\n",
              "95                                         Amélie  ...     []\n",
              "96                                         Snatch  ...     []\n",
              "97                            Requiem for a Dream  ...     []\n",
              "98                                American Beauty  ...     []\n",
              "99                              Good Will Hunting  ...     []\n",
              "\n",
              "[100 rows x 9 columns]"
            ]
          },
          "metadata": {
            "tags": []
          },
          "execution_count": 38
        }
      ]
    },
    {
      "cell_type": "code",
      "metadata": {
        "id": "XnYoYOUzPYJL",
        "outputId": "49e88a74-307e-490a-8aee-45f6459416bd",
        "colab": {
          "base_uri": "https://localhost:8080/",
          "height": 164
        }
      },
      "source": [
        "genre[0] = listToString(genre()"
      ],
      "execution_count": 21,
      "outputs": [
        {
          "output_type": "error",
          "ename": "TypeError",
          "evalue": "ignored",
          "traceback": [
            "\u001b[0;31m---------------------------------------------------------------------------\u001b[0m",
            "\u001b[0;31mTypeError\u001b[0m                                 Traceback (most recent call last)",
            "\u001b[0;32m<ipython-input-21-effda95610e9>\u001b[0m in \u001b[0;36m<module>\u001b[0;34m()\u001b[0m\n\u001b[0;32m----> 1\u001b[0;31m \u001b[0mgenre\u001b[0m\u001b[0;34m[\u001b[0m\u001b[0;36m0\u001b[0m\u001b[0;34m]\u001b[0m \u001b[0;34m=\u001b[0m \u001b[0mlistToString\u001b[0m\u001b[0;34m(\u001b[0m\u001b[0mgenre\u001b[0m\u001b[0;34m(\u001b[0m\u001b[0;34m)\u001b[0m\u001b[0;34m)\u001b[0m\u001b[0;34m\u001b[0m\u001b[0;34m\u001b[0m\u001b[0m\n\u001b[0m",
            "\u001b[0;31mTypeError\u001b[0m: 'list' object is not callable"
          ]
        }
      ]
    },
    {
      "cell_type": "code",
      "metadata": {
        "id": "Rc1bGp0MP-kP",
        "outputId": "b096c11c-6c7c-4ddb-f567-b8c354fe7bc0",
        "colab": {
          "base_uri": "https://localhost:8080/",
          "height": 1000
        }
      },
      "source": [
        "# Python program to convert a list to string \n",
        "    \n",
        "# Function to convert   \n",
        "def listToString(genre):  \n",
        "    \n",
        "    # initialize an empty string \n",
        "    str1 = \"\"  \n",
        "    \n",
        "    # traverse in the string   \n",
        "    for ele in genre:  \n",
        "        str1 += ele   \n",
        "    \n",
        "    # return string   \n",
        "    return str1  \n",
        "        \n",
        "\n",
        "print(listToString(genre))  "
      ],
      "execution_count": 15,
      "outputs": [
        {
          "output_type": "stream",
          "text": [
            "\n",
            "Drama            \n",
            "Crime, Drama            \n",
            "Action, Crime, Drama            \n",
            "Crime, Drama            \n",
            "Action, Adventure, Drama            \n",
            "Crime, Drama            \n",
            "Biography, Drama, History            \n",
            "Crime, Drama            \n",
            "Action, Adventure, Sci-Fi            \n",
            "Drama            \n",
            "Action, Adventure, Drama            \n",
            "Drama, Romance            \n",
            "Western            \n",
            "Biography, Drama, History            \n",
            "Action, Adventure, Drama            \n",
            "Action, Sci-Fi            \n",
            "Biography, Crime, Drama            \n",
            "Action, Adventure, Fantasy            \n",
            "Drama            \n",
            "Comedy, Drama, Thriller            \n",
            "Adventure, Drama, Sci-Fi            \n",
            "Crime, Drama            \n",
            "Animation, Adventure, Family            \n",
            "Drama, War            \n",
            "Crime, Drama, Fantasy            \n",
            "Comedy, Drama, Romance            \n",
            "Crime, Drama, Mystery            \n",
            "Crime, Drama, Thriller            \n",
            "Action, Adventure, Fantasy            \n",
            "Action, Drama, Mystery            \n",
            "Action, Adventure, Drama            \n",
            "Drama, Family, Fantasy            \n",
            "Crime, Drama, Thriller            \n",
            "Drama, Music            \n",
            "Biography, Comedy, Drama            \n",
            "Drama, Mystery, Sci-Fi            \n",
            "Crime, Drama, Thriller            \n",
            "Biography, Drama, Music            \n",
            "Action, Adventure, Drama            \n",
            "Drama            \n",
            "Crime, Mystery, Thriller            \n",
            "Action, Crime, Drama            \n",
            "Animation, Adventure, Drama            \n",
            "Action, Sci-Fi            \n",
            "Drama            \n",
            "Animation, Drama, War            \n",
            "Adventure, Comedy, Sci-Fi            \n",
            "Drama, Musical            \n",
            "Western            \n",
            "Horror, Mystery, Thriller            \n",
            "Drama, Romance, War            \n",
            "Comedy, Drama, Family            \n",
            "Comedy, Drama, Romance            \n",
            "Drama            \n",
            "Biography, Drama, History            \n",
            "Animation, Drama, Fantasy            \n",
            "Action, Biography, Drama            \n",
            "Animation, Action, Adventure            \n",
            "Action, Adventure, Drama            \n",
            "Action, Adventure, Sci-Fi            \n",
            "Animation, Adventure, Family            \n",
            "Drama, Western            \n",
            "Action, Adventure            \n",
            "Comedy, Drama            \n",
            "Drama, Family            \n",
            "Animation, Adventure, Family            \n",
            "Drama, Mystery, Thriller            \n",
            "Action, Drama, Mystery            \n",
            "Mystery, Thriller            \n",
            "Animation, Adventure, Fantasy            \n",
            "Crime, Drama            \n",
            "Action, Adventure            \n",
            "Drama, Horror            \n",
            "Drama, Mystery, War            \n",
            "Horror, Sci-Fi            \n",
            "Crime, Drama, Mystery            \n",
            "Comedy            \n",
            "Crime, Drama, Mystery            \n",
            "Drama, War            \n",
            "Mystery, Thriller            \n",
            "Drama, Film-Noir            \n",
            "Comedy, Drama, War            \n",
            "Drama, War            \n",
            "Action, Drama, War            \n",
            "Drama, Fantasy, Horror            \n",
            "Crime, Thriller            \n",
            "Crime, Drama, Thriller            \n",
            "Drama            \n",
            "Drama, Thriller            \n",
            "Drama, Mystery, War            \n",
            "Drama            \n",
            "Drama, Family            \n",
            "Animation, Adventure, Comedy            \n",
            "Adventure, Drama, War            \n",
            "Drama, Romance, Sci-Fi            \n",
            "Comedy, Romance            \n",
            "Comedy, Crime            \n",
            "Drama            \n",
            "Drama            \n",
            "Drama, Romance            \n"
          ],
          "name": "stdout"
        }
      ]
    },
    {
      "cell_type": "code",
      "metadata": {
        "id": "JkqQH4RXRc2b",
        "outputId": "9504dae4-7b23-4c78-b751-95bc4cbc65a0",
        "colab": {
          "base_uri": "https://localhost:8080/",
          "height": 164
        }
      },
      "source": [
        "genre[0] = listToString(genre)"
      ],
      "execution_count": 22,
      "outputs": [
        {
          "output_type": "error",
          "ename": "AttributeError",
          "evalue": "ignored",
          "traceback": [
            "\u001b[0;31m---------------------------------------------------------------------------\u001b[0m",
            "\u001b[0;31mAttributeError\u001b[0m                            Traceback (most recent call last)",
            "\u001b[0;32m<ipython-input-22-55131a3e5d0a>\u001b[0m in \u001b[0;36m<module>\u001b[0;34m()\u001b[0m\n\u001b[0;32m----> 1\u001b[0;31m \u001b[0mgenre\u001b[0m\u001b[0;34m[\u001b[0m\u001b[0;36m0\u001b[0m\u001b[0;34m]\u001b[0m \u001b[0;34m=\u001b[0m \u001b[0mgenre\u001b[0m\u001b[0;34m.\u001b[0m\u001b[0msplit\u001b[0m\u001b[0;34m(\u001b[0m\u001b[0;34m)\u001b[0m\u001b[0;34m\u001b[0m\u001b[0;34m\u001b[0m\u001b[0m\n\u001b[0m",
            "\u001b[0;31mAttributeError\u001b[0m: 'list' object has no attribute 'split'"
          ]
        }
      ]
    },
    {
      "cell_type": "code",
      "metadata": {
        "id": "tW0mBSPgRdUo"
      },
      "source": [
        ""
      ],
      "execution_count": null,
      "outputs": []
    },
    {
      "cell_type": "markdown",
      "metadata": {
        "id": "vO6DL5jKS1RZ"
      },
      "source": [
        "genre = genre3.text.replace('\\n', '')\n",
        "\n",
        "imdb_rating[0].split()"
      ]
    },
    {
      "cell_type": "code",
      "metadata": {
        "id": "nec574vES1t4",
        "outputId": "c5578225-c94f-4744-ed8c-86924041592b",
        "colab": {
          "base_uri": "https://localhost:8080/",
          "height": 283
        }
      },
      "source": [
        "genrelist = listToString(genre)"
      ],
      "execution_count": 40,
      "outputs": [
        {
          "output_type": "error",
          "ename": "TypeError",
          "evalue": "ignored",
          "traceback": [
            "\u001b[0;31m---------------------------------------------------------------------------\u001b[0m",
            "\u001b[0;31mTypeError\u001b[0m                                 Traceback (most recent call last)",
            "\u001b[0;32m<ipython-input-40-5954fec08998>\u001b[0m in \u001b[0;36m<module>\u001b[0;34m()\u001b[0m\n\u001b[0;32m----> 1\u001b[0;31m \u001b[0mgenrelist\u001b[0m \u001b[0;34m=\u001b[0m \u001b[0mlistToString\u001b[0m\u001b[0;34m(\u001b[0m\u001b[0mgenre\u001b[0m\u001b[0;34m)\u001b[0m\u001b[0;34m\u001b[0m\u001b[0;34m\u001b[0m\u001b[0m\n\u001b[0m",
            "\u001b[0;32m<ipython-input-15-c81733298bf3>\u001b[0m in \u001b[0;36mlistToString\u001b[0;34m(genre)\u001b[0m\n\u001b[1;32m      9\u001b[0m     \u001b[0;31m# traverse in the string\u001b[0m\u001b[0;34m\u001b[0m\u001b[0;34m\u001b[0m\u001b[0;34m\u001b[0m\u001b[0m\n\u001b[1;32m     10\u001b[0m     \u001b[0;32mfor\u001b[0m \u001b[0mele\u001b[0m \u001b[0;32min\u001b[0m \u001b[0mgenre\u001b[0m\u001b[0;34m:\u001b[0m\u001b[0;34m\u001b[0m\u001b[0;34m\u001b[0m\u001b[0m\n\u001b[0;32m---> 11\u001b[0;31m         \u001b[0mstr1\u001b[0m \u001b[0;34m+=\u001b[0m \u001b[0mele\u001b[0m\u001b[0;34m\u001b[0m\u001b[0;34m\u001b[0m\u001b[0m\n\u001b[0m\u001b[1;32m     12\u001b[0m \u001b[0;34m\u001b[0m\u001b[0m\n\u001b[1;32m     13\u001b[0m     \u001b[0;31m# return string\u001b[0m\u001b[0;34m\u001b[0m\u001b[0;34m\u001b[0m\u001b[0;34m\u001b[0m\u001b[0m\n",
            "\u001b[0;31mTypeError\u001b[0m: must be str, not NoneType"
          ]
        }
      ]
    },
    {
      "cell_type": "code",
      "metadata": {
        "id": "QqVrrSeGS_ry"
      },
      "source": [
        "genrelist1 = genrelist.replace('\\n', ',')"
      ],
      "execution_count": 41,
      "outputs": []
    },
    {
      "cell_type": "code",
      "metadata": {
        "id": "nBDl-IX6T5q0",
        "outputId": "0612cc5d-d7a7-4b24-cde8-7eab4599bcd1",
        "colab": {
          "base_uri": "https://localhost:8080/",
          "height": 54
        }
      },
      "source": [
        "print(genrelist1)"
      ],
      "execution_count": 42,
      "outputs": [
        {
          "output_type": "stream",
          "text": [
            "Drama            Crime, Drama            Action, Crime, Drama            Crime, Drama            Action, Adventure, Drama            Crime, Drama            Biography, Drama, History            Crime, Drama            Action, Adventure, Sci-Fi            Drama            Action, Adventure, Drama            Drama, Romance            Western            Biography, Drama, History            Action, Adventure, Drama            Action, Sci-Fi            Biography, Crime, Drama            Action, Adventure, Fantasy            Drama            Comedy, Drama, Thriller            Adventure, Drama, Sci-Fi            Crime, Drama            Animation, Adventure, Family            Drama, War            Crime, Drama, Fantasy            Comedy, Drama, Romance            Crime, Drama, Mystery            Crime, Drama, Thriller            Action, Adventure, Fantasy            Action, Drama, Mystery            Action, Adventure, Drama            Drama, Family, Fantasy            Crime, Drama, Thriller            Drama, Music            Biography, Comedy, Drama            Drama, Mystery, Sci-Fi            Crime, Drama, Thriller            Biography, Drama, Music            Action, Adventure, Drama            Drama            Crime, Mystery, Thriller            Action, Crime, Drama            Animation, Adventure, Drama            Action, Sci-Fi            Drama            Animation, Drama, War            Adventure, Comedy, Sci-Fi            Drama, Musical            Western            Horror, Mystery, Thriller            Drama, Romance, War            Comedy, Drama, Family            Comedy, Drama, Romance            Drama            Biography, Drama, History            Animation, Drama, Fantasy            Action, Biography, Drama            Animation, Action, Adventure            Action, Adventure, Drama            Action, Adventure, Sci-Fi            Animation, Adventure, Family            Drama, Western            Action, Adventure            Comedy, Drama            Drama, Family            Animation, Adventure, Family            Drama, Mystery, Thriller            Action, Drama, Mystery            Mystery, Thriller            Animation, Adventure, Fantasy            Crime, Drama            Action, Adventure            Drama, Horror            Drama, Mystery, War            Horror, Sci-Fi            Crime, Drama, Mystery            Comedy            Crime, Drama, Mystery            Drama, War            Mystery, Thriller            Drama, Film-Noir            Comedy, Drama, War            Drama, War            Action, Drama, War            Drama, Fantasy, Horror            Crime, Thriller            Crime, Drama, Thriller            Drama            Drama, Thriller            Drama, Mystery, War            Drama            Drama, Family            Animation, Adventure, Comedy            Adventure, Drama, War            Drama, Romance, Sci-Fi            Comedy, Romance            Comedy, Crime            Drama            Drama            Drama, Romance            \n"
          ],
          "name": "stdout"
        }
      ]
    },
    {
      "cell_type": "code",
      "metadata": {
        "id": "vLJNz6r3T8Yf",
        "outputId": "7f17883f-36f9-4c40-daa6-6511767057ec",
        "colab": {
          "base_uri": "https://localhost:8080/",
          "height": 54
        }
      },
      "source": [
        "genrelist2 = genrelist.split()\n",
        "print(genrelist2)"
      ],
      "execution_count": 43,
      "outputs": [
        {
          "output_type": "stream",
          "text": [
            "['Drama', 'Crime,', 'Drama', 'Action,', 'Crime,', 'Drama', 'Crime,', 'Drama', 'Action,', 'Adventure,', 'Drama', 'Crime,', 'Drama', 'Biography,', 'Drama,', 'History', 'Crime,', 'Drama', 'Action,', 'Adventure,', 'Sci-Fi', 'Drama', 'Action,', 'Adventure,', 'Drama', 'Drama,', 'Romance', 'Western', 'Biography,', 'Drama,', 'History', 'Action,', 'Adventure,', 'Drama', 'Action,', 'Sci-Fi', 'Biography,', 'Crime,', 'Drama', 'Action,', 'Adventure,', 'Fantasy', 'Drama', 'Comedy,', 'Drama,', 'Thriller', 'Adventure,', 'Drama,', 'Sci-Fi', 'Crime,', 'Drama', 'Animation,', 'Adventure,', 'Family', 'Drama,', 'War', 'Crime,', 'Drama,', 'Fantasy', 'Comedy,', 'Drama,', 'Romance', 'Crime,', 'Drama,', 'Mystery', 'Crime,', 'Drama,', 'Thriller', 'Action,', 'Adventure,', 'Fantasy', 'Action,', 'Drama,', 'Mystery', 'Action,', 'Adventure,', 'Drama', 'Drama,', 'Family,', 'Fantasy', 'Crime,', 'Drama,', 'Thriller', 'Drama,', 'Music', 'Biography,', 'Comedy,', 'Drama', 'Drama,', 'Mystery,', 'Sci-Fi', 'Crime,', 'Drama,', 'Thriller', 'Biography,', 'Drama,', 'Music', 'Action,', 'Adventure,', 'Drama', 'Drama', 'Crime,', 'Mystery,', 'Thriller', 'Action,', 'Crime,', 'Drama', 'Animation,', 'Adventure,', 'Drama', 'Action,', 'Sci-Fi', 'Drama', 'Animation,', 'Drama,', 'War', 'Adventure,', 'Comedy,', 'Sci-Fi', 'Drama,', 'Musical', 'Western', 'Horror,', 'Mystery,', 'Thriller', 'Drama,', 'Romance,', 'War', 'Comedy,', 'Drama,', 'Family', 'Comedy,', 'Drama,', 'Romance', 'Drama', 'Biography,', 'Drama,', 'History', 'Animation,', 'Drama,', 'Fantasy', 'Action,', 'Biography,', 'Drama', 'Animation,', 'Action,', 'Adventure', 'Action,', 'Adventure,', 'Drama', 'Action,', 'Adventure,', 'Sci-Fi', 'Animation,', 'Adventure,', 'Family', 'Drama,', 'Western', 'Action,', 'Adventure', 'Comedy,', 'Drama', 'Drama,', 'Family', 'Animation,', 'Adventure,', 'Family', 'Drama,', 'Mystery,', 'Thriller', 'Action,', 'Drama,', 'Mystery', 'Mystery,', 'Thriller', 'Animation,', 'Adventure,', 'Fantasy', 'Crime,', 'Drama', 'Action,', 'Adventure', 'Drama,', 'Horror', 'Drama,', 'Mystery,', 'War', 'Horror,', 'Sci-Fi', 'Crime,', 'Drama,', 'Mystery', 'Comedy', 'Crime,', 'Drama,', 'Mystery', 'Drama,', 'War', 'Mystery,', 'Thriller', 'Drama,', 'Film-Noir', 'Comedy,', 'Drama,', 'War', 'Drama,', 'War', 'Action,', 'Drama,', 'War', 'Drama,', 'Fantasy,', 'Horror', 'Crime,', 'Thriller', 'Crime,', 'Drama,', 'Thriller', 'Drama', 'Drama,', 'Thriller', 'Drama,', 'Mystery,', 'War', 'Drama', 'Drama,', 'Family', 'Animation,', 'Adventure,', 'Comedy', 'Adventure,', 'Drama,', 'War', 'Drama,', 'Romance,', 'Sci-Fi', 'Comedy,', 'Romance', 'Comedy,', 'Crime', 'Drama', 'Drama', 'Drama,', 'Romance']\n"
          ],
          "name": "stdout"
        }
      ]
    },
    {
      "cell_type": "code",
      "metadata": {
        "id": "jeU-pTutUaVL",
        "outputId": "09c0e223-0d74-4d8e-ba31-7952b715cb24",
        "colab": {
          "base_uri": "https://localhost:8080/",
          "height": 1000
        }
      },
      "source": [
        "genrelist3 = genrelist.replace(',', ' &')\n",
        "print(genrelist3)"
      ],
      "execution_count": 69,
      "outputs": [
        {
          "output_type": "stream",
          "text": [
            "\n",
            "Drama            \n",
            "Crime & Drama            \n",
            "Action & Crime & Drama            \n",
            "Crime & Drama            \n",
            "Action & Adventure & Drama            \n",
            "Crime & Drama            \n",
            "Biography & Drama & History            \n",
            "Crime & Drama            \n",
            "Action & Adventure & Sci-Fi            \n",
            "Drama            \n",
            "Action & Adventure & Drama            \n",
            "Drama & Romance            \n",
            "Western            \n",
            "Biography & Drama & History            \n",
            "Action & Adventure & Drama            \n",
            "Action & Sci-Fi            \n",
            "Biography & Crime & Drama            \n",
            "Action & Adventure & Fantasy            \n",
            "Drama            \n",
            "Comedy & Drama & Thriller            \n",
            "Adventure & Drama & Sci-Fi            \n",
            "Crime & Drama            \n",
            "Animation & Adventure & Family            \n",
            "Drama & War            \n",
            "Crime & Drama & Fantasy            \n",
            "Comedy & Drama & Romance            \n",
            "Crime & Drama & Mystery            \n",
            "Crime & Drama & Thriller            \n",
            "Action & Adventure & Fantasy            \n",
            "Action & Drama & Mystery            \n",
            "Action & Adventure & Drama            \n",
            "Drama & Family & Fantasy            \n",
            "Crime & Drama & Thriller            \n",
            "Drama & Music            \n",
            "Biography & Comedy & Drama            \n",
            "Drama & Mystery & Sci-Fi            \n",
            "Crime & Drama & Thriller            \n",
            "Biography & Drama & Music            \n",
            "Action & Adventure & Drama            \n",
            "Drama            \n",
            "Crime & Mystery & Thriller            \n",
            "Action & Crime & Drama            \n",
            "Animation & Adventure & Drama            \n",
            "Action & Sci-Fi            \n",
            "Drama            \n",
            "Animation & Drama & War            \n",
            "Adventure & Comedy & Sci-Fi            \n",
            "Drama & Musical            \n",
            "Western            \n",
            "Horror & Mystery & Thriller            \n",
            "Drama & Romance & War            \n",
            "Comedy & Drama & Family            \n",
            "Comedy & Drama & Romance            \n",
            "Drama            \n",
            "Biography & Drama & History            \n",
            "Animation & Drama & Fantasy            \n",
            "Action & Biography & Drama            \n",
            "Animation & Action & Adventure            \n",
            "Action & Adventure & Drama            \n",
            "Action & Adventure & Sci-Fi            \n",
            "Animation & Adventure & Family            \n",
            "Drama & Western            \n",
            "Action & Adventure            \n",
            "Comedy & Drama            \n",
            "Drama & Family            \n",
            "Animation & Adventure & Family            \n",
            "Drama & Mystery & Thriller            \n",
            "Action & Drama & Mystery            \n",
            "Mystery & Thriller            \n",
            "Animation & Adventure & Fantasy            \n",
            "Crime & Drama            \n",
            "Action & Adventure            \n",
            "Drama & Horror            \n",
            "Drama & Mystery & War            \n",
            "Horror & Sci-Fi            \n",
            "Crime & Drama & Mystery            \n",
            "Comedy            \n",
            "Crime & Drama & Mystery            \n",
            "Drama & War            \n",
            "Mystery & Thriller            \n",
            "Drama & Film-Noir            \n",
            "Comedy & Drama & War            \n",
            "Drama & War            \n",
            "Action & Drama & War            \n",
            "Drama & Fantasy & Horror            \n",
            "Crime & Thriller            \n",
            "Crime & Drama & Thriller            \n",
            "Drama            \n",
            "Drama & Thriller            \n",
            "Drama & Mystery & War            \n",
            "Drama            \n",
            "Drama & Family            \n",
            "Animation & Adventure & Comedy            \n",
            "Adventure & Drama & War            \n",
            "Drama & Romance & Sci-Fi            \n",
            "Comedy & Romance            \n",
            "Comedy & Crime            \n",
            "Drama            \n",
            "Drama            \n",
            "Drama & Romance            \n"
          ],
          "name": "stdout"
        }
      ]
    },
    {
      "cell_type": "code",
      "metadata": {
        "id": "NoSfw0C9U78V"
      },
      "source": [
        ""
      ],
      "execution_count": null,
      "outputs": []
    },
    {
      "cell_type": "markdown",
      "metadata": {
        "id": "ABrXZgJlVCWo"
      },
      "source": [
        "make this srting into a list***"
      ]
    },
    {
      "cell_type": "code",
      "metadata": {
        "id": "HPktUmPViI3_",
        "outputId": "22423cbd-a5af-4218-8dbd-2746eef97bcd",
        "colab": {
          "base_uri": "https://localhost:8080/",
          "height": 120
        }
      },
      "source": [
        "genrelist3. replace('\\n\\n','')\n",
        "genrelist3.replace('\\n','')"
      ],
      "execution_count": 57,
      "outputs": [
        {
          "output_type": "execute_result",
          "data": {
            "application/vnd.google.colaboratory.intrinsic+json": {
              "type": "string"
            },
            "text/plain": [
              "'Drama            Crime & Drama            Action & Crime & Drama            Crime & Drama            Action & Adventure & Drama            Crime & Drama            Biography & Drama & History            Crime & Drama            Action & Adventure & Sci-Fi            Drama            Action & Adventure & Drama            Drama & Romance            Western            Biography & Drama & History            Action & Adventure & Drama            Action & Sci-Fi            Biography & Crime & Drama            Action & Adventure & Fantasy            Drama            Comedy & Drama & Thriller            Adventure & Drama & Sci-Fi            Crime & Drama            Animation & Adventure & Family            Drama & War            Crime & Drama & Fantasy            Comedy & Drama & Romance            Crime & Drama & Mystery            Crime & Drama & Thriller            Action & Adventure & Fantasy            Action & Drama & Mystery            Action & Adventure & Drama            Drama & Family & Fantasy            Crime & Drama & Thriller            Drama & Music            Biography & Comedy & Drama            Drama & Mystery & Sci-Fi            Crime & Drama & Thriller            Biography & Drama & Music            Action & Adventure & Drama            Drama            Crime & Mystery & Thriller            Action & Crime & Drama            Animation & Adventure & Drama            Action & Sci-Fi            Drama            Animation & Drama & War            Adventure & Comedy & Sci-Fi            Drama & Musical            Western            Horror & Mystery & Thriller            Drama & Romance & War            Comedy & Drama & Family            Comedy & Drama & Romance            Drama            Biography & Drama & History            Animation & Drama & Fantasy            Action & Biography & Drama            Animation & Action & Adventure            Action & Adventure & Drama            Action & Adventure & Sci-Fi            Animation & Adventure & Family            Drama & Western            Action & Adventure            Comedy & Drama            Drama & Family            Animation & Adventure & Family            Drama & Mystery & Thriller            Action & Drama & Mystery            Mystery & Thriller            Animation & Adventure & Fantasy            Crime & Drama            Action & Adventure            Drama & Horror            Drama & Mystery & War            Horror & Sci-Fi            Crime & Drama & Mystery            Comedy            Crime & Drama & Mystery            Drama & War            Mystery & Thriller            Drama & Film-Noir            Comedy & Drama & War            Drama & War            Action & Drama & War            Drama & Fantasy & Horror            Crime & Thriller            Crime & Drama & Thriller            Drama            Drama & Thriller            Drama & Mystery & War            Drama            Drama & Family            Animation & Adventure & Comedy            Adventure & Drama & War            Drama & Romance & Sci-Fi            Comedy & Romance            Comedy & Crime            Drama            Drama            Drama & Romance            '"
            ]
          },
          "metadata": {
            "tags": []
          },
          "execution_count": 57
        }
      ]
    },
    {
      "cell_type": "code",
      "metadata": {
        "id": "OIWTxcPFi0TR",
        "outputId": "492f2e9a-abfd-43ca-f6a0-d43bb3f03de6",
        "colab": {
          "base_uri": "https://localhost:8080/",
          "height": 419
        }
      },
      "source": [
        "titles = extract_attribute(soup, 'a')\n",
        "release = extract_attribute(soup, 'span', 'lister-item-year text-muted unbold')\n",
        "audience_rating = extract_attribute(soup, 'span', 'certificate')\n",
        "runtime = extract_attribute(soup, 'span', 'runtime')\n",
        "genre = extract_attribute(soup, 'span', 'genrelist3') \n",
        "imdb_rating = extract_attribute(soup, 'div', 'inline-block ratings-imdb-rating', False)\n",
        "votes = extract_attribute(soup, 'span' , {'name' : 'nv'}, False, 0)\n",
        "earnings = extract_attribute(soup, 'span' , {'name' : 'nv'}, False, 1)\n",
        "#directors = extract_attribute(soup, 'p', '', 'a', '', True, 0, True)\n",
        "actors = extract_attribute(soup, 'p', '', 'a', '', True, slice(1, 5, None), True)\n",
        "\n",
        "\n",
        "df_dict = {'Title': titles, 'Relase': release, 'Audience Rating': audience_rating,\n",
        "           'Runtime': runtime, 'Genre': genre, 'IMDB Rating': imdb_rating,\n",
        "           'Votes': votes, 'Box Office Earnings': earnings, \n",
        "           'Actors': actors} #'Director': directors,\n",
        "df = pd.DataFrame(df_dict)\n",
        "df"
      ],
      "execution_count": 58,
      "outputs": [
        {
          "output_type": "execute_result",
          "data": {
            "text/html": [
              "<div>\n",
              "<style scoped>\n",
              "    .dataframe tbody tr th:only-of-type {\n",
              "        vertical-align: middle;\n",
              "    }\n",
              "\n",
              "    .dataframe tbody tr th {\n",
              "        vertical-align: top;\n",
              "    }\n",
              "\n",
              "    .dataframe thead th {\n",
              "        text-align: right;\n",
              "    }\n",
              "</style>\n",
              "<table border=\"1\" class=\"dataframe\">\n",
              "  <thead>\n",
              "    <tr style=\"text-align: right;\">\n",
              "      <th></th>\n",
              "      <th>Title</th>\n",
              "      <th>Relase</th>\n",
              "      <th>Audience Rating</th>\n",
              "      <th>Runtime</th>\n",
              "      <th>Genre</th>\n",
              "      <th>IMDB Rating</th>\n",
              "      <th>Votes</th>\n",
              "      <th>Box Office Earnings</th>\n",
              "      <th>Actors</th>\n",
              "    </tr>\n",
              "  </thead>\n",
              "  <tbody>\n",
              "    <tr>\n",
              "      <th>0</th>\n",
              "      <td>The Shawshank Redemption</td>\n",
              "      <td>(1994)</td>\n",
              "      <td>R</td>\n",
              "      <td>142 min</td>\n",
              "      <td>None</td>\n",
              "      <td>\\n\\n9.3\\n</td>\n",
              "      <td>2,293,043</td>\n",
              "      <td>2,293,043</td>\n",
              "      <td>[]</td>\n",
              "    </tr>\n",
              "    <tr>\n",
              "      <th>1</th>\n",
              "      <td>The Godfather</td>\n",
              "      <td>(1972)</td>\n",
              "      <td>R</td>\n",
              "      <td>175 min</td>\n",
              "      <td>None</td>\n",
              "      <td>\\n\\n9.2\\n</td>\n",
              "      <td>1,582,807</td>\n",
              "      <td>1,582,807</td>\n",
              "      <td>[]</td>\n",
              "    </tr>\n",
              "    <tr>\n",
              "      <th>2</th>\n",
              "      <td>The Dark Knight</td>\n",
              "      <td>(2008)</td>\n",
              "      <td>PG-13</td>\n",
              "      <td>152 min</td>\n",
              "      <td>None</td>\n",
              "      <td>\\n\\n9.0\\n</td>\n",
              "      <td>2,258,091</td>\n",
              "      <td>2,258,091</td>\n",
              "      <td>[]</td>\n",
              "    </tr>\n",
              "    <tr>\n",
              "      <th>3</th>\n",
              "      <td>The Godfather: Part II</td>\n",
              "      <td>(1974)</td>\n",
              "      <td>R</td>\n",
              "      <td>202 min</td>\n",
              "      <td>None</td>\n",
              "      <td>\\n\\n9.0\\n</td>\n",
              "      <td>1,105,811</td>\n",
              "      <td>1,105,811</td>\n",
              "      <td>[]</td>\n",
              "    </tr>\n",
              "    <tr>\n",
              "      <th>4</th>\n",
              "      <td>The Lord of the Rings: The Return of the King</td>\n",
              "      <td>(2003)</td>\n",
              "      <td>PG-13</td>\n",
              "      <td>201 min</td>\n",
              "      <td>None</td>\n",
              "      <td>\\n\\n8.9\\n</td>\n",
              "      <td>1,612,731</td>\n",
              "      <td>1,612,731</td>\n",
              "      <td>[]</td>\n",
              "    </tr>\n",
              "    <tr>\n",
              "      <th>...</th>\n",
              "      <td>...</td>\n",
              "      <td>...</td>\n",
              "      <td>...</td>\n",
              "      <td>...</td>\n",
              "      <td>...</td>\n",
              "      <td>...</td>\n",
              "      <td>...</td>\n",
              "      <td>...</td>\n",
              "      <td>...</td>\n",
              "    </tr>\n",
              "    <tr>\n",
              "      <th>95</th>\n",
              "      <td>Amélie</td>\n",
              "      <td>(2001)</td>\n",
              "      <td>R</td>\n",
              "      <td>122 min</td>\n",
              "      <td>None</td>\n",
              "      <td>\\n\\n8.3\\n</td>\n",
              "      <td>693,492</td>\n",
              "      <td>693,492</td>\n",
              "      <td>[]</td>\n",
              "    </tr>\n",
              "    <tr>\n",
              "      <th>96</th>\n",
              "      <td>Snatch</td>\n",
              "      <td>(2000)</td>\n",
              "      <td>R</td>\n",
              "      <td>102 min</td>\n",
              "      <td>None</td>\n",
              "      <td>\\n\\n8.3\\n</td>\n",
              "      <td>770,156</td>\n",
              "      <td>770,156</td>\n",
              "      <td>[]</td>\n",
              "    </tr>\n",
              "    <tr>\n",
              "      <th>97</th>\n",
              "      <td>Requiem for a Dream</td>\n",
              "      <td>(2000)</td>\n",
              "      <td>R</td>\n",
              "      <td>102 min</td>\n",
              "      <td>None</td>\n",
              "      <td>\\n\\n8.3\\n</td>\n",
              "      <td>752,813</td>\n",
              "      <td>752,813</td>\n",
              "      <td>[]</td>\n",
              "    </tr>\n",
              "    <tr>\n",
              "      <th>98</th>\n",
              "      <td>American Beauty</td>\n",
              "      <td>(1999)</td>\n",
              "      <td>R</td>\n",
              "      <td>122 min</td>\n",
              "      <td>None</td>\n",
              "      <td>\\n\\n8.3\\n</td>\n",
              "      <td>1,053,783</td>\n",
              "      <td>1,053,783</td>\n",
              "      <td>[]</td>\n",
              "    </tr>\n",
              "    <tr>\n",
              "      <th>99</th>\n",
              "      <td>Good Will Hunting</td>\n",
              "      <td>(1997)</td>\n",
              "      <td>R</td>\n",
              "      <td>126 min</td>\n",
              "      <td>None</td>\n",
              "      <td>\\n\\n8.3\\n</td>\n",
              "      <td>843,068</td>\n",
              "      <td>843,068</td>\n",
              "      <td>[]</td>\n",
              "    </tr>\n",
              "  </tbody>\n",
              "</table>\n",
              "<p>100 rows × 9 columns</p>\n",
              "</div>"
            ],
            "text/plain": [
              "                                            Title  ... Actors\n",
              "0                        The Shawshank Redemption  ...     []\n",
              "1                                   The Godfather  ...     []\n",
              "2                                 The Dark Knight  ...     []\n",
              "3                          The Godfather: Part II  ...     []\n",
              "4   The Lord of the Rings: The Return of the King  ...     []\n",
              "..                                            ...  ...    ...\n",
              "95                                         Amélie  ...     []\n",
              "96                                         Snatch  ...     []\n",
              "97                            Requiem for a Dream  ...     []\n",
              "98                                American Beauty  ...     []\n",
              "99                              Good Will Hunting  ...     []\n",
              "\n",
              "[100 rows x 9 columns]"
            ]
          },
          "metadata": {
            "tags": []
          },
          "execution_count": 58
        }
      ]
    },
    {
      "cell_type": "markdown",
      "metadata": {
        "id": "SWOYFl42izrA"
      },
      "source": [
        ""
      ]
    },
    {
      "cell_type": "code",
      "metadata": {
        "id": "DVEuLmkRhbi5",
        "outputId": "9041b16f-7e2b-4b9e-e431-d67c94e92eec",
        "colab": {
          "base_uri": "https://localhost:8080/",
          "height": 54
        }
      },
      "source": [
        "# Python code to convert string to list \n",
        "  \n",
        "def Convert(string): \n",
        "    li = list(string.split(\" \")) \n",
        "    return li \n",
        "  \n",
        "print(Convert(genrelist3))"
      ],
      "execution_count": 62,
      "outputs": [
        {
          "output_type": "stream",
          "text": [
            "['\\nDrama', '', '', '', '', '', '', '', '', '', '', '', '\\nCrime', '&', 'Drama', '', '', '', '', '', '', '', '', '', '', '', '\\nAction', '&', 'Crime', '&', 'Drama', '', '', '', '', '', '', '', '', '', '', '', '\\nCrime', '&', 'Drama', '', '', '', '', '', '', '', '', '', '', '', '\\nAction', '&', 'Adventure', '&', 'Drama', '', '', '', '', '', '', '', '', '', '', '', '\\nCrime', '&', 'Drama', '', '', '', '', '', '', '', '', '', '', '', '\\nBiography', '&', 'Drama', '&', 'History', '', '', '', '', '', '', '', '', '', '', '', '\\nCrime', '&', 'Drama', '', '', '', '', '', '', '', '', '', '', '', '\\nAction', '&', 'Adventure', '&', 'Sci-Fi', '', '', '', '', '', '', '', '', '', '', '', '\\nDrama', '', '', '', '', '', '', '', '', '', '', '', '\\nAction', '&', 'Adventure', '&', 'Drama', '', '', '', '', '', '', '', '', '', '', '', '\\nDrama', '&', 'Romance', '', '', '', '', '', '', '', '', '', '', '', '\\nWestern', '', '', '', '', '', '', '', '', '', '', '', '\\nBiography', '&', 'Drama', '&', 'History', '', '', '', '', '', '', '', '', '', '', '', '\\nAction', '&', 'Adventure', '&', 'Drama', '', '', '', '', '', '', '', '', '', '', '', '\\nAction', '&', 'Sci-Fi', '', '', '', '', '', '', '', '', '', '', '', '\\nBiography', '&', 'Crime', '&', 'Drama', '', '', '', '', '', '', '', '', '', '', '', '\\nAction', '&', 'Adventure', '&', 'Fantasy', '', '', '', '', '', '', '', '', '', '', '', '\\nDrama', '', '', '', '', '', '', '', '', '', '', '', '\\nComedy', '&', 'Drama', '&', 'Thriller', '', '', '', '', '', '', '', '', '', '', '', '\\nAdventure', '&', 'Drama', '&', 'Sci-Fi', '', '', '', '', '', '', '', '', '', '', '', '\\nCrime', '&', 'Drama', '', '', '', '', '', '', '', '', '', '', '', '\\nAnimation', '&', 'Adventure', '&', 'Family', '', '', '', '', '', '', '', '', '', '', '', '\\nDrama', '&', 'War', '', '', '', '', '', '', '', '', '', '', '', '\\nCrime', '&', 'Drama', '&', 'Fantasy', '', '', '', '', '', '', '', '', '', '', '', '\\nComedy', '&', 'Drama', '&', 'Romance', '', '', '', '', '', '', '', '', '', '', '', '\\nCrime', '&', 'Drama', '&', 'Mystery', '', '', '', '', '', '', '', '', '', '', '', '\\nCrime', '&', 'Drama', '&', 'Thriller', '', '', '', '', '', '', '', '', '', '', '', '\\nAction', '&', 'Adventure', '&', 'Fantasy', '', '', '', '', '', '', '', '', '', '', '', '\\nAction', '&', 'Drama', '&', 'Mystery', '', '', '', '', '', '', '', '', '', '', '', '\\nAction', '&', 'Adventure', '&', 'Drama', '', '', '', '', '', '', '', '', '', '', '', '\\nDrama', '&', 'Family', '&', 'Fantasy', '', '', '', '', '', '', '', '', '', '', '', '\\nCrime', '&', 'Drama', '&', 'Thriller', '', '', '', '', '', '', '', '', '', '', '', '\\nDrama', '&', 'Music', '', '', '', '', '', '', '', '', '', '', '', '\\nBiography', '&', 'Comedy', '&', 'Drama', '', '', '', '', '', '', '', '', '', '', '', '\\nDrama', '&', 'Mystery', '&', 'Sci-Fi', '', '', '', '', '', '', '', '', '', '', '', '\\nCrime', '&', 'Drama', '&', 'Thriller', '', '', '', '', '', '', '', '', '', '', '', '\\nBiography', '&', 'Drama', '&', 'Music', '', '', '', '', '', '', '', '', '', '', '', '\\nAction', '&', 'Adventure', '&', 'Drama', '', '', '', '', '', '', '', '', '', '', '', '\\nDrama', '', '', '', '', '', '', '', '', '', '', '', '\\nCrime', '&', 'Mystery', '&', 'Thriller', '', '', '', '', '', '', '', '', '', '', '', '\\nAction', '&', 'Crime', '&', 'Drama', '', '', '', '', '', '', '', '', '', '', '', '\\nAnimation', '&', 'Adventure', '&', 'Drama', '', '', '', '', '', '', '', '', '', '', '', '\\nAction', '&', 'Sci-Fi', '', '', '', '', '', '', '', '', '', '', '', '\\nDrama', '', '', '', '', '', '', '', '', '', '', '', '\\nAnimation', '&', 'Drama', '&', 'War', '', '', '', '', '', '', '', '', '', '', '', '\\nAdventure', '&', 'Comedy', '&', 'Sci-Fi', '', '', '', '', '', '', '', '', '', '', '', '\\nDrama', '&', 'Musical', '', '', '', '', '', '', '', '', '', '', '', '\\nWestern', '', '', '', '', '', '', '', '', '', '', '', '\\nHorror', '&', 'Mystery', '&', 'Thriller', '', '', '', '', '', '', '', '', '', '', '', '\\nDrama', '&', 'Romance', '&', 'War', '', '', '', '', '', '', '', '', '', '', '', '\\nComedy', '&', 'Drama', '&', 'Family', '', '', '', '', '', '', '', '', '', '', '', '\\nComedy', '&', 'Drama', '&', 'Romance', '', '', '', '', '', '', '', '', '', '', '', '\\nDrama', '', '', '', '', '', '', '', '', '', '', '', '\\nBiography', '&', 'Drama', '&', 'History', '', '', '', '', '', '', '', '', '', '', '', '\\nAnimation', '&', 'Drama', '&', 'Fantasy', '', '', '', '', '', '', '', '', '', '', '', '\\nAction', '&', 'Biography', '&', 'Drama', '', '', '', '', '', '', '', '', '', '', '', '\\nAnimation', '&', 'Action', '&', 'Adventure', '', '', '', '', '', '', '', '', '', '', '', '\\nAction', '&', 'Adventure', '&', 'Drama', '', '', '', '', '', '', '', '', '', '', '', '\\nAction', '&', 'Adventure', '&', 'Sci-Fi', '', '', '', '', '', '', '', '', '', '', '', '\\nAnimation', '&', 'Adventure', '&', 'Family', '', '', '', '', '', '', '', '', '', '', '', '\\nDrama', '&', 'Western', '', '', '', '', '', '', '', '', '', '', '', '\\nAction', '&', 'Adventure', '', '', '', '', '', '', '', '', '', '', '', '\\nComedy', '&', 'Drama', '', '', '', '', '', '', '', '', '', '', '', '\\nDrama', '&', 'Family', '', '', '', '', '', '', '', '', '', '', '', '\\nAnimation', '&', 'Adventure', '&', 'Family', '', '', '', '', '', '', '', '', '', '', '', '\\nDrama', '&', 'Mystery', '&', 'Thriller', '', '', '', '', '', '', '', '', '', '', '', '\\nAction', '&', 'Drama', '&', 'Mystery', '', '', '', '', '', '', '', '', '', '', '', '\\nMystery', '&', 'Thriller', '', '', '', '', '', '', '', '', '', '', '', '\\nAnimation', '&', 'Adventure', '&', 'Fantasy', '', '', '', '', '', '', '', '', '', '', '', '\\nCrime', '&', 'Drama', '', '', '', '', '', '', '', '', '', '', '', '\\nAction', '&', 'Adventure', '', '', '', '', '', '', '', '', '', '', '', '\\nDrama', '&', 'Horror', '', '', '', '', '', '', '', '', '', '', '', '\\nDrama', '&', 'Mystery', '&', 'War', '', '', '', '', '', '', '', '', '', '', '', '\\nHorror', '&', 'Sci-Fi', '', '', '', '', '', '', '', '', '', '', '', '\\nCrime', '&', 'Drama', '&', 'Mystery', '', '', '', '', '', '', '', '', '', '', '', '\\nComedy', '', '', '', '', '', '', '', '', '', '', '', '\\nCrime', '&', 'Drama', '&', 'Mystery', '', '', '', '', '', '', '', '', '', '', '', '\\nDrama', '&', 'War', '', '', '', '', '', '', '', '', '', '', '', '\\nMystery', '&', 'Thriller', '', '', '', '', '', '', '', '', '', '', '', '\\nDrama', '&', 'Film-Noir', '', '', '', '', '', '', '', '', '', '', '', '\\nComedy', '&', 'Drama', '&', 'War', '', '', '', '', '', '', '', '', '', '', '', '\\nDrama', '&', 'War', '', '', '', '', '', '', '', '', '', '', '', '\\nAction', '&', 'Drama', '&', 'War', '', '', '', '', '', '', '', '', '', '', '', '\\nDrama', '&', 'Fantasy', '&', 'Horror', '', '', '', '', '', '', '', '', '', '', '', '\\nCrime', '&', 'Thriller', '', '', '', '', '', '', '', '', '', '', '', '\\nCrime', '&', 'Drama', '&', 'Thriller', '', '', '', '', '', '', '', '', '', '', '', '\\nDrama', '', '', '', '', '', '', '', '', '', '', '', '\\nDrama', '&', 'Thriller', '', '', '', '', '', '', '', '', '', '', '', '\\nDrama', '&', 'Mystery', '&', 'War', '', '', '', '', '', '', '', '', '', '', '', '\\nDrama', '', '', '', '', '', '', '', '', '', '', '', '\\nDrama', '&', 'Family', '', '', '', '', '', '', '', '', '', '', '', '\\nAnimation', '&', 'Adventure', '&', 'Comedy', '', '', '', '', '', '', '', '', '', '', '', '\\nAdventure', '&', 'Drama', '&', 'War', '', '', '', '', '', '', '', '', '', '', '', '\\nDrama', '&', 'Romance', '&', 'Sci-Fi', '', '', '', '', '', '', '', '', '', '', '', '\\nComedy', '&', 'Romance', '', '', '', '', '', '', '', '', '', '', '', '\\nComedy', '&', 'Crime', '', '', '', '', '', '', '', '', '', '', '', '\\nDrama', '', '', '', '', '', '', '', '', '', '', '', '\\nDrama', '', '', '', '', '', '', '', '', '', '', '', '\\nDrama', '&', 'Romance', '', '', '', '', '', '', '', '', '', '', '', '']\n"
          ],
          "name": "stdout"
        }
      ]
    },
    {
      "cell_type": "code",
      "metadata": {
        "id": "yhUsM7pujqaD",
        "outputId": "b195e3a8-73a9-4332-c323-2b7d36ddc206",
        "colab": {
          "base_uri": "https://localhost:8080/",
          "height": 1000
        }
      },
      "source": [
        "print(genrelist3[2:])"
      ],
      "execution_count": 67,
      "outputs": [
        {
          "output_type": "stream",
          "text": [
            "rama            \n",
            "Crime & Drama            \n",
            "Action & Crime & Drama            \n",
            "Crime & Drama            \n",
            "Action & Adventure & Drama            \n",
            "Crime & Drama            \n",
            "Biography & Drama & History            \n",
            "Crime & Drama            \n",
            "Action & Adventure & Sci-Fi            \n",
            "Drama            \n",
            "Action & Adventure & Drama            \n",
            "Drama & Romance            \n",
            "Western            \n",
            "Biography & Drama & History            \n",
            "Action & Adventure & Drama            \n",
            "Action & Sci-Fi            \n",
            "Biography & Crime & Drama            \n",
            "Action & Adventure & Fantasy            \n",
            "Drama            \n",
            "Comedy & Drama & Thriller            \n",
            "Adventure & Drama & Sci-Fi            \n",
            "Crime & Drama            \n",
            "Animation & Adventure & Family            \n",
            "Drama & War            \n",
            "Crime & Drama & Fantasy            \n",
            "Comedy & Drama & Romance            \n",
            "Crime & Drama & Mystery            \n",
            "Crime & Drama & Thriller            \n",
            "Action & Adventure & Fantasy            \n",
            "Action & Drama & Mystery            \n",
            "Action & Adventure & Drama            \n",
            "Drama & Family & Fantasy            \n",
            "Crime & Drama & Thriller            \n",
            "Drama & Music            \n",
            "Biography & Comedy & Drama            \n",
            "Drama & Mystery & Sci-Fi            \n",
            "Crime & Drama & Thriller            \n",
            "Biography & Drama & Music            \n",
            "Action & Adventure & Drama            \n",
            "Drama            \n",
            "Crime & Mystery & Thriller            \n",
            "Action & Crime & Drama            \n",
            "Animation & Adventure & Drama            \n",
            "Action & Sci-Fi            \n",
            "Drama            \n",
            "Animation & Drama & War            \n",
            "Adventure & Comedy & Sci-Fi            \n",
            "Drama & Musical            \n",
            "Western            \n",
            "Horror & Mystery & Thriller            \n",
            "Drama & Romance & War            \n",
            "Comedy & Drama & Family            \n",
            "Comedy & Drama & Romance            \n",
            "Drama            \n",
            "Biography & Drama & History            \n",
            "Animation & Drama & Fantasy            \n",
            "Action & Biography & Drama            \n",
            "Animation & Action & Adventure            \n",
            "Action & Adventure & Drama            \n",
            "Action & Adventure & Sci-Fi            \n",
            "Animation & Adventure & Family            \n",
            "Drama & Western            \n",
            "Action & Adventure            \n",
            "Comedy & Drama            \n",
            "Drama & Family            \n",
            "Animation & Adventure & Family            \n",
            "Drama & Mystery & Thriller            \n",
            "Action & Drama & Mystery            \n",
            "Mystery & Thriller            \n",
            "Animation & Adventure & Fantasy            \n",
            "Crime & Drama            \n",
            "Action & Adventure            \n",
            "Drama & Horror            \n",
            "Drama & Mystery & War            \n",
            "Horror & Sci-Fi            \n",
            "Crime & Drama & Mystery            \n",
            "Comedy            \n",
            "Crime & Drama & Mystery            \n",
            "Drama & War            \n",
            "Mystery & Thriller            \n",
            "Drama & Film-Noir            \n",
            "Comedy & Drama & War            \n",
            "Drama & War            \n",
            "Action & Drama & War            \n",
            "Drama & Fantasy & Horror            \n",
            "Crime & Thriller            \n",
            "Crime & Drama & Thriller            \n",
            "Drama            \n",
            "Drama & Thriller            \n",
            "Drama & Mystery & War            \n",
            "Drama            \n",
            "Drama & Family            \n",
            "Animation & Adventure & Comedy            \n",
            "Adventure & Drama & War            \n",
            "Drama & Romance & Sci-Fi            \n",
            "Comedy & Romance            \n",
            "Comedy & Crime            \n",
            "Drama            \n",
            "Drama            \n",
            "Drama & Romance            \n"
          ],
          "name": "stdout"
        }
      ]
    },
    {
      "cell_type": "code",
      "metadata": {
        "id": "R3jXKVtvkAdm",
        "outputId": "793ea1f6-75cb-4929-da66-f2aa4d5d28bc",
        "colab": {
          "base_uri": "https://localhost:8080/",
          "height": 54
        }
      },
      "source": [
        "print(Convert(genrelist3))"
      ],
      "execution_count": 68,
      "outputs": [
        {
          "output_type": "stream",
          "text": [
            "['\\nDrama', '', '', '', '', '', '', '', '', '', '', '', '\\nCrime', '&', 'Drama', '', '', '', '', '', '', '', '', '', '', '', '\\nAction', '&', 'Crime', '&', 'Drama', '', '', '', '', '', '', '', '', '', '', '', '\\nCrime', '&', 'Drama', '', '', '', '', '', '', '', '', '', '', '', '\\nAction', '&', 'Adventure', '&', 'Drama', '', '', '', '', '', '', '', '', '', '', '', '\\nCrime', '&', 'Drama', '', '', '', '', '', '', '', '', '', '', '', '\\nBiography', '&', 'Drama', '&', 'History', '', '', '', '', '', '', '', '', '', '', '', '\\nCrime', '&', 'Drama', '', '', '', '', '', '', '', '', '', '', '', '\\nAction', '&', 'Adventure', '&', 'Sci-Fi', '', '', '', '', '', '', '', '', '', '', '', '\\nDrama', '', '', '', '', '', '', '', '', '', '', '', '\\nAction', '&', 'Adventure', '&', 'Drama', '', '', '', '', '', '', '', '', '', '', '', '\\nDrama', '&', 'Romance', '', '', '', '', '', '', '', '', '', '', '', '\\nWestern', '', '', '', '', '', '', '', '', '', '', '', '\\nBiography', '&', 'Drama', '&', 'History', '', '', '', '', '', '', '', '', '', '', '', '\\nAction', '&', 'Adventure', '&', 'Drama', '', '', '', '', '', '', '', '', '', '', '', '\\nAction', '&', 'Sci-Fi', '', '', '', '', '', '', '', '', '', '', '', '\\nBiography', '&', 'Crime', '&', 'Drama', '', '', '', '', '', '', '', '', '', '', '', '\\nAction', '&', 'Adventure', '&', 'Fantasy', '', '', '', '', '', '', '', '', '', '', '', '\\nDrama', '', '', '', '', '', '', '', '', '', '', '', '\\nComedy', '&', 'Drama', '&', 'Thriller', '', '', '', '', '', '', '', '', '', '', '', '\\nAdventure', '&', 'Drama', '&', 'Sci-Fi', '', '', '', '', '', '', '', '', '', '', '', '\\nCrime', '&', 'Drama', '', '', '', '', '', '', '', '', '', '', '', '\\nAnimation', '&', 'Adventure', '&', 'Family', '', '', '', '', '', '', '', '', '', '', '', '\\nDrama', '&', 'War', '', '', '', '', '', '', '', '', '', '', '', '\\nCrime', '&', 'Drama', '&', 'Fantasy', '', '', '', '', '', '', '', '', '', '', '', '\\nComedy', '&', 'Drama', '&', 'Romance', '', '', '', '', '', '', '', '', '', '', '', '\\nCrime', '&', 'Drama', '&', 'Mystery', '', '', '', '', '', '', '', '', '', '', '', '\\nCrime', '&', 'Drama', '&', 'Thriller', '', '', '', '', '', '', '', '', '', '', '', '\\nAction', '&', 'Adventure', '&', 'Fantasy', '', '', '', '', '', '', '', '', '', '', '', '\\nAction', '&', 'Drama', '&', 'Mystery', '', '', '', '', '', '', '', '', '', '', '', '\\nAction', '&', 'Adventure', '&', 'Drama', '', '', '', '', '', '', '', '', '', '', '', '\\nDrama', '&', 'Family', '&', 'Fantasy', '', '', '', '', '', '', '', '', '', '', '', '\\nCrime', '&', 'Drama', '&', 'Thriller', '', '', '', '', '', '', '', '', '', '', '', '\\nDrama', '&', 'Music', '', '', '', '', '', '', '', '', '', '', '', '\\nBiography', '&', 'Comedy', '&', 'Drama', '', '', '', '', '', '', '', '', '', '', '', '\\nDrama', '&', 'Mystery', '&', 'Sci-Fi', '', '', '', '', '', '', '', '', '', '', '', '\\nCrime', '&', 'Drama', '&', 'Thriller', '', '', '', '', '', '', '', '', '', '', '', '\\nBiography', '&', 'Drama', '&', 'Music', '', '', '', '', '', '', '', '', '', '', '', '\\nAction', '&', 'Adventure', '&', 'Drama', '', '', '', '', '', '', '', '', '', '', '', '\\nDrama', '', '', '', '', '', '', '', '', '', '', '', '\\nCrime', '&', 'Mystery', '&', 'Thriller', '', '', '', '', '', '', '', '', '', '', '', '\\nAction', '&', 'Crime', '&', 'Drama', '', '', '', '', '', '', '', '', '', '', '', '\\nAnimation', '&', 'Adventure', '&', 'Drama', '', '', '', '', '', '', '', '', '', '', '', '\\nAction', '&', 'Sci-Fi', '', '', '', '', '', '', '', '', '', '', '', '\\nDrama', '', '', '', '', '', '', '', '', '', '', '', '\\nAnimation', '&', 'Drama', '&', 'War', '', '', '', '', '', '', '', '', '', '', '', '\\nAdventure', '&', 'Comedy', '&', 'Sci-Fi', '', '', '', '', '', '', '', '', '', '', '', '\\nDrama', '&', 'Musical', '', '', '', '', '', '', '', '', '', '', '', '\\nWestern', '', '', '', '', '', '', '', '', '', '', '', '\\nHorror', '&', 'Mystery', '&', 'Thriller', '', '', '', '', '', '', '', '', '', '', '', '\\nDrama', '&', 'Romance', '&', 'War', '', '', '', '', '', '', '', '', '', '', '', '\\nComedy', '&', 'Drama', '&', 'Family', '', '', '', '', '', '', '', '', '', '', '', '\\nComedy', '&', 'Drama', '&', 'Romance', '', '', '', '', '', '', '', '', '', '', '', '\\nDrama', '', '', '', '', '', '', '', '', '', '', '', '\\nBiography', '&', 'Drama', '&', 'History', '', '', '', '', '', '', '', '', '', '', '', '\\nAnimation', '&', 'Drama', '&', 'Fantasy', '', '', '', '', '', '', '', '', '', '', '', '\\nAction', '&', 'Biography', '&', 'Drama', '', '', '', '', '', '', '', '', '', '', '', '\\nAnimation', '&', 'Action', '&', 'Adventure', '', '', '', '', '', '', '', '', '', '', '', '\\nAction', '&', 'Adventure', '&', 'Drama', '', '', '', '', '', '', '', '', '', '', '', '\\nAction', '&', 'Adventure', '&', 'Sci-Fi', '', '', '', '', '', '', '', '', '', '', '', '\\nAnimation', '&', 'Adventure', '&', 'Family', '', '', '', '', '', '', '', '', '', '', '', '\\nDrama', '&', 'Western', '', '', '', '', '', '', '', '', '', '', '', '\\nAction', '&', 'Adventure', '', '', '', '', '', '', '', '', '', '', '', '\\nComedy', '&', 'Drama', '', '', '', '', '', '', '', '', '', '', '', '\\nDrama', '&', 'Family', '', '', '', '', '', '', '', '', '', '', '', '\\nAnimation', '&', 'Adventure', '&', 'Family', '', '', '', '', '', '', '', '', '', '', '', '\\nDrama', '&', 'Mystery', '&', 'Thriller', '', '', '', '', '', '', '', '', '', '', '', '\\nAction', '&', 'Drama', '&', 'Mystery', '', '', '', '', '', '', '', '', '', '', '', '\\nMystery', '&', 'Thriller', '', '', '', '', '', '', '', '', '', '', '', '\\nAnimation', '&', 'Adventure', '&', 'Fantasy', '', '', '', '', '', '', '', '', '', '', '', '\\nCrime', '&', 'Drama', '', '', '', '', '', '', '', '', '', '', '', '\\nAction', '&', 'Adventure', '', '', '', '', '', '', '', '', '', '', '', '\\nDrama', '&', 'Horror', '', '', '', '', '', '', '', '', '', '', '', '\\nDrama', '&', 'Mystery', '&', 'War', '', '', '', '', '', '', '', '', '', '', '', '\\nHorror', '&', 'Sci-Fi', '', '', '', '', '', '', '', '', '', '', '', '\\nCrime', '&', 'Drama', '&', 'Mystery', '', '', '', '', '', '', '', '', '', '', '', '\\nComedy', '', '', '', '', '', '', '', '', '', '', '', '\\nCrime', '&', 'Drama', '&', 'Mystery', '', '', '', '', '', '', '', '', '', '', '', '\\nDrama', '&', 'War', '', '', '', '', '', '', '', '', '', '', '', '\\nMystery', '&', 'Thriller', '', '', '', '', '', '', '', '', '', '', '', '\\nDrama', '&', 'Film-Noir', '', '', '', '', '', '', '', '', '', '', '', '\\nComedy', '&', 'Drama', '&', 'War', '', '', '', '', '', '', '', '', '', '', '', '\\nDrama', '&', 'War', '', '', '', '', '', '', '', '', '', '', '', '\\nAction', '&', 'Drama', '&', 'War', '', '', '', '', '', '', '', '', '', '', '', '\\nDrama', '&', 'Fantasy', '&', 'Horror', '', '', '', '', '', '', '', '', '', '', '', '\\nCrime', '&', 'Thriller', '', '', '', '', '', '', '', '', '', '', '', '\\nCrime', '&', 'Drama', '&', 'Thriller', '', '', '', '', '', '', '', '', '', '', '', '\\nDrama', '', '', '', '', '', '', '', '', '', '', '', '\\nDrama', '&', 'Thriller', '', '', '', '', '', '', '', '', '', '', '', '\\nDrama', '&', 'Mystery', '&', 'War', '', '', '', '', '', '', '', '', '', '', '', '\\nDrama', '', '', '', '', '', '', '', '', '', '', '', '\\nDrama', '&', 'Family', '', '', '', '', '', '', '', '', '', '', '', '\\nAnimation', '&', 'Adventure', '&', 'Comedy', '', '', '', '', '', '', '', '', '', '', '', '\\nAdventure', '&', 'Drama', '&', 'War', '', '', '', '', '', '', '', '', '', '', '', '\\nDrama', '&', 'Romance', '&', 'Sci-Fi', '', '', '', '', '', '', '', '', '', '', '', '\\nComedy', '&', 'Romance', '', '', '', '', '', '', '', '', '', '', '', '\\nComedy', '&', 'Crime', '', '', '', '', '', '', '', '', '', '', '', '\\nDrama', '', '', '', '', '', '', '', '', '', '', '', '\\nDrama', '', '', '', '', '', '', '', '', '', '', '', '\\nDrama', '&', 'Romance', '', '', '', '', '', '', '', '', '', '', '', '']\n"
          ],
          "name": "stdout"
        }
      ]
    },
    {
      "cell_type": "code",
      "metadata": {
        "id": "CCpw81ngkRei"
      },
      "source": [
        "titles = extract_attribute(soup, 'a')\n",
        "release = extract_attribute(soup, 'span', 'lister-item-year text-muted unbold')\n",
        "audience_rating = extract_attribute(soup, 'span', 'certificate')\n",
        "runtime = extract_attribute(soup, 'span', 'runtime')\n",
        "genre = extract_attribute(soup, 'span', 'genrelist3') \n",
        "imdb_rating = extract_attribute(soup, 'div', 'inline-block ratings-imdb-rating', False)\n",
        "votes = extract_attribute(soup, 'span' , {'name' : 'nv'}, False, 0)\n",
        "earnings = extract_attribute(soup, 'span' , {'name' : 'nv'}, False, 1)\n",
        "#directors = extract_attribute(soup, 'p', '', 'a', '', True, 0, True)\n",
        "actors = extract_attribute(soup, 'p', '', 'a', '', True, slice(1, 5, None), True)\n",
        "\n",
        "\n",
        "df_dict = {'Title': titles, 'Relase': release, 'Audience Rating': audience_rating,\n",
        "           'Runtime': runtime, 'Genre': genre, 'IMDB Rating': imdb_rating,\n",
        "           'Votes': votes, 'Box Office Earnings': earnings, \n",
        "           'Actors': actors} #'Director': directors,\n",
        "df = pd.DataFrame(df_dict)\n",
        "df"
      ],
      "execution_count": null,
      "outputs": []
    },
    {
      "cell_type": "code",
      "metadata": {
        "id": "GoDqotyTk8sF",
        "outputId": "b28cea98-699f-4326-ee0c-0b3ebb86a9b0",
        "colab": {
          "base_uri": "https://localhost:8080/",
          "height": 120
        }
      },
      "source": [
        "genrelist3"
      ],
      "execution_count": 70,
      "outputs": [
        {
          "output_type": "execute_result",
          "data": {
            "application/vnd.google.colaboratory.intrinsic+json": {
              "type": "string"
            },
            "text/plain": [
              "'\\nDrama            \\nCrime & Drama            \\nAction & Crime & Drama            \\nCrime & Drama            \\nAction & Adventure & Drama            \\nCrime & Drama            \\nBiography & Drama & History            \\nCrime & Drama            \\nAction & Adventure & Sci-Fi            \\nDrama            \\nAction & Adventure & Drama            \\nDrama & Romance            \\nWestern            \\nBiography & Drama & History            \\nAction & Adventure & Drama            \\nAction & Sci-Fi            \\nBiography & Crime & Drama            \\nAction & Adventure & Fantasy            \\nDrama            \\nComedy & Drama & Thriller            \\nAdventure & Drama & Sci-Fi            \\nCrime & Drama            \\nAnimation & Adventure & Family            \\nDrama & War            \\nCrime & Drama & Fantasy            \\nComedy & Drama & Romance            \\nCrime & Drama & Mystery            \\nCrime & Drama & Thriller            \\nAction & Adventure & Fantasy            \\nAction & Drama & Mystery            \\nAction & Adventure & Drama            \\nDrama & Family & Fantasy            \\nCrime & Drama & Thriller            \\nDrama & Music            \\nBiography & Comedy & Drama            \\nDrama & Mystery & Sci-Fi            \\nCrime & Drama & Thriller            \\nBiography & Drama & Music            \\nAction & Adventure & Drama            \\nDrama            \\nCrime & Mystery & Thriller            \\nAction & Crime & Drama            \\nAnimation & Adventure & Drama            \\nAction & Sci-Fi            \\nDrama            \\nAnimation & Drama & War            \\nAdventure & Comedy & Sci-Fi            \\nDrama & Musical            \\nWestern            \\nHorror & Mystery & Thriller            \\nDrama & Romance & War            \\nComedy & Drama & Family            \\nComedy & Drama & Romance            \\nDrama            \\nBiography & Drama & History            \\nAnimation & Drama & Fantasy            \\nAction & Biography & Drama            \\nAnimation & Action & Adventure            \\nAction & Adventure & Drama            \\nAction & Adventure & Sci-Fi            \\nAnimation & Adventure & Family            \\nDrama & Western            \\nAction & Adventure            \\nComedy & Drama            \\nDrama & Family            \\nAnimation & Adventure & Family            \\nDrama & Mystery & Thriller            \\nAction & Drama & Mystery            \\nMystery & Thriller            \\nAnimation & Adventure & Fantasy            \\nCrime & Drama            \\nAction & Adventure            \\nDrama & Horror            \\nDrama & Mystery & War            \\nHorror & Sci-Fi            \\nCrime & Drama & Mystery            \\nComedy            \\nCrime & Drama & Mystery            \\nDrama & War            \\nMystery & Thriller            \\nDrama & Film-Noir            \\nComedy & Drama & War            \\nDrama & War            \\nAction & Drama & War            \\nDrama & Fantasy & Horror            \\nCrime & Thriller            \\nCrime & Drama & Thriller            \\nDrama            \\nDrama & Thriller            \\nDrama & Mystery & War            \\nDrama            \\nDrama & Family            \\nAnimation & Adventure & Comedy            \\nAdventure & Drama & War            \\nDrama & Romance & Sci-Fi            \\nComedy & Romance            \\nComedy & Crime            \\nDrama            \\nDrama            \\nDrama & Romance            '"
            ]
          },
          "metadata": {
            "tags": []
          },
          "execution_count": 70
        }
      ]
    },
    {
      "cell_type": "code",
      "metadata": {
        "id": "hJV89CPJlAbM"
      },
      "source": [
        "genrelist4 = genrelist.replace('\\n', ',')"
      ],
      "execution_count": 71,
      "outputs": []
    },
    {
      "cell_type": "code",
      "metadata": {
        "id": "LKLb_4JYlHUr",
        "outputId": "521379cb-a319-4f72-d7d8-1cc79f415f22",
        "colab": {
          "base_uri": "https://localhost:8080/",
          "height": 120
        }
      },
      "source": [
        "genrelist4"
      ],
      "execution_count": 80,
      "outputs": [
        {
          "output_type": "execute_result",
          "data": {
            "application/vnd.google.colaboratory.intrinsic+json": {
              "type": "string"
            },
            "text/plain": [
              "',Drama            ,Crime, Drama            ,Action, Crime, Drama            ,Crime, Drama            ,Action, Adventure, Drama            ,Crime, Drama            ,Biography, Drama, History            ,Crime, Drama            ,Action, Adventure, Sci-Fi            ,Drama            ,Action, Adventure, Drama            ,Drama, Romance            ,Western            ,Biography, Drama, History            ,Action, Adventure, Drama            ,Action, Sci-Fi            ,Biography, Crime, Drama            ,Action, Adventure, Fantasy            ,Drama            ,Comedy, Drama, Thriller            ,Adventure, Drama, Sci-Fi            ,Crime, Drama            ,Animation, Adventure, Family            ,Drama, War            ,Crime, Drama, Fantasy            ,Comedy, Drama, Romance            ,Crime, Drama, Mystery            ,Crime, Drama, Thriller            ,Action, Adventure, Fantasy            ,Action, Drama, Mystery            ,Action, Adventure, Drama            ,Drama, Family, Fantasy            ,Crime, Drama, Thriller            ,Drama, Music            ,Biography, Comedy, Drama            ,Drama, Mystery, Sci-Fi            ,Crime, Drama, Thriller            ,Biography, Drama, Music            ,Action, Adventure, Drama            ,Drama            ,Crime, Mystery, Thriller            ,Action, Crime, Drama            ,Animation, Adventure, Drama            ,Action, Sci-Fi            ,Drama            ,Animation, Drama, War            ,Adventure, Comedy, Sci-Fi            ,Drama, Musical            ,Western            ,Horror, Mystery, Thriller            ,Drama, Romance, War            ,Comedy, Drama, Family            ,Comedy, Drama, Romance            ,Drama            ,Biography, Drama, History            ,Animation, Drama, Fantasy            ,Action, Biography, Drama            ,Animation, Action, Adventure            ,Action, Adventure, Drama            ,Action, Adventure, Sci-Fi            ,Animation, Adventure, Family            ,Drama, Western            ,Action, Adventure            ,Comedy, Drama            ,Drama, Family            ,Animation, Adventure, Family            ,Drama, Mystery, Thriller            ,Action, Drama, Mystery            ,Mystery, Thriller            ,Animation, Adventure, Fantasy            ,Crime, Drama            ,Action, Adventure            ,Drama, Horror            ,Drama, Mystery, War            ,Horror, Sci-Fi            ,Crime, Drama, Mystery            ,Comedy            ,Crime, Drama, Mystery            ,Drama, War            ,Mystery, Thriller            ,Drama, Film-Noir            ,Comedy, Drama, War            ,Drama, War            ,Action, Drama, War            ,Drama, Fantasy, Horror            ,Crime, Thriller            ,Crime, Drama, Thriller            ,Drama            ,Drama, Thriller            ,Drama, Mystery, War            ,Drama            ,Drama, Family            ,Animation, Adventure, Comedy            ,Adventure, Drama, War            ,Drama, Romance, Sci-Fi            ,Comedy, Romance            ,Comedy, Crime            ,Drama            ,Drama            ,Drama, Romance            '"
            ]
          },
          "metadata": {
            "tags": []
          },
          "execution_count": 80
        }
      ]
    },
    {
      "cell_type": "markdown",
      "metadata": {
        "id": "18pliOQ-lbKx"
      },
      "source": [
        "start the list with each list item begining after(    ,)"
      ]
    },
    {
      "cell_type": "code",
      "metadata": {
        "id": "1Iv_2s2DlrkL",
        "outputId": "78a66c4d-8a25-49f6-d98e-e7eadfdd7b40",
        "colab": {
          "base_uri": "https://localhost:8080/",
          "height": 54
        }
      },
      "source": [
        "# Python code to convert string to list \n",
        "  \n",
        "def Convertyes(string): \n",
        "    li = list(string.split(\"            ,\")) \n",
        "    return li \n",
        "  \n",
        "print(Convertyes(genrelist4))"
      ],
      "execution_count": 81,
      "outputs": [
        {
          "output_type": "stream",
          "text": [
            "[',Drama', 'Crime, Drama', 'Action, Crime, Drama', 'Crime, Drama', 'Action, Adventure, Drama', 'Crime, Drama', 'Biography, Drama, History', 'Crime, Drama', 'Action, Adventure, Sci-Fi', 'Drama', 'Action, Adventure, Drama', 'Drama, Romance', 'Western', 'Biography, Drama, History', 'Action, Adventure, Drama', 'Action, Sci-Fi', 'Biography, Crime, Drama', 'Action, Adventure, Fantasy', 'Drama', 'Comedy, Drama, Thriller', 'Adventure, Drama, Sci-Fi', 'Crime, Drama', 'Animation, Adventure, Family', 'Drama, War', 'Crime, Drama, Fantasy', 'Comedy, Drama, Romance', 'Crime, Drama, Mystery', 'Crime, Drama, Thriller', 'Action, Adventure, Fantasy', 'Action, Drama, Mystery', 'Action, Adventure, Drama', 'Drama, Family, Fantasy', 'Crime, Drama, Thriller', 'Drama, Music', 'Biography, Comedy, Drama', 'Drama, Mystery, Sci-Fi', 'Crime, Drama, Thriller', 'Biography, Drama, Music', 'Action, Adventure, Drama', 'Drama', 'Crime, Mystery, Thriller', 'Action, Crime, Drama', 'Animation, Adventure, Drama', 'Action, Sci-Fi', 'Drama', 'Animation, Drama, War', 'Adventure, Comedy, Sci-Fi', 'Drama, Musical', 'Western', 'Horror, Mystery, Thriller', 'Drama, Romance, War', 'Comedy, Drama, Family', 'Comedy, Drama, Romance', 'Drama', 'Biography, Drama, History', 'Animation, Drama, Fantasy', 'Action, Biography, Drama', 'Animation, Action, Adventure', 'Action, Adventure, Drama', 'Action, Adventure, Sci-Fi', 'Animation, Adventure, Family', 'Drama, Western', 'Action, Adventure', 'Comedy, Drama', 'Drama, Family', 'Animation, Adventure, Family', 'Drama, Mystery, Thriller', 'Action, Drama, Mystery', 'Mystery, Thriller', 'Animation, Adventure, Fantasy', 'Crime, Drama', 'Action, Adventure', 'Drama, Horror', 'Drama, Mystery, War', 'Horror, Sci-Fi', 'Crime, Drama, Mystery', 'Comedy', 'Crime, Drama, Mystery', 'Drama, War', 'Mystery, Thriller', 'Drama, Film-Noir', 'Comedy, Drama, War', 'Drama, War', 'Action, Drama, War', 'Drama, Fantasy, Horror', 'Crime, Thriller', 'Crime, Drama, Thriller', 'Drama', 'Drama, Thriller', 'Drama, Mystery, War', 'Drama', 'Drama, Family', 'Animation, Adventure, Comedy', 'Adventure, Drama, War', 'Drama, Romance, Sci-Fi', 'Comedy, Romance', 'Comedy, Crime', 'Drama', 'Drama', 'Drama, Romance            ']\n"
          ],
          "name": "stdout"
        }
      ]
    },
    {
      "cell_type": "code",
      "metadata": {
        "id": "lMGT4xUtofIn"
      },
      "source": [
        "genrelist50 = (Convertyes(genrelist4))"
      ],
      "execution_count": 83,
      "outputs": []
    },
    {
      "cell_type": "code",
      "metadata": {
        "id": "sEP9EdidmR5s",
        "outputId": "2cdd0405-b45a-40c6-e00a-27c1c659655a",
        "colab": {
          "base_uri": "https://localhost:8080/",
          "height": 54
        }
      },
      "source": [
        "genrelist5 = genrelist.replace('\\n', ',')\n",
        "print(genrelist4)"
      ],
      "execution_count": 76,
      "outputs": [
        {
          "output_type": "stream",
          "text": [
            ",Drama            ,Crime, Drama            ,Action, Crime, Drama            ,Crime, Drama            ,Action, Adventure, Drama            ,Crime, Drama            ,Biography, Drama, History            ,Crime, Drama            ,Action, Adventure, Sci-Fi            ,Drama            ,Action, Adventure, Drama            ,Drama, Romance            ,Western            ,Biography, Drama, History            ,Action, Adventure, Drama            ,Action, Sci-Fi            ,Biography, Crime, Drama            ,Action, Adventure, Fantasy            ,Drama            ,Comedy, Drama, Thriller            ,Adventure, Drama, Sci-Fi            ,Crime, Drama            ,Animation, Adventure, Family            ,Drama, War            ,Crime, Drama, Fantasy            ,Comedy, Drama, Romance            ,Crime, Drama, Mystery            ,Crime, Drama, Thriller            ,Action, Adventure, Fantasy            ,Action, Drama, Mystery            ,Action, Adventure, Drama            ,Drama, Family, Fantasy            ,Crime, Drama, Thriller            ,Drama, Music            ,Biography, Comedy, Drama            ,Drama, Mystery, Sci-Fi            ,Crime, Drama, Thriller            ,Biography, Drama, Music            ,Action, Adventure, Drama            ,Drama            ,Crime, Mystery, Thriller            ,Action, Crime, Drama            ,Animation, Adventure, Drama            ,Action, Sci-Fi            ,Drama            ,Animation, Drama, War            ,Adventure, Comedy, Sci-Fi            ,Drama, Musical            ,Western            ,Horror, Mystery, Thriller            ,Drama, Romance, War            ,Comedy, Drama, Family            ,Comedy, Drama, Romance            ,Drama            ,Biography, Drama, History            ,Animation, Drama, Fantasy            ,Action, Biography, Drama            ,Animation, Action, Adventure            ,Action, Adventure, Drama            ,Action, Adventure, Sci-Fi            ,Animation, Adventure, Family            ,Drama, Western            ,Action, Adventure            ,Comedy, Drama            ,Drama, Family            ,Animation, Adventure, Family            ,Drama, Mystery, Thriller            ,Action, Drama, Mystery            ,Mystery, Thriller            ,Animation, Adventure, Fantasy            ,Crime, Drama            ,Action, Adventure            ,Drama, Horror            ,Drama, Mystery, War            ,Horror, Sci-Fi            ,Crime, Drama, Mystery            ,Comedy            ,Crime, Drama, Mystery            ,Drama, War            ,Mystery, Thriller            ,Drama, Film-Noir            ,Comedy, Drama, War            ,Drama, War            ,Action, Drama, War            ,Drama, Fantasy, Horror            ,Crime, Thriller            ,Crime, Drama, Thriller            ,Drama            ,Drama, Thriller            ,Drama, Mystery, War            ,Drama            ,Drama, Family            ,Animation, Adventure, Comedy            ,Adventure, Drama, War            ,Drama, Romance, Sci-Fi            ,Comedy, Romance            ,Comedy, Crime            ,Drama            ,Drama            ,Drama, Romance            \n"
          ],
          "name": "stdout"
        }
      ]
    },
    {
      "cell_type": "code",
      "metadata": {
        "id": "F1BBBYDNm-42",
        "outputId": "6af5e7cd-7c9a-418e-a9d5-4f2a70fa81e5",
        "colab": {
          "base_uri": "https://localhost:8080/",
          "height": 54
        }
      },
      "source": [
        "print(genrelist4[1:])"
      ],
      "execution_count": 79,
      "outputs": [
        {
          "output_type": "stream",
          "text": [
            "Drama            ,Crime, Drama            ,Action, Crime, Drama            ,Crime, Drama            ,Action, Adventure, Drama            ,Crime, Drama            ,Biography, Drama, History            ,Crime, Drama            ,Action, Adventure, Sci-Fi            ,Drama            ,Action, Adventure, Drama            ,Drama, Romance            ,Western            ,Biography, Drama, History            ,Action, Adventure, Drama            ,Action, Sci-Fi            ,Biography, Crime, Drama            ,Action, Adventure, Fantasy            ,Drama            ,Comedy, Drama, Thriller            ,Adventure, Drama, Sci-Fi            ,Crime, Drama            ,Animation, Adventure, Family            ,Drama, War            ,Crime, Drama, Fantasy            ,Comedy, Drama, Romance            ,Crime, Drama, Mystery            ,Crime, Drama, Thriller            ,Action, Adventure, Fantasy            ,Action, Drama, Mystery            ,Action, Adventure, Drama            ,Drama, Family, Fantasy            ,Crime, Drama, Thriller            ,Drama, Music            ,Biography, Comedy, Drama            ,Drama, Mystery, Sci-Fi            ,Crime, Drama, Thriller            ,Biography, Drama, Music            ,Action, Adventure, Drama            ,Drama            ,Crime, Mystery, Thriller            ,Action, Crime, Drama            ,Animation, Adventure, Drama            ,Action, Sci-Fi            ,Drama            ,Animation, Drama, War            ,Adventure, Comedy, Sci-Fi            ,Drama, Musical            ,Western            ,Horror, Mystery, Thriller            ,Drama, Romance, War            ,Comedy, Drama, Family            ,Comedy, Drama, Romance            ,Drama            ,Biography, Drama, History            ,Animation, Drama, Fantasy            ,Action, Biography, Drama            ,Animation, Action, Adventure            ,Action, Adventure, Drama            ,Action, Adventure, Sci-Fi            ,Animation, Adventure, Family            ,Drama, Western            ,Action, Adventure            ,Comedy, Drama            ,Drama, Family            ,Animation, Adventure, Family            ,Drama, Mystery, Thriller            ,Action, Drama, Mystery            ,Mystery, Thriller            ,Animation, Adventure, Fantasy            ,Crime, Drama            ,Action, Adventure            ,Drama, Horror            ,Drama, Mystery, War            ,Horror, Sci-Fi            ,Crime, Drama, Mystery            ,Comedy            ,Crime, Drama, Mystery            ,Drama, War            ,Mystery, Thriller            ,Drama, Film-Noir            ,Comedy, Drama, War            ,Drama, War            ,Action, Drama, War            ,Drama, Fantasy, Horror            ,Crime, Thriller            ,Crime, Drama, Thriller            ,Drama            ,Drama, Thriller            ,Drama, Mystery, War            ,Drama            ,Drama, Family            ,Animation, Adventure, Comedy            ,Adventure, Drama, War            ,Drama, Romance, Sci-Fi            ,Comedy, Romance            ,Comedy, Crime            ,Drama            ,Drama            ,Drama, Romance            \n"
          ],
          "name": "stdout"
        }
      ]
    },
    {
      "cell_type": "code",
      "metadata": {
        "id": "4jy_yAJEnofO"
      },
      "source": [
        "for i in genrelist50:\n",
        "\n",
        "    i [7:]\n",
        "\n",
        "print lst"
      ],
      "execution_count": null,
      "outputs": []
    },
    {
      "cell_type": "code",
      "metadata": {
        "id": "IzG2p-LApBaO",
        "outputId": "2de50671-0651-43fa-8057-70e0e3ea7f4b",
        "colab": {
          "base_uri": "https://localhost:8080/",
          "height": 419
        }
      },
      "source": [
        "titles = extract_attribute(soup, 'a')\n",
        "release = extract_attribute(soup, 'span', 'lister-item-year text-muted unbold')\n",
        "audience_rating = extract_attribute(soup, 'span', 'certificate')\n",
        "runtime = extract_attribute(soup, 'span', 'runtime')\n",
        "genre = extract_attribute(soup, 'span', 'genrelist5') \n",
        "imdb_rating = extract_attribute(soup, 'div', 'inline-block ratings-imdb-rating', False)\n",
        "votes = extract_attribute(soup, 'span' , {'name' : 'nv'}, False, 0)\n",
        "earnings = extract_attribute(soup, 'span' , {'name' : 'nv'}, False, 1)\n",
        "#directors = extract_attribute(soup, 'p', '', 'a', '', True, 0, True)\n",
        "actors = extract_attribute(soup, 'p', '', 'a', '', True, slice(1, 5, None), True)\n",
        "\n",
        "\n",
        "df_dict = {'Title': titles, 'Relase': release, 'Audience Rating': audience_rating,\n",
        "           'Runtime': runtime, 'Genre': genre, 'IMDB Rating': imdb_rating,\n",
        "           'Votes': votes, 'Box Office Earnings': earnings, \n",
        "           'Actors': actors} #'Director': directors,\n",
        "df = pd.DataFrame(df_dict)\n",
        "df"
      ],
      "execution_count": 85,
      "outputs": [
        {
          "output_type": "execute_result",
          "data": {
            "text/html": [
              "<div>\n",
              "<style scoped>\n",
              "    .dataframe tbody tr th:only-of-type {\n",
              "        vertical-align: middle;\n",
              "    }\n",
              "\n",
              "    .dataframe tbody tr th {\n",
              "        vertical-align: top;\n",
              "    }\n",
              "\n",
              "    .dataframe thead th {\n",
              "        text-align: right;\n",
              "    }\n",
              "</style>\n",
              "<table border=\"1\" class=\"dataframe\">\n",
              "  <thead>\n",
              "    <tr style=\"text-align: right;\">\n",
              "      <th></th>\n",
              "      <th>Title</th>\n",
              "      <th>Relase</th>\n",
              "      <th>Audience Rating</th>\n",
              "      <th>Runtime</th>\n",
              "      <th>Genre</th>\n",
              "      <th>IMDB Rating</th>\n",
              "      <th>Votes</th>\n",
              "      <th>Box Office Earnings</th>\n",
              "      <th>Actors</th>\n",
              "    </tr>\n",
              "  </thead>\n",
              "  <tbody>\n",
              "    <tr>\n",
              "      <th>0</th>\n",
              "      <td>The Shawshank Redemption</td>\n",
              "      <td>(1994)</td>\n",
              "      <td>R</td>\n",
              "      <td>142 min</td>\n",
              "      <td>None</td>\n",
              "      <td>\\n\\n9.3\\n</td>\n",
              "      <td>2,293,043</td>\n",
              "      <td>2,293,043</td>\n",
              "      <td>[]</td>\n",
              "    </tr>\n",
              "    <tr>\n",
              "      <th>1</th>\n",
              "      <td>The Godfather</td>\n",
              "      <td>(1972)</td>\n",
              "      <td>R</td>\n",
              "      <td>175 min</td>\n",
              "      <td>None</td>\n",
              "      <td>\\n\\n9.2\\n</td>\n",
              "      <td>1,582,807</td>\n",
              "      <td>1,582,807</td>\n",
              "      <td>[]</td>\n",
              "    </tr>\n",
              "    <tr>\n",
              "      <th>2</th>\n",
              "      <td>The Dark Knight</td>\n",
              "      <td>(2008)</td>\n",
              "      <td>PG-13</td>\n",
              "      <td>152 min</td>\n",
              "      <td>None</td>\n",
              "      <td>\\n\\n9.0\\n</td>\n",
              "      <td>2,258,091</td>\n",
              "      <td>2,258,091</td>\n",
              "      <td>[]</td>\n",
              "    </tr>\n",
              "    <tr>\n",
              "      <th>3</th>\n",
              "      <td>The Godfather: Part II</td>\n",
              "      <td>(1974)</td>\n",
              "      <td>R</td>\n",
              "      <td>202 min</td>\n",
              "      <td>None</td>\n",
              "      <td>\\n\\n9.0\\n</td>\n",
              "      <td>1,105,811</td>\n",
              "      <td>1,105,811</td>\n",
              "      <td>[]</td>\n",
              "    </tr>\n",
              "    <tr>\n",
              "      <th>4</th>\n",
              "      <td>The Lord of the Rings: The Return of the King</td>\n",
              "      <td>(2003)</td>\n",
              "      <td>PG-13</td>\n",
              "      <td>201 min</td>\n",
              "      <td>None</td>\n",
              "      <td>\\n\\n8.9\\n</td>\n",
              "      <td>1,612,731</td>\n",
              "      <td>1,612,731</td>\n",
              "      <td>[]</td>\n",
              "    </tr>\n",
              "    <tr>\n",
              "      <th>...</th>\n",
              "      <td>...</td>\n",
              "      <td>...</td>\n",
              "      <td>...</td>\n",
              "      <td>...</td>\n",
              "      <td>...</td>\n",
              "      <td>...</td>\n",
              "      <td>...</td>\n",
              "      <td>...</td>\n",
              "      <td>...</td>\n",
              "    </tr>\n",
              "    <tr>\n",
              "      <th>95</th>\n",
              "      <td>Amélie</td>\n",
              "      <td>(2001)</td>\n",
              "      <td>R</td>\n",
              "      <td>122 min</td>\n",
              "      <td>None</td>\n",
              "      <td>\\n\\n8.3\\n</td>\n",
              "      <td>693,492</td>\n",
              "      <td>693,492</td>\n",
              "      <td>[]</td>\n",
              "    </tr>\n",
              "    <tr>\n",
              "      <th>96</th>\n",
              "      <td>Snatch</td>\n",
              "      <td>(2000)</td>\n",
              "      <td>R</td>\n",
              "      <td>102 min</td>\n",
              "      <td>None</td>\n",
              "      <td>\\n\\n8.3\\n</td>\n",
              "      <td>770,156</td>\n",
              "      <td>770,156</td>\n",
              "      <td>[]</td>\n",
              "    </tr>\n",
              "    <tr>\n",
              "      <th>97</th>\n",
              "      <td>Requiem for a Dream</td>\n",
              "      <td>(2000)</td>\n",
              "      <td>R</td>\n",
              "      <td>102 min</td>\n",
              "      <td>None</td>\n",
              "      <td>\\n\\n8.3\\n</td>\n",
              "      <td>752,813</td>\n",
              "      <td>752,813</td>\n",
              "      <td>[]</td>\n",
              "    </tr>\n",
              "    <tr>\n",
              "      <th>98</th>\n",
              "      <td>American Beauty</td>\n",
              "      <td>(1999)</td>\n",
              "      <td>R</td>\n",
              "      <td>122 min</td>\n",
              "      <td>None</td>\n",
              "      <td>\\n\\n8.3\\n</td>\n",
              "      <td>1,053,783</td>\n",
              "      <td>1,053,783</td>\n",
              "      <td>[]</td>\n",
              "    </tr>\n",
              "    <tr>\n",
              "      <th>99</th>\n",
              "      <td>Good Will Hunting</td>\n",
              "      <td>(1997)</td>\n",
              "      <td>R</td>\n",
              "      <td>126 min</td>\n",
              "      <td>None</td>\n",
              "      <td>\\n\\n8.3\\n</td>\n",
              "      <td>843,068</td>\n",
              "      <td>843,068</td>\n",
              "      <td>[]</td>\n",
              "    </tr>\n",
              "  </tbody>\n",
              "</table>\n",
              "<p>100 rows × 9 columns</p>\n",
              "</div>"
            ],
            "text/plain": [
              "                                            Title  ... Actors\n",
              "0                        The Shawshank Redemption  ...     []\n",
              "1                                   The Godfather  ...     []\n",
              "2                                 The Dark Knight  ...     []\n",
              "3                          The Godfather: Part II  ...     []\n",
              "4   The Lord of the Rings: The Return of the King  ...     []\n",
              "..                                            ...  ...    ...\n",
              "95                                         Amélie  ...     []\n",
              "96                                         Snatch  ...     []\n",
              "97                            Requiem for a Dream  ...     []\n",
              "98                                American Beauty  ...     []\n",
              "99                              Good Will Hunting  ...     []\n",
              "\n",
              "[100 rows x 9 columns]"
            ]
          },
          "metadata": {
            "tags": []
          },
          "execution_count": 85
        }
      ]
    },
    {
      "cell_type": "markdown",
      "metadata": {
        "id": "iheI7GcMp713"
      },
      "source": [
        ""
      ]
    },
    {
      "cell_type": "markdown",
      "metadata": {
        "id": "TkeQrvYMkzVB"
      },
      "source": [
        "# **Class & Video Notes Begin Here**"
      ]
    },
    {
      "cell_type": "code",
      "metadata": {
        "id": "DBCSwJX_ks8s",
        "outputId": "e8a32732-2f71-4d96-92d1-93726a4e32d2",
        "colab": {
          "base_uri": "https://localhost:8080/",
          "height": 34
        }
      },
      "source": [
        "def summation(lower, upper):\n",
        "  result = 0 #initializing your value, make some sort of initialization. update value as you go. initializing the data, table, etc makes sure your program is easy to follow and fatsrer\n",
        "  while lower <= upper:\n",
        "    result += lower #self augmented function(+=) updating value. update lower value from 0 as we go \n",
        "    lower += 1 # moving from lower to upper and updating value\n",
        "  return result \n",
        "summation(1,12)"
      ],
      "execution_count": null,
      "outputs": [
        {
          "output_type": "execute_result",
          "data": {
            "text/plain": [
              "78"
            ]
          },
          "metadata": {
            "tags": []
          },
          "execution_count": 15
        }
      ]
    },
    {
      "cell_type": "code",
      "metadata": {
        "id": "Vf9dE5dImwj4",
        "outputId": "caa5650d-bb72-41b5-93d7-a606d1e89aca",
        "colab": {
          "base_uri": "https://localhost:8080/",
          "height": 34
        }
      },
      "source": [
        "summation(20,30) #this algorithm solves a general problem(INSTANCE of the problem) each time there are actual values put into the general method we soolve an instance of the problem"
      ],
      "execution_count": null,
      "outputs": [
        {
          "output_type": "execute_result",
          "data": {
            "text/plain": [
              "275"
            ]
          },
          "metadata": {
            "tags": []
          },
          "execution_count": 17
        }
      ]
    },
    {
      "cell_type": "markdown",
      "metadata": {
        "id": "DYFlIJv3qmnt"
      },
      "source": [
        "**Question 6.1.3 Anne complains that defining functions to use in her programs is a lot of extra work. She says she can finish her programs much more quickly if she just writes them using the basic operators and control statements. State three reasons why her view is shortsighted.**\n",
        "A good general method should include a function that solves broad problem instances. 1. Anne could have the exact same problem with different numbers. This would actually save her time. She could use variables in her code rather than numbers, so she could easily reproduce the outcome without rewriting the equation. 2. Anne could slightly change the functionality of her code and additionally save more time. As an example Anne could easily change code from addition to multiplication rather than coding a new function. 3. Anne could add a piece of code that uses variables rather numbers to a larger piece of code that completes a larger task to simplify the process and save time."
      ]
    },
    {
      "cell_type": "markdown",
      "metadata": {
        "id": "0-MDjpBGq0Fl"
      },
      "source": [
        "**Q 6.1.4 Explain how an algorithm solves a general class of problems and how a function definition can support this property of an algorithm.**\n",
        "An abstract algorithm is as simple as possible, which makes it applicable to many different problem instances. A function definition supports this concept by hiding complicated details. A function call expresses the idea of aa process to the programmer without forcing him/her to wade through complex code that realizes the data."
      ]
    },
    {
      "cell_type": "markdown",
      "metadata": {
        "id": "BCDa5Qk3uZpP"
      },
      "source": [
        "**Video 6.2.2 - top down design - sentence-generator**"
      ]
    },
    {
      "cell_type": "markdown",
      "metadata": {
        "id": "IbesgEhWvmbl"
      },
      "source": [
        "importing random module - random has random numbers\n",
        "modules collection of diff function that wor in certain area\n",
        "lists - \n",
        "main function - ask the user to enter the number of sentences - for that number we will redo sentence generation over and over\n",
        "\n",
        "Main() - for entry executoin - return value in main function - it will have output anyways\n",
        "main part, list(data pool, define functions\n",
        "random.choice, add spaces\n",
        "deviding labor of making the sentence to solve the large problem\n",
        "defining main will define the sentence.\n",
        "if you didnt want to have user interaction, you could just use sentence funtion\n",
        "main() - better way to orgnize data\n",
        "dictionary different partss are related by association. this is different from list. If we used dictionaries in our example it would make our sentences have more sense."
      ]
    },
    {
      "cell_type": "code",
      "metadata": {
        "id": "DlpMMKzVJGqE"
      },
      "source": [
        ""
      ],
      "execution_count": null,
      "outputs": []
    },
    {
      "cell_type": "code",
      "metadata": {
        "id": "rmOYzKC2nuJN"
      },
      "source": [
        "\n",
        "def is_even_num(l): # Define 2 functions and Main\n",
        "enum = []\n",
        "for n in l:\n",
        "if n % 2 == 0:\n",
        "enum.append(n)\n",
        "return enum\n",
        "  \n",
        "  \n",
        "  \n",
        "def test_prime(n):\n",
        "if (n==1):\n",
        "return False\n",
        "elif (n==2):\n",
        "return True;\n",
        "else:\n",
        "for x in range(2,n):\n",
        "if(n % x==0):\n",
        "return False\n",
        "return True\n",
        "  \n",
        "print(test_prime(5))\n",
        "print(is_even_num([1, 2, 3, 4, 5, 6, 7,10 ]))\n",
        "Main number number message message Test prime s.evennum\n",
        "\n",
        "Top-Down Design- A top-down approach is also called a stepwise design. This type of design is essentially the breaking down of a program to gain insight into the sub-functions that make it up. In this design, an overview of the program is formulated, specifying but not detailing any first-level subsystems. Each sub-functions is then refined in yet greater detail, sometimes in many additional subfunction levels, until the entire specification is reduced to base elements. Once they are built we can put them together, making the entire program form these individual components.\n",
        "\n",
        "The top design begins by specifying complex pieces and then dividing them into successively smaller pieces.\n",
        "\n",
        "Example-\n",
        "\n",
        "            Suppose we want to implement a program that will ask the users to enter a list of numbers and then will answer which pairs of numbers are evenly divisible. For example- we have a list of integers- 1,2,3,4,5,6,8 is entered. The program should give result-\n",
        "\n",
        "1 is evenly divisible by 1\n",
        "\n",
        "2 is evenly divisible by 1 2\n",
        "\n",
        "3 is evenly divisible by 1 3\n",
        "\n",
        "4 is evenly divisible by 1 2 4\n",
        "\n",
        "5 is evenly divisible by 1 5\n",
        "\n",
        "6 is evenly divisible by 1 2 3 6\n",
        "\n",
        "8 is evenly divisible by 1 2 4 8\n",
        "\n",
        "To perform this task, a top-down design would start with getting the input from the user.\n",
        "\n",
        "Step -1 list = input(“Please enter a list of integers”)\n",
        "\n",
        "Step-2 list1 = []\n",
        "\n",
        "Step-3 for x in list.split[]:\n",
        "\n",
        "Step-4 list1.append(int(x))\n",
        "\n",
        "Step-5\n",
        "\n",
        "Step-6 evenlyDivisible(list)"
      ],
      "execution_count": null,
      "outputs": []
    },
    {
      "cell_type": "markdown",
      "metadata": {
        "id": "y69v9OkjQMJR"
      },
      "source": [
        "# **Class Notes - 10/5**"
      ]
    },
    {
      "cell_type": "markdown",
      "metadata": {
        "id": "LdICRrJJRSmJ"
      },
      "source": [
        "sentiment analysis\n",
        "\n",
        "use python for addressing business problems:\n",
        "- pipeline\n",
        "- webscraping using different libraries and modules\n",
        " - making a data pipeline\n",
        "  - making a predictive model\n",
        "\n",
        "Problem: look at diff websites - somehow scrap data out of website\n",
        "- example - wiki\n",
        "- today - scraping data - lots of tables in python - python is good at making different objects show up\n",
        "- object - \n",
        " - oop - making \n",
        " - variable - usuually we are talking about a categorical value or numerical - assigned and can be used later\n",
        " - abstraction -simplification of \n",
        " - defining a function is a type of abstraction - putting things together that do a thing\n",
        " -object - another idea of abstraction - define class of objects that have class of common properties and then estentiate that object and bring it into environment - enstentiating - assigning object as values\n",
        " -object oriented - python good at handling objects\n",
        " - data frames - \n",
        " - we do not want to redo ourselves, so when we define we can apply to different \n",
        " **extentiate objects\n",
        " -pandas - library or module that can help us manipulate tables and models\n",
        "\n",
        " wikipedia - basically we have scrapped all \n",
        "\n",
        " highlight - inspect - opens \n",
        "\n",
        " everything is divided in a table like manner - tell python to go and pick up information we have in example(plot 1, plot2, plot3)\n",
        "\n",
        " import pandas as pd\n",
        " import time - update model in real time of your click\n",
        " \n",
        " article = pd.read_html\n",
        "(USE REQUEST AND URL) - There are different ways to get data from web\n",
        "\n",
        "IMBD page - \n",
        "url = \n",
        "def get_page_content(url)"
      ]
    },
    {
      "cell_type": "markdown",
      "metadata": {
        "id": "YteARUzLWnIW"
      },
      "source": [
        "homework - look ar imb code and try to fix the issue\n",
        "change it to show it correctly in our platform - IMDB rating - /n/n9.3/n - should just show 9.3\n",
        "-one solution go up to the line 6 IBM rating and change that\n",
        "/n - line break\n",
        "need the \n"
      ]
    },
    {
      "cell_type": "code",
      "metadata": {
        "id": "6hXqmsWDXZoH",
        "outputId": "6324ee86-c3a7-4d37-ca74-a9a9870b483c",
        "colab": {
          "base_uri": "https://localhost:8080/",
          "height": 164
        }
      },
      "source": [
        "imbd_rating(0).split()"
      ],
      "execution_count": 9,
      "outputs": [
        {
          "output_type": "error",
          "ename": "NameError",
          "evalue": "ignored",
          "traceback": [
            "\u001b[0;31m---------------------------------------------------------------------------\u001b[0m",
            "\u001b[0;31mNameError\u001b[0m                                 Traceback (most recent call last)",
            "\u001b[0;32m<ipython-input-9-b7d27e07f852>\u001b[0m in \u001b[0;36m<module>\u001b[0;34m()\u001b[0m\n\u001b[0;32m----> 1\u001b[0;31m \u001b[0mimbd_rating\u001b[0m\u001b[0;34m(\u001b[0m\u001b[0;36m0\u001b[0m\u001b[0;34m)\u001b[0m\u001b[0;34m.\u001b[0m\u001b[0msplit\u001b[0m\u001b[0;34m(\u001b[0m\u001b[0;34m)\u001b[0m\u001b[0;34m\u001b[0m\u001b[0;34m\u001b[0m\u001b[0m\n\u001b[0m",
            "\u001b[0;31mNameError\u001b[0m: name 'imbd_rating' is not defined"
          ]
        }
      ]
    },
    {
      "cell_type": "code",
      "metadata": {
        "id": "fEVl7R0eXcyi"
      },
      "source": [
        ""
      ],
      "execution_count": null,
      "outputs": []
    },
    {
      "cell_type": "markdown",
      "metadata": {
        "id": "-riWpaNFXdbQ"
      },
      "source": [
        "it is currently in a list, so you might need to change to float - try a split -\n",
        "\n",
        "How do we fix the entire problem - look into the code and fix issue. Arash has building blocks that he works with\n",
        "good application genie\n",
        "look at python as a toolbox\n",
        "*make sure to import 3 at top\n",
        "work on programs and make them better"
      ]
    },
    {
      "cell_type": "markdown",
      "metadata": {
        "id": "jvZbszCiZEKm"
      },
      "source": [
        "project -make model that helps understand if customer felt good or bad about product - sentiemtn analysis\n",
        "\n",
        "looks at articles on web \n",
        "need to inspect variables\n",
        "look for object we are looking for and do it over and over and over and over\n",
        "\n",
        "we can also take the data and put it in csv file\n",
        "df. to cvs('NAMEIT') - make sure it saves somewhere - might need to set this up in googlecollab - df stands for data frame\n",
        "\n",
        "pandas - df are set up\n",
        "\n",
        "functional programming"
      ]
    },
    {
      "cell_type": "code",
      "metadata": {
        "id": "WbOvMvOQZ3D8"
      },
      "source": [
        ""
      ],
      "execution_count": null,
      "outputs": []
    },
    {
      "cell_type": "markdown",
      "metadata": {
        "id": "miK8j4pfa1Lc"
      },
      "source": [
        "df =pd.DataFrame(df_xxx - you have to tell the code to make a df\n",
        "\n",
        "created in idle\n",
        "saved in table - to_csv(xxx)\n",
        "Pick different collumns or attributes\n",
        "\n",
        "last week classification model - uber review - highly reccomend to basically follow steps from this class to last class by the steps we have used in this class. \n",
        "created a data pipeline - google\n",
        "ETL - extract transform and load\n",
        "extracted info from web page transformed into data fram and loaded it into our system\n",
        "relational; data bases\n",
        "website - data base\n",
        "non relational data sets\n",
        "sequal - standard queery language - queery - load data from a data base you do a queery\n",
        "sql is a 'language' that help you do queery from traditional or relational databases\n",
        "psuedo language - what and why do we call sql a psuedo\n",
        "\n",
        "homework2: lots of negative reviswes - bias datasets - biase data set - \n",
        "imbalance data set but towards positive - last week exersise - postive and negative sentence anything more than 3 positive and same for negative - \n",
        "\n",
        "df[binary_class-\n",
        "error cannot compare string and integers - came out as integer when we need a float -this is on line ->type(\n",
        "  we need to transform all values into float. we can do 1 by 1 or method\n",
        "  \n",
        "  line -> dp binary class np.where df rating\n",
        "  made split\n",
        "\n",
        "DO THIS AS EXCERSIE\n",
        "\n",
        "Next time:\n",
        "Image Processing\n",
        "manipulate in python\n",
        "\n",
        "7th session(last)\n",
        "Q/A\n",
        "bring alot of questions\n",
        "\n",
        "\n",
        "psuedo programming language - it programming you can implement step by step solution to solve problems - you can develop algorith practically any problem you face\n",
        "\n",
        "psudo -like sql - specific purposes - \n",
        "psuedo - no - specific purpose\n",
        "\n",
        "information for stock market - search for aapl - scraping data - one way to bring code into approach - scraping is brute force\n",
        "\n",
        "another approach: API - application program interface - using API is basically scraping but from your program environment - we can use yahoo API in order to manipulate whatever you'd like - real time\n",
        "\n",
        "mapbox\n",
        "\n",
        "tokens are given to you for a program -\n",
        "\n",
        "- yahoofinace - free \n",
        "\n",
        "api - if free they give you a free interface\n",
        "\n",
        "implementing strategies in stock market\n",
        "\n",
        "concept of assimilation\n",
        "\n",
        "simulation - write a couple of paragraphs in the context of python\n",
        "financial simulation - "
      ]
    }
  ]
}