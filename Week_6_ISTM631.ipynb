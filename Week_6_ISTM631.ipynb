{
  "nbformat": 4,
  "nbformat_minor": 0,
  "metadata": {
    "colab": {
      "name": "Week 6 - ISTM631.ipynb",
      "provenance": [],
      "authorship_tag": "ABX9TyPeLbqrd32JabvvpyAjkIxi",
      "include_colab_link": true
    },
    "kernelspec": {
      "name": "python3",
      "display_name": "Python 3"
    }
  },
  "cells": [
    {
      "cell_type": "markdown",
      "metadata": {
        "id": "view-in-github",
        "colab_type": "text"
      },
      "source": [
        "<a href=\"https://colab.research.google.com/github/maxwellrandolph/ISTM631---Professor-Arash/blob/master/Week_6_ISTM631.ipynb\" target=\"_parent\"><img src=\"https://colab.research.google.com/assets/colab-badge.svg\" alt=\"Open In Colab\"/></a>"
      ]
    },
    {
      "cell_type": "markdown",
      "metadata": {
        "id": "TkeQrvYMkzVB"
      },
      "source": [
        "**Video Notes**"
      ]
    },
    {
      "cell_type": "code",
      "metadata": {
        "id": "DBCSwJX_ks8s",
        "outputId": "e8a32732-2f71-4d96-92d1-93726a4e32d2",
        "colab": {
          "base_uri": "https://localhost:8080/",
          "height": 34
        }
      },
      "source": [
        "def summation(lower, upper):\n",
        "  result = 0 #initializing your value, make some sort of initialization. update value as you go. initializing the data, table, etc makes sure your program is easy to follow and fatsrer\n",
        "  while lower <= upper:\n",
        "    result += lower #self augmented function(+=) updating value. update lower value from 0 as we go \n",
        "    lower += 1 # moving from lower to upper and updating value\n",
        "  return result \n",
        "summation(1,12)"
      ],
      "execution_count": 15,
      "outputs": [
        {
          "output_type": "execute_result",
          "data": {
            "text/plain": [
              "78"
            ]
          },
          "metadata": {
            "tags": []
          },
          "execution_count": 15
        }
      ]
    },
    {
      "cell_type": "code",
      "metadata": {
        "id": "Vf9dE5dImwj4",
        "outputId": "caa5650d-bb72-41b5-93d7-a606d1e89aca",
        "colab": {
          "base_uri": "https://localhost:8080/",
          "height": 34
        }
      },
      "source": [
        "summation(20,30) #this algorithm solves a general problem(INSTANCE of the problem) each time there are actual values put into the general method we soolve an instance of the problem"
      ],
      "execution_count": 17,
      "outputs": [
        {
          "output_type": "execute_result",
          "data": {
            "text/plain": [
              "275"
            ]
          },
          "metadata": {
            "tags": []
          },
          "execution_count": 17
        }
      ]
    },
    {
      "cell_type": "markdown",
      "metadata": {
        "id": "DYFlIJv3qmnt"
      },
      "source": [
        "**Question 6.1.3 Anne complains that defining functions to use in her programs is a lot of extra work. She says she can finish her programs much more quickly if she just writes them using the basic operators and control statements. State three reasons why her view is shortsighted.**\n",
        "A good general method should include a function that solves broad problem instances. 1. Anne could have the exact same problem with different numbers. This would actually save her time. She could use variables in her code rather than numbers, so she could easily reproduce the outcome without rewriting the equation. 2. Anne could slightly change the functionality of her code and additionally save more time. As an example Anne could easily change code from addition to multiplication rather than coding a new function. 3. Anne could add a piece of code that uses variables rather numbers to a larger piece of code that completes a larger task to simplify the process and save time."
      ]
    },
    {
      "cell_type": "markdown",
      "metadata": {
        "id": "0-MDjpBGq0Fl"
      },
      "source": [
        "**Q 6.1.4 Explain how an algorithm solves a general class of problems and how a function definition can support this property of an algorithm.**\n",
        "An abstract algorithm is as simple as possible, which makes it applicable to many different problem instances. A function definition supports this concept by hiding complicated details. A function call expresses the idea of aa process to the programmer without forcing him/her to wade through complex code that realizes the data."
      ]
    },
    {
      "cell_type": "markdown",
      "metadata": {
        "id": "BCDa5Qk3uZpP"
      },
      "source": [
        "**Video 6.2.2 - top down design - sentence-generator**"
      ]
    },
    {
      "cell_type": "markdown",
      "metadata": {
        "id": "IbesgEhWvmbl"
      },
      "source": [
        "importing random module - random has random numbers\n",
        "modules collection of diff function that wor in certain area\n",
        "lists - \n",
        "main function - ask the user to enter the number of sentences - for that number we will redo sentence generation over and over\n",
        "\n",
        "Main() - for entry executoin - return value in main function - it will have output anyways\n",
        "main part, list(data pool, define functions\n",
        "random.choice, add spaces\n",
        "deviding labor of making the sentence to solve the large problem\n",
        "defining main will define the sentence.\n",
        "if you didnt want to have user interaction, you could just use sentence funtion\n",
        "main() - better way to orgnize data\n",
        "dictionary different partss are related by association. this is different from list. If we used dictionaries in our example it would make our sentences have more sense."
      ]
    },
    {
      "cell_type": "code",
      "metadata": {
        "id": "rmOYzKC2nuJN"
      },
      "source": [
        ""
      ],
      "execution_count": null,
      "outputs": []
    },
    {
      "cell_type": "markdown",
      "metadata": {
        "id": "y69v9OkjQMJR"
      },
      "source": [
        "# **Class Notes - 10/5**"
      ]
    },
    {
      "cell_type": "markdown",
      "metadata": {
        "id": "LdICRrJJRSmJ"
      },
      "source": [
        "sentiment analysis\n",
        "use python fro addressing business prooblems\n",
        "- pipeline\n",
        "- webscraping using different livbrariews and modules\n",
        " - making a data pipeline\n",
        "  - making apredictive model\n",
        "\n",
        "  - problem look at diff websites - somehow scrap data out of website\n",
        "- example - wiki\n",
        "- today - scraping data - lots of tabl;es in python - python is good at making different \n",
        "- object - \n",
        " - oop - making \n",
        " - variable - usuually we are talking about a categorical value or numerical - assigned and can be used later\n",
        " - abstraction -simplification of \n",
        " - defining a function is a type of abstraction - putting things together that do a thing\n",
        " -object - another idea of abstraction - define class of objects that have class of common properties and thenestentiate that object and bring it inot environment - enstentiating - assigning object as values\n",
        " -object oriented - python good at handling objects\n",
        " - data frames - \n",
        " - we do not want to redo ourselves, so when we define we can apply to different \n",
        " **extentiate objects\n",
        " -pandas - library or module that can help us manipulate tables and models\n",
        "\n",
        " wikipedia - basically we have scrapped all \n",
        "\n",
        " highlight - inspect - opens \n",
        "\n",
        " everything is divided in a table like manner - tell python to go and pick up information we have in eaxample(plot 1, plot2, plot3)\n",
        "\n",
        " import pandas as pd\n",
        " import time - update model in real time of your click\n",
        " \n",
        " article = pd.read_html\n",
        "(USE REQUEST AND URL) - There are different ways to get data from web\n",
        "\n"
      ]
    },
    {
      "cell_type": "markdown",
      "metadata": {
        "id": "U-1e5Fd9WgAR"
      },
      "source": [
        "IMBD page - \n",
        "url = \n",
        "def get_page_content(url)\n",
        "\n",
        "we have di"
      ]
    },
    {
      "cell_type": "markdown",
      "metadata": {
        "id": "YteARUzLWnIW"
      },
      "source": [
        "homework - look ar imb code and try to fix the issue\n",
        "change it to show it correctly in our platform - IMDB rating - /n/n9.3/n - should just show 9.3\n",
        "-one solution go up to the line 6 IBM rating and change that\n",
        "/n - line break\n",
        "need the \n"
      ]
    },
    {
      "cell_type": "code",
      "metadata": {
        "id": "6hXqmsWDXZoH",
        "outputId": "f29ee5b9-7d38-40b4-ad9d-fdf023f527bd",
        "colab": {
          "base_uri": "https://localhost:8080/",
          "height": 164
        }
      },
      "source": [
        "imbd_rating(0).split()"
      ],
      "execution_count": 18,
      "outputs": [
        {
          "output_type": "error",
          "ename": "NameError",
          "evalue": "ignored",
          "traceback": [
            "\u001b[0;31m---------------------------------------------------------------------------\u001b[0m",
            "\u001b[0;31mNameError\u001b[0m                                 Traceback (most recent call last)",
            "\u001b[0;32m<ipython-input-18-513606158d05>\u001b[0m in \u001b[0;36m<module>\u001b[0;34m()\u001b[0m\n\u001b[0;32m----> 1\u001b[0;31m \u001b[0mimbd_rating\u001b[0m\u001b[0;34m(\u001b[0m\u001b[0;36m0\u001b[0m\u001b[0;34m)\u001b[0m\u001b[0;34m\u001b[0m\u001b[0;34m\u001b[0m\u001b[0m\n\u001b[0m",
            "\u001b[0;31mNameError\u001b[0m: name 'imbd_rating' is not defined"
          ]
        }
      ]
    },
    {
      "cell_type": "code",
      "metadata": {
        "id": "fEVl7R0eXcyi"
      },
      "source": [
        ""
      ],
      "execution_count": null,
      "outputs": []
    },
    {
      "cell_type": "markdown",
      "metadata": {
        "id": "-riWpaNFXdbQ"
      },
      "source": [
        "it is currently in a list, so you might need to change to float - try a split -\n",
        "\n",
        "How do we fix the entire problem - look into the code and fix issue. Arash has building blocks that he works with\n",
        "good application genie\n",
        "look at python as a toolbox\n",
        "*make sure to import 3 at top\n",
        "work on programs and make them better"
      ]
    },
    {
      "cell_type": "markdown",
      "metadata": {
        "id": "jvZbszCiZEKm"
      },
      "source": [
        "project -make model that helps understand if customer felt good or bad about product - sentiemtn analysis\n",
        "\n",
        "looks at articles on web \n",
        "need to inspect variables\n",
        "look for object we are looking for and do it over and over and over and over\n",
        "\n",
        "we can also take the data and put it in csv file\n",
        "df. to cvs('NAMEIT') - make sure it saves somewhere - might need to set this up in googlecollab - df stands for data frame\n",
        "\n",
        "pandas - df are set up\n",
        "\n",
        "functional programming"
      ]
    },
    {
      "cell_type": "code",
      "metadata": {
        "id": "WbOvMvOQZ3D8"
      },
      "source": [
        ""
      ],
      "execution_count": null,
      "outputs": []
    },
    {
      "cell_type": "markdown",
      "metadata": {
        "id": "miK8j4pfa1Lc"
      },
      "source": [
        "df =pd.DataFrame(df_xxx - you have to tell the code to make a df\n",
        "\n",
        "created in idle\n",
        "saved in table - to_csv(xxx)\n",
        "Pick different collumns or attributes\n",
        "\n",
        "last week classification model - uber review - highly reccomend to basically follow steps from this class to last class by the steps we have used in this class. \n",
        "created a data pipeline - google\n",
        "ETL - extract transform and load\n",
        "extracted info from web page transformed into data fram and loaded it into our system\n",
        "relational; data bases\n",
        "website - data base\n",
        "non relational data sets\n",
        "sequal - standard queery language - queery - load data from a data base you do a queery\n",
        "sql is a 'language' that help you do queery from traditional or relational databases\n",
        "psuedo language - what and why do we call sql a psuedo\n",
        "\n",
        "homework2: lots of negative reviswes - bias datasets - biase data set - \n",
        "imbalance data set but towards positive - last week exersise - postive and negative sentence anything more than 3 positive and same for negative - \n",
        "\n",
        "df[binary_class-\n",
        "error cannot compare string and integers - came out as integer when we need a float -this is on line ->type(\n",
        "  we need to transform all values into float. we can do 1 by 1 or method\n",
        "  \n",
        "  line -> dp binary class np.where df rating\n",
        "  made split\n",
        "\n",
        "DO THIS AS EXCERSIE\n",
        "\n",
        "Next time:\n",
        "Image Processing\n",
        "manipulate in python\n",
        "\n",
        "7th session(last)\n",
        "Q/A\n",
        "bring alot of questions\n",
        "\n",
        "\n",
        "psuedo programming language - it programming you can implement step by step solution to solve problems - you can develop algorith practically any problem you face\n",
        "\n",
        "psudo -like sql - specific purposes - \n",
        "psuedo - no - specific purpose\n",
        "\n",
        "information for stock market - search for aapl - scraping data - one way to bring code into approach - scraping is brute force\n",
        "\n",
        "another approach: API - application program interface - using API is basically scraping but from your program environment - we can use yahoo API in order to manipulate whatever you'd like - real time\n",
        "\n",
        "mapbox\n",
        "\n",
        "tokens are given to you for a program -\n",
        "\n",
        "- yahoofinace - free \n",
        "\n",
        "api - if free they give you a free interface\n",
        "\n",
        "implementing strategies in stock market\n",
        "\n",
        "concept of assimilation\n",
        "\n",
        "simulation - write a couple of paragraphs in the context of python\n",
        "financial simulation - "
      ]
    },
    {
      "cell_type": "code",
      "metadata": {
        "id": "cjwV6J7CcN86"
      },
      "source": [
        ""
      ],
      "execution_count": null,
      "outputs": []
    }
  ]
}