{
  "nbformat": 4,
  "nbformat_minor": 0,
  "metadata": {
    "colab": {
      "name": "Week 5.ipynb",
      "provenance": [],
      "authorship_tag": "ABX9TyMCyEtYmyjvF9O9i/0U/6U2",
      "include_colab_link": true
    },
    "kernelspec": {
      "name": "python3",
      "display_name": "Python 3"
    }
  },
  "cells": [
    {
      "cell_type": "markdown",
      "metadata": {
        "id": "view-in-github",
        "colab_type": "text"
      },
      "source": [
        "<a href=\"https://colab.research.google.com/github/maxwellrandolph/ISTM631---Professor-Arash/blob/master/Week_5.ipynb\" target=\"_parent\"><img src=\"https://colab.research.google.com/assets/colab-badge.svg\" alt=\"Open In Colab\"/></a>"
      ]
    },
    {
      "cell_type": "markdown",
      "metadata": {
        "id": "Goo4tRN-qzxx"
      },
      "source": [
        "## **CLASS 5 Starts here October 1st**\n",
        "Email monday before class\n",
        "\n",
        "```\n",
        "-\n",
        "```\n",
        "\n",
        "### **HOMEWORK:**\n",
        "\n",
        "**df_originals - highlight each method and the objects they're applied to:**\n",
        "```\n",
        "\"df_originals = df_retweets.groupby(['original']).sum().sort_values('retweets').reset_index().sort_values('retweets', ascending=False)\"\n",
        "```\n",
        "Methods: .groupby, .sum, .sort_values, .reset_index, and sort_values\n",
        "\n",
        "---\n",
        "\n",
        "\n",
        "\n",
        "---\n",
        "\n",
        ".groupby is applied to df_retweets\n",
        "```\n",
        "-\n",
        "```\n",
        ".sum is applied to df_retweets.groupby(['original'])\n",
        "```\n",
        "-\n",
        "```\n",
        ".sort_values is applied to df_retweets.groupby(['original']).sum()\n",
        "```\n",
        "-\n",
        "```\n",
        ".reset_index is applied to df_retweets.groupby(['original']).sum().sort_values('retweets') \n",
        "```\n",
        "-\n",
        "```\n",
        "sort_values is applied to df_retweets.groupby(['original']).sum().sort_values('retweets').reset_index()"
      ]
    },
    {
      "cell_type": "markdown",
      "metadata": {
        "id": "DJOgjwqKPQW7"
      },
      "source": [
        "# ***Q1 --> what is the difference between a class and a module?***\n",
        "\n",
        "A class can be looked at as a model or blueprint for defining an object. You instentiate an instance from a class and that defines and makes your object. Each class defines the data and methods which are authorized to operate on that data. They are used for a specific piece of functionality. For example we defined a class of (circle) first and then extentiate that class to an object in our programing environment by giving it attributes such as radius and color. A module or library is a collection of utilities including classes, methods, functions, interfaces, values, constants, etc that offer help for completing coding tasks. Classes are usually created at the individual,team, or company level, whereas modules are created by professionals on that specific coding language. With modules or libraries you are using a framework to direct your architecture. Classes are code used by individuals or teams to define specific objects that make up a program, whereas modules are files that contain code usually created by high level programmers to assist coders in creating the framework of a program."
      ]
    },
    {
      "cell_type": "markdown",
      "metadata": {
        "id": "iAxUOnXONuh5"
      },
      "source": [
        "# ***Q2 --> what is the differencce between a function and a method?***"
      ]
    },
    {
      "cell_type": "markdown",
      "metadata": {
        "id": "dOxpP4E4MHTu"
      },
      "source": [
        "A function is a set of inputs that produce a single related action. A method is a procedure associated with a message and an object. Functions and methods can be view as the same thing in most instances, yet methods must be applied to a class of an object. Functions may be applied on thier own. Methods give you a way to change or interact with the object; they are functions that interact with objects. Functions are written in code as the following:function(object). An example of a function would be: a = input('Name of circle: '). Methods are written in code as the following: object.method. An example of a method would be: redcicle.radius. Functions are repeatable peices of code independent of classes or objects, while methods are always associated with objects instance.\n",
        "\n"
      ]
    },
    {
      "cell_type": "markdown",
      "metadata": {
        "id": "awfHruhSzdkz"
      },
      "source": [
        "# **Q3 --> Write a code that determines in a string of text is a palidrome or not**"
      ]
    },
    {
      "cell_type": "code",
      "metadata": {
        "id": "kLN_CWwny-j5"
      },
      "source": [
        "a = 'tenet'\n",
        "\n",
        "def Palindrome(a):\n",
        "    return a == a[::-1]\n",
        " \n",
        "ans = Palindrome(a)\n",
        " \n",
        "if ans:\n",
        "    print(\"Yes\")\n",
        "else:\n",
        "    print(\"No\")\n"
      ],
      "execution_count": null,
      "outputs": []
    },
    {
      "cell_type": "code",
      "metadata": {
        "id": "6QUTgwzfzGXI"
      },
      "source": [
        "filename = 'testpalindrom1.txt'  #variable filename assigned to AKJV.txt\n",
        "\n",
        "try: #try block\n",
        "  with open(filename) as file_object:\n",
        "    contents = file_object.read() #create variable - contents to read entire file\n",
        "except FileNotFoundError:#if we cannot find the file tell us\n",
        "  message = \"Sorry, the file \" + filename + \" cannot be found.\"\n",
        "  print (message)\n",
        "else: #otherwise the variable words slpits our content(all read file) into a space - system seperates by spaces automatically in a list\n",
        "  words = contents.split()\n",
        "  number_words = len(words) #vaRIABLE = the length of the words in the list of words\n",
        "  print(\"The file \" + filename + \" has approximately \" + str(number_words) + \" words.\")\n",
        "#output -> The file AKJV.txt has approximately 821735 words."
      ],
      "execution_count": null,
      "outputs": []
    },
    {
      "cell_type": "code",
      "metadata": {
        "id": "ARomt60qzJ4k"
      },
      "source": [
        "def isPalindrome():\n",
        "    if (s==s[::-1] ): return True\n",
        "    else: return False\n",
        "\n",
        "def findPalindrome():\n",
        "    list3 = list()\n",
        "    for line in open(\"testpalindrom1.txt\"):   \n",
        "        list1 = line.strip() \n",
        "        list2 = list1.split() \n",
        "        for x in list2: \n",
        "            if isPalindrome(x):\n",
        "                list3.append(x)\n",
        "            return list3\n",
        "print(list3)"
      ],
      "execution_count": null,
      "outputs": []
    },
    {
      "cell_type": "code",
      "metadata": {
        "id": "vUQ0NgjyzRaQ"
      },
      "source": [
        "def isPalindrome():\n",
        "    if (s==s[::-1] ): return True\n",
        "    else: return False\n",
        "\n",
        "def findPalindrome():\n",
        "    list3 = list()\n",
        "    with open(\"testpalindrom1.txt\") as file_object:   \n",
        "        list1 = line.strip() \n",
        "        list2 = list1.split() \n",
        "        for x in list2: \n",
        "            if isPalindrome(file_object):\n",
        "                list3.append(file_object)\n",
        "            return list3\n",
        "print(list3)"
      ],
      "execution_count": null,
      "outputs": []
    },
    {
      "cell_type": "code",
      "metadata": {
        "id": "-e0ZYM7azNpp"
      },
      "source": [
        "res = []\n",
        "with open('testpalindrom1.txt', 'r') as file_object:\n",
        "    content = [l.strip() for l in file_object.readlines() if l.strip()]\n",
        "    for line in content:\n",
        "        if line == line[::-1]:\n",
        "            res.append(line)\n",
        "print(res.append(line))"
      ],
      "execution_count": null,
      "outputs": []
    },
    {
      "cell_type": "code",
      "metadata": {
        "id": "FCFGkZL_alCd"
      },
      "source": [
        "#create and write text file\n",
        "f = open('bookstoread.txt', 'w+') #2 attributes: file we open and string that represents permissions(w+ read & write)\n",
        "\n",
        "for i in range (10):\n",
        "  f.write(\"This is line %d/r/n\" % (i+1)) #Loop that runs over range of 10 numbers,using write funtion to enter data, displays integer\n",
        "  f.close"
      ],
      "execution_count": 3,
      "outputs": []
    },
    {
      "cell_type": "code",
      "metadata": {
        "id": "E_RL8-ag9hL2",
        "outputId": "d3218a39-0c5d-4a83-c21f-c99af5ccf1c6",
        "colab": {
          "base_uri": "https://localhost:8080/",
          "height": 130
        }
      },
      "source": [
        "def findPalindrome(): \n",
        "    list3=list() \n",
        "    for line in open(\"English.txt\"): \n",
        "        list1 = line.strip() \n",
        "        list2 = list1.split() \n",
        "    for x in list2: \n",
        "        if isPalindrome(x): \n",
        "        list3.append(x) \n",
        "     return list3 "
      ],
      "execution_count": 17,
      "outputs": [
        {
          "output_type": "error",
          "ename": "IndentationError",
          "evalue": "ignored",
          "traceback": [
            "\u001b[0;36m  File \u001b[0;32m\"<ipython-input-17-0f6274fe26fa>\"\u001b[0;36m, line \u001b[0;32m8\u001b[0m\n\u001b[0;31m    list3.append(x)\u001b[0m\n\u001b[0m        ^\u001b[0m\n\u001b[0;31mIndentationError\u001b[0m\u001b[0;31m:\u001b[0m expected an indented block\n"
          ]
        }
      ]
    },
    {
      "cell_type": "code",
      "metadata": {
        "id": "-s6lgVgADNJ7",
        "outputId": "93ec69eb-4c2f-4436-ee9f-a3ba659c483f",
        "colab": {
          "base_uri": "https://localhost:8080/",
          "height": 34
        }
      },
      "source": [
        "filename = 'AKJV.txt'\n",
        "\n",
        "try:\n",
        "  with open(filename) as file_object:\n",
        "    contents = file_object.read()\n",
        "except FileNotFoundError:\n",
        "  message = \"Sorry, the file \" + filename + \" cannot be found.\"\n",
        "  print (message)\n",
        "else:\n",
        "  words = contents.split()\n",
        "  number_words = len(words)\n",
        "  print(\"The file \" + file_name + \" has approximately \" + str(number_words) + \"words.\")"
      ],
      "execution_count": 5,
      "outputs": [
        {
          "output_type": "stream",
          "text": [
            "Sorry, the file AKJV.txt cannot be found.\n"
          ],
          "name": "stdout"
        }
      ]
    },
    {
      "cell_type": "code",
      "metadata": {
        "id": "inYrhq5T-c6_"
      },
      "source": [
        "def findPalindrome(): \n",
        "    list3=list() \n",
        "    for line in open(\"English.txt\"): \n",
        "        list1 = line.strip() \n",
        "        list2 = list1.split() \n",
        "    for x in list2: \n",
        "        if isPalindrome(x): \n",
        "        list3.append(x) \n",
        "     return list3 "
      ],
      "execution_count": 38,
      "outputs": []
    },
    {
      "cell_type": "code",
      "metadata": {
        "id": "__u5WwUVIt5B",
        "outputId": "0802b826-6213-4225-f6ac-d94871b35235",
        "colab": {
          "base_uri": "https://localhost:8080/",
          "height": 51
        }
      },
      "source": [
        "# function which return reverse of a string\n",
        " \n",
        "def isPalindrome(s):\n",
        "    return s == s[::-1]\n",
        " \n",
        " \n",
        "# Driver code\n",
        "s = input('Enter string to see if Palindrome: ')\n",
        "ans = isPalindrome(s)\n",
        " \n",
        "if ans:\n",
        "    print(\"Yes\")\n",
        "else:\n",
        "    print(\"No\")"
      ],
      "execution_count": 34,
      "outputs": [
        {
          "output_type": "stream",
          "text": [
            "Enter string to see if Palindrome: wow\n",
            "Yes\n"
          ],
          "name": "stdout"
        }
      ]
    },
    {
      "cell_type": "markdown",
      "metadata": {
        "id": "zrxtaQvMAyAY"
      },
      "source": [
        "# **Week 5 - Video Notes/Class Notes**"
      ]
    },
    {
      "cell_type": "markdown",
      "metadata": {
        "id": "gpvA2dYqAkDy"
      },
      "source": [
        "## **`Video 5.1 Lists - `**\n",
        "\n"
      ]
    },
    {
      "cell_type": "code",
      "metadata": {
        "id": "PzXdLNqkAxHU"
      },
      "source": [
        "import math #pi Square root"
      ],
      "execution_count": null,
      "outputs": []
    },
    {
      "cell_type": "code",
      "metadata": {
        "id": "STDrDvo7BLEi",
        "outputId": "84363e13-0f3b-42b9-af56-f8534e90a8e1",
        "colab": {
          "base_uri": "https://localhost:8080/",
          "height": 34
        }
      },
      "source": [
        "x = 2 #just a number\n",
        "[x, math.sqrt(x)] #list #data type is float"
      ],
      "execution_count": null,
      "outputs": [
        {
          "output_type": "execute_result",
          "data": {
            "text/plain": [
              "[2, 1.4142135623730951]"
            ]
          },
          "metadata": {
            "tags": []
          },
          "execution_count": 4
        }
      ]
    },
    {
      "cell_type": "code",
      "metadata": {
        "id": "FgveLnQBBUty",
        "outputId": "06106f5b-41a1-452e-c51d-bd4a5bd4f260",
        "colab": {
          "base_uri": "https://localhost:8080/",
          "height": 34
        }
      },
      "source": [
        "rangelist = list(range(1,5)) #list is a built in function\n",
        "rangelist"
      ],
      "execution_count": null,
      "outputs": [
        {
          "output_type": "execute_result",
          "data": {
            "text/plain": [
              "[1, 2, 3, 4]"
            ]
          },
          "metadata": {
            "tags": []
          },
          "execution_count": 8
        }
      ]
    },
    {
      "cell_type": "code",
      "metadata": {
        "id": "UyLvu-LCBtkV",
        "outputId": "3be40d47-0e9f-431c-82c9-25cd8c013e3c",
        "colab": {
          "base_uri": "https://localhost:8080/",
          "height": 34
        }
      },
      "source": [
        "3 in rangelist\n",
        "\n"
      ],
      "execution_count": null,
      "outputs": [
        {
          "output_type": "execute_result",
          "data": {
            "text/plain": [
              "True"
            ]
          },
          "metadata": {
            "tags": []
          },
          "execution_count": 9
        }
      ]
    },
    {
      "cell_type": "code",
      "metadata": {
        "id": "6hPTazWmB44y",
        "outputId": "a09e3978-e29d-4b28-e822-c45e440812d0",
        "colab": {
          "base_uri": "https://localhost:8080/",
          "height": 34
        }
      },
      "source": [
        "'3'in rangelist #false bc not the same data type\n"
      ],
      "execution_count": null,
      "outputs": [
        {
          "output_type": "execute_result",
          "data": {
            "text/plain": [
              "False"
            ]
          },
          "metadata": {
            "tags": []
          },
          "execution_count": 11
        }
      ]
    },
    {
      "cell_type": "code",
      "metadata": {
        "id": "RVzjpYCRCE4x",
        "outputId": "4a743d95-1010-4f20-dec2-e2e995d529fb",
        "colab": {
          "base_uri": "https://localhost:8080/",
          "height": 34
        }
      },
      "source": [
        "rangelist[0] #index"
      ],
      "execution_count": null,
      "outputs": [
        {
          "output_type": "execute_result",
          "data": {
            "text/plain": [
              "1"
            ]
          },
          "metadata": {
            "tags": []
          },
          "execution_count": 14
        }
      ]
    },
    {
      "cell_type": "code",
      "metadata": {
        "id": "6CDfJ03nCopn",
        "outputId": "25b80485-93df-4387-ba5e-f4717cfec96f",
        "colab": {
          "base_uri": "https://localhost:8080/",
          "height": 34
        }
      },
      "source": [
        "for index in range(len(rangelist)): #len\n",
        "  rangelist[index] = rangelist[index]**2\n",
        "rangelist"
      ],
      "execution_count": null,
      "outputs": [
        {
          "output_type": "execute_result",
          "data": {
            "text/plain": [
              "[1, 256, 6561, 65536]"
            ]
          },
          "metadata": {
            "tags": []
          },
          "execution_count": 20
        }
      ]
    },
    {
      "cell_type": "markdown",
      "metadata": {
        "id": "HxudAKToPxMr"
      },
      "source": [
        "## ***Video 5.22***"
      ]
    },
    {
      "cell_type": "code",
      "metadata": {
        "id": "qaqdP6uoP7RS",
        "outputId": "94a7a1e3-1b28-4785-9bc2-f73ba360024d",
        "colab": {
          "base_uri": "https://localhost:8080/",
          "height": 34
        }
      },
      "source": [
        "example = [1, 2]\n",
        "example"
      ],
      "execution_count": null,
      "outputs": [
        {
          "output_type": "execute_result",
          "data": {
            "text/plain": [
              "[1, 2]"
            ]
          },
          "metadata": {
            "tags": []
          },
          "execution_count": 44
        }
      ]
    },
    {
      "cell_type": "code",
      "metadata": {
        "id": "wM-54ildQA76",
        "outputId": "cc4a0050-3443-4953-958b-d44a05ee6e0c",
        "colab": {
          "base_uri": "https://localhost:8080/",
          "height": 34
        }
      },
      "source": [
        "example.insert(1,10) #if you run again it will put another 10 in the 1 placevalue(0,1,2)\n",
        "example"
      ],
      "execution_count": null,
      "outputs": [
        {
          "output_type": "execute_result",
          "data": {
            "text/plain": [
              "[1, 10, 2]"
            ]
          },
          "metadata": {
            "tags": []
          },
          "execution_count": 45
        }
      ]
    },
    {
      "cell_type": "code",
      "metadata": {
        "id": "sMzSHveQQNGQ",
        "outputId": "7874a8b1-e684-4869-f03e-25ebfe0b03d1",
        "colab": {
          "base_uri": "https://localhost:8080/",
          "height": 34
        }
      },
      "source": [
        "example.insert(3,25)\n",
        "example"
      ],
      "execution_count": null,
      "outputs": [
        {
          "output_type": "execute_result",
          "data": {
            "text/plain": [
              "[1, 10, 2, 25]"
            ]
          },
          "metadata": {
            "tags": []
          },
          "execution_count": 60
        }
      ]
    },
    {
      "cell_type": "code",
      "metadata": {
        "id": "G4njbuNVQ9eO",
        "outputId": "d8144daa-d1df-4311-fed1-43cd0e0bd47f",
        "colab": {
          "base_uri": "https://localhost:8080/",
          "height": 34
        }
      },
      "source": [
        "emaxple = [1,2]\n",
        "emaxple.append(3)\n",
        "emaxple"
      ],
      "execution_count": null,
      "outputs": [
        {
          "output_type": "execute_result",
          "data": {
            "text/plain": [
              "[1, 2, 3]"
            ]
          },
          "metadata": {
            "tags": []
          },
          "execution_count": 51
        }
      ]
    },
    {
      "cell_type": "code",
      "metadata": {
        "id": "WrMm1KcfRFvo",
        "outputId": "83bd7d00-3d35-4ce9-cd54-95ba4e16e1da",
        "colab": {
          "base_uri": "https://localhost:8080/",
          "height": 34
        }
      },
      "source": [
        "emaxple.extend((11,13,10))\n",
        "emaxple"
      ],
      "execution_count": null,
      "outputs": [
        {
          "output_type": "execute_result",
          "data": {
            "text/plain": [
              "[1, 2, 3, 11, 13, 10]"
            ]
          },
          "metadata": {
            "tags": []
          },
          "execution_count": 52
        }
      ]
    },
    {
      "cell_type": "code",
      "metadata": {
        "id": "Xa6PmsA6RJZB",
        "outputId": "54deaa34-2c72-4ec0-9180-bdb281c764fe",
        "colab": {
          "base_uri": "https://localhost:8080/",
          "height": 34
        }
      },
      "source": [
        "emaxple + [0 + 3]"
      ],
      "execution_count": null,
      "outputs": [
        {
          "output_type": "execute_result",
          "data": {
            "text/plain": [
              "[1, 2, 3, 11, 13, 10, 3]"
            ]
          },
          "metadata": {
            "tags": []
          },
          "execution_count": 53
        }
      ]
    },
    {
      "cell_type": "code",
      "metadata": {
        "id": "hkpw2q7TRizD",
        "outputId": "78580cc1-acef-4e8f-ad8e-d176eee56df7",
        "colab": {
          "base_uri": "https://localhost:8080/",
          "height": 34
        }
      },
      "source": [
        "emaxple # you can tell that with adding to the list does not mutate it, just gives an output with addition on it \n"
      ],
      "execution_count": null,
      "outputs": [
        {
          "output_type": "execute_result",
          "data": {
            "text/plain": [
              "[1, 2, 3, 11, 13, 10]"
            ]
          },
          "metadata": {
            "tags": []
          },
          "execution_count": 55
        }
      ]
    },
    {
      "cell_type": "code",
      "metadata": {
        "id": "6s7WGJp0Rl4e",
        "outputId": "d233f344-1a43-4c50-a395-08b72bb624a5",
        "colab": {
          "base_uri": "https://localhost:8080/",
          "height": 34
        }
      },
      "source": [
        "example"
      ],
      "execution_count": null,
      "outputs": [
        {
          "output_type": "execute_result",
          "data": {
            "text/plain": [
              "[1, 10, 2, 25]"
            ]
          },
          "metadata": {
            "tags": []
          },
          "execution_count": 61
        }
      ]
    },
    {
      "cell_type": "code",
      "metadata": {
        "id": "UuCLo0BbSCy_",
        "outputId": "9b68dbc2-1661-4cc2-d134-a533f3fa53c0",
        "colab": {
          "base_uri": "https://localhost:8080/",
          "height": 34
        }
      },
      "source": [
        "example.pop(0)\n",
        "example"
      ],
      "execution_count": null,
      "outputs": [
        {
          "output_type": "execute_result",
          "data": {
            "text/plain": [
              "[10, 2, 25]"
            ]
          },
          "metadata": {
            "tags": []
          },
          "execution_count": 62
        }
      ]
    },
    {
      "cell_type": "markdown",
      "metadata": {
        "id": "GYHJHdmAS5jy"
      },
      "source": [
        "## **5.2.3 Questions**"
      ]
    },
    {
      "cell_type": "code",
      "metadata": {
        "id": "7SfgNJglSEtV",
        "outputId": "2a0bbf41-4a60-4752-bd01-28befcc6d6f9",
        "colab": {
          "base_uri": "https://localhost:8080/",
          "height": 34
        }
      },
      "source": [
        "list1 = [5, 3, 7]\n",
        "list1"
      ],
      "execution_count": null,
      "outputs": [
        {
          "output_type": "execute_result",
          "data": {
            "text/plain": [
              "[5, 3, 7]"
            ]
          },
          "metadata": {
            "tags": []
          },
          "execution_count": 92
        }
      ]
    },
    {
      "cell_type": "code",
      "metadata": {
        "id": "6tpROvY5SZcA",
        "outputId": "3a1cd11b-9098-4f4c-81b8-4db118009dad",
        "colab": {
          "base_uri": "https://localhost:8080/",
          "height": 34
        }
      },
      "source": [
        "list1[0:2]"
      ],
      "execution_count": null,
      "outputs": [
        {
          "output_type": "execute_result",
          "data": {
            "text/plain": [
              "[5, 3]"
            ]
          },
          "metadata": {
            "tags": []
          },
          "execution_count": 72
        }
      ]
    },
    {
      "cell_type": "code",
      "metadata": {
        "id": "fiidhSXVSn7c",
        "outputId": "86425b9f-9b48-429d-a01f-3050b0f8eecf",
        "colab": {
          "base_uri": "https://localhost:8080/",
          "height": 34
        }
      },
      "source": [
        "len(list1)"
      ],
      "execution_count": null,
      "outputs": [
        {
          "output_type": "execute_result",
          "data": {
            "text/plain": [
              "3"
            ]
          },
          "metadata": {
            "tags": []
          },
          "execution_count": 74
        }
      ]
    },
    {
      "cell_type": "code",
      "metadata": {
        "id": "_WBdyeAPTgOy",
        "outputId": "5f6aa62b-6970-4862-eae7-c1462f56dfd2",
        "colab": {
          "base_uri": "https://localhost:8080/",
          "height": 34
        }
      },
      "source": [
        "0 in list1"
      ],
      "execution_count": null,
      "outputs": [
        {
          "output_type": "execute_result",
          "data": {
            "text/plain": [
              "False"
            ]
          },
          "metadata": {
            "tags": []
          },
          "execution_count": 75
        }
      ]
    },
    {
      "cell_type": "code",
      "metadata": {
        "id": "VyYxgXjrTmEt",
        "outputId": "09dbc6fb-cb9c-4d47-fba6-da8e55774650",
        "colab": {
          "base_uri": "https://localhost:8080/",
          "height": 34
        }
      },
      "source": [
        "list1 + [2, 10, 5]"
      ],
      "execution_count": null,
      "outputs": [
        {
          "output_type": "execute_result",
          "data": {
            "text/plain": [
              "[5, 3, 7, 2, 10, 5]"
            ]
          },
          "metadata": {
            "tags": []
          },
          "execution_count": 76
        }
      ]
    },
    {
      "cell_type": "code",
      "metadata": {
        "id": "8dmJM0wYTzQf",
        "outputId": "3057e241-43af-4ebb-bdfb-3f2357bdffb5",
        "colab": {
          "base_uri": "https://localhost:8080/",
          "height": 34
        }
      },
      "source": [
        "tuple(list1)"
      ],
      "execution_count": null,
      "outputs": [
        {
          "output_type": "execute_result",
          "data": {
            "text/plain": [
              "(5, 3, 7)"
            ]
          },
          "metadata": {
            "tags": []
          },
          "execution_count": 77
        }
      ]
    },
    {
      "cell_type": "code",
      "metadata": {
        "id": "EZXeqRNaT-bB"
      },
      "source": [
        "list1.pop(0)\n",
        "list1.append(-5)\n",
        "list1.sort()"
      ],
      "execution_count": null,
      "outputs": []
    },
    {
      "cell_type": "code",
      "metadata": {
        "id": "xyC6nxakVEVy",
        "outputId": "04849aa4-c6e4-44fa-8111-0d5d099084ba",
        "colab": {
          "base_uri": "https://localhost:8080/",
          "height": 34
        }
      },
      "source": [
        "list1"
      ],
      "execution_count": null,
      "outputs": [
        {
          "output_type": "execute_result",
          "data": {
            "text/plain": [
              "[-5, 3, 7]"
            ]
          },
          "metadata": {
            "tags": []
          },
          "execution_count": 88
        }
      ]
    },
    {
      "cell_type": "code",
      "metadata": {
        "id": "sATlW801VIxF"
      },
      "source": [
        "list1.append(10)"
      ],
      "execution_count": null,
      "outputs": []
    },
    {
      "cell_type": "code",
      "metadata": {
        "id": "Q_anNGo-WMjz",
        "outputId": "3bb7d57c-5f6a-4d03-a6d8-b5ebe9345251",
        "colab": {
          "base_uri": "https://localhost:8080/",
          "height": 34
        }
      },
      "source": [
        "list1"
      ],
      "execution_count": null,
      "outputs": [
        {
          "output_type": "execute_result",
          "data": {
            "text/plain": [
              "[-5, 3, 7, 10]"
            ]
          },
          "metadata": {
            "tags": []
          },
          "execution_count": 91
        }
      ]
    },
    {
      "cell_type": "code",
      "metadata": {
        "id": "Yz0q9lIBWNje"
      },
      "source": [
        "list1.insert(2,22)"
      ],
      "execution_count": null,
      "outputs": []
    },
    {
      "cell_type": "code",
      "metadata": {
        "id": "5zBkjAGtWxCQ",
        "outputId": "0e3ccd62-d03a-46d6-fbc9-b5077613981f",
        "colab": {
          "base_uri": "https://localhost:8080/",
          "height": 34
        }
      },
      "source": [
        "list1"
      ],
      "execution_count": null,
      "outputs": [
        {
          "output_type": "execute_result",
          "data": {
            "text/plain": [
              "[-5, 22, 7, 10, 10]"
            ]
          },
          "metadata": {
            "tags": []
          },
          "execution_count": 102
        }
      ]
    },
    {
      "cell_type": "code",
      "metadata": {
        "id": "5u-Q0VvoWyPr",
        "outputId": "1177229b-752d-45b2-a67a-1ee9d83699cf",
        "colab": {
          "base_uri": "https://localhost:8080/",
          "height": 34
        }
      },
      "source": [
        "list1.pop(1)\n",
        "list1"
      ],
      "execution_count": null,
      "outputs": [
        {
          "output_type": "execute_result",
          "data": {
            "text/plain": [
              "[-5, 7, 10, 10]"
            ]
          },
          "metadata": {
            "tags": []
          },
          "execution_count": 103
        }
      ]
    },
    {
      "cell_type": "code",
      "metadata": {
        "id": "qpJZ2TrIZscC",
        "outputId": "20021a16-9427-4bc7-e30c-d6e80f8a7f92",
        "colab": {
          "base_uri": "https://localhost:8080/",
          "height": 34
        }
      },
      "source": [
        "list1"
      ],
      "execution_count": null,
      "outputs": [
        {
          "output_type": "execute_result",
          "data": {
            "text/plain": [
              "[-5, 7, 10, 10]"
            ]
          },
          "metadata": {
            "tags": []
          },
          "execution_count": 104
        }
      ]
    },
    {
      "cell_type": "markdown",
      "metadata": {
        "id": "rcxmJKa_czmM"
      },
      "source": [
        "## **Question 5.2.7**"
      ]
    },
    {
      "cell_type": "markdown",
      "metadata": {
        "id": "S31T1JKxNb4b"
      },
      "source": [
        "Write a loop that accumulates the sum of the numbers in a list named \"data.\""
      ]
    },
    {
      "cell_type": "code",
      "metadata": {
        "id": "W8tCQYg-ZuCH",
        "outputId": "f37c242f-b2c3-4396-a3ca-7b1a8d3d55d2",
        "colab": {
          "base_uri": "https://localhost:8080/",
          "height": 68
        }
      },
      "source": [
        "data = [1,2,3]\n",
        "sum = 0\n",
        "\n",
        "for x in data:\n",
        "  sum += x\n",
        "  print(sum)\n",
        "\n"
      ],
      "execution_count": null,
      "outputs": [
        {
          "output_type": "stream",
          "text": [
            "1\n",
            "3\n",
            "6\n"
          ],
          "name": "stdout"
        }
      ]
    },
    {
      "cell_type": "markdown",
      "metadata": {
        "id": "KNbbDee3OLTb"
      },
      "source": [
        "\n",
        "\n",
        "deadlines - catch up when you can in terms of homework\n",
        "text and text editing and diff applications we can have \n",
        "\n",
        "\n",
        "diff in upper and lower class\n",
        "\n",
        "everything is defined as an ascii code\n",
        "\n",
        "nlp and text:\n",
        "use diff. libraries of python and see how to understand text data and take business value\n",
        "\n",
        "how we can use python in order to create some value\n",
        "\n",
        "\n",
        "\n",
        "Pandas - library used to manipulate data\n",
        "\n",
        "\n",
        "reproduce what you had originally had and know how to handle and reporoduce\n",
        "\n",
        "know what each part of code is doing or is supposed to do\n",
        "\n",
        "\n",
        "president tweets\n",
        "\n",
        "Quiz #3 filtering - getting a subset of your data based \n",
        "on parameters we place we apply function - \n",
        "--filter is a higher-order function that processes a data structure (usually a list) in some order to produce a new data structure containing exactly those elements of the original data structure for which a given predicate returns the boolean value true.\n",
        "\n",
        "scraping - Data scraping is a technique in which a computer program extracts data from human-readable output coming from another program.\n",
        "\n",
        "we are trying to sort the data and filter the data\n",
        "\n",
        "math.sqrt(math.sqrt(12) - 2 functions - nested\n",
        "\n",
        "methods - inputs and input arguments\n",
        "range of number - [:10]\n",
        "\n",
        "\n",
        "\n",
        "\n",
        "\n",
        "NLTK - library - natural language tool kit - arash used alot of functions and methods from nltk to \n",
        "\n",
        "def, name of function, input, input arguments, if you put equal to zero that is your default value - when you dont pout anything it assumes it is your correct one\n",
        "\n",
        "\n",
        "geeer bigrams - df and column we are refering\n",
        "bigrams - brings 2 words that come together moree often than two words\n",
        "\n",
        "default variable - nice. \n",
        "\n",
        "NLP - natural language processing - you want to buy a tent - some would google it - it is done by doing natural language processing\n",
        "\n",
        "\n",
        "trigram - 3 words \n",
        "\n",
        "process natursl language - important\n",
        "\n",
        "\n",
        "\n",
        "write a code that tells if a string is a palidrom(full text file\n",
        "a = tanat\n",
        "\n",
        "defin palidrom(a):\n",
        "\n",
        "\n",
        "\n",
        "\n",
        "\n",
        "algorithm - \n",
        "look past line 41 - ur\n",
        "\n",
        "uber review and rating - centiment analyzing - the problem we want to solve - we have alot of revoews - make a model you give rider review as an input and the model tells you if customer is happy or not\n",
        "---ruled based processing - we look at dictionary - good words and bad words -10 bad and 2 good words we would coonsider it negative\n",
        "-look at text and count\n",
        "rule based - \n",
        "algorithm - \n",
        "\n",
        "every rating less than 3 negative, more than 3 positive\n",
        "\n",
        "\n",
        "i am good --> positive sentiment\n",
        "\n",
        "\n",
        "i am bad --> negative sentiment\n",
        "\n",
        "\n",
        "how we can create value out of this\n",
        "\n",
        "\n",
        "data people give systems, it is biased you give it. data systems are badly biased. if you dont have good data your results are not going to be good. your model will be better at predicting negative reviews if it's overwheliing negative.\n",
        "\n",
        "we need to fix the data set - we can undersample, throw out most of negative systems -  100 white guys, 100 other guys, etc. - waste of money, waste \n",
        "oversample \n",
        "- repitiion of under represented population\n",
        "create data - \n",
        "****oversampling\n",
        "synthetic data sets - \n",
        "\n"
      ]
    },
    {
      "cell_type": "markdown",
      "metadata": {
        "id": "Zq8Ub1oc166s"
      },
      "source": [
        "Methods - functions of processes that are defined for an object in a specific class.\n",
        "\n",
        "opinion - how you use functions and methods is interchangable\n",
        "you can use them vise versa -\n",
        "\n",
        "technically -methods are part of module or class\n",
        "\n",
        "functions can be applied on their own\n",
        "\n",
        "fuctions can be thought of as methods stand alones\n",
        "\n",
        "\n",
        "Methods give you a way to change or interact with the object; they are functions that interact with objects. For example, let’s say we would like to increase the radius by a specified amount of a circle. We can create a method called add_radius(r) that increases the radius by r. where after applying the method to the \"orange circle object\", the radius of the object increases accordingly.\n",
        "\n",
        "\n",
        "\n",
        "methods are defined as apart of class\n",
        "functions are defined on thier own\n",
        "functions can be apart of class as well\n",
        "a = math.sqrt(12) - function - math is an library. \n",
        "\n",
        "math.sqrt is how we draw out of the library. method would be applied to an object - (object).(method)(\"input arguments\")\n",
        "function(object)\n",
        "Pandas - library used to manipulate data\n",
        "\n",
        "reproduce what you had originally had and know how to handle and reporoduce"
      ]
    },
    {
      "cell_type": "code",
      "metadata": {
        "id": "a9aA90we17eR"
      },
      "source": [
        ""
      ],
      "execution_count": null,
      "outputs": []
    }
  ]
}