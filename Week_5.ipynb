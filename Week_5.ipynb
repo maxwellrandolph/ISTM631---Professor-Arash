{
  "nbformat": 4,
  "nbformat_minor": 0,
  "metadata": {
    "colab": {
      "name": "Week 5.ipynb",
      "provenance": [],
      "authorship_tag": "ABX9TyNqSWCk6+qhBuZ+aZhmN5PQ",
      "include_colab_link": true
    },
    "kernelspec": {
      "name": "python3",
      "display_name": "Python 3"
    }
  },
  "cells": [
    {
      "cell_type": "markdown",
      "metadata": {
        "id": "view-in-github",
        "colab_type": "text"
      },
      "source": [
        "<a href=\"https://colab.research.google.com/github/maxwellrandolph/ISTM631---Professor-Arash/blob/master/Week_5.ipynb\" target=\"_parent\"><img src=\"https://colab.research.google.com/assets/colab-badge.svg\" alt=\"Open In Colab\"/></a>"
      ]
    },
    {
      "cell_type": "markdown",
      "metadata": {
        "id": "Goo4tRN-qzxx"
      },
      "source": [
        "## **CLASS 5 Starts here October 1st**\n",
        "Email monday before class\n",
        "\n",
        "```\n",
        "-\n",
        "```\n",
        "\n",
        "### **HOMEWORK:**\n",
        "\n",
        "**df_originals - highlight each method and the objects they're applied to:**\n",
        "```\n",
        "\"df_originals = df_retweets.groupby(['original']).sum().sort_values('retweets').reset_index().sort_values('retweets', ascending=False)\"\n",
        "```\n",
        "Methods: .groupby, .sum, .sort_values, .reset_index, and sort_values\n",
        "\n",
        "---\n",
        "\n",
        "\n",
        "\n",
        "---\n",
        "\n",
        ".groupby is applied to df_retweets\n",
        "```\n",
        "-\n",
        "```\n",
        ".sum is applied to df_retweets.groupby(['original'])\n",
        "```\n",
        "-\n",
        "```\n",
        ".sort_values is applied to df_retweets.groupby(['original']).sum()\n",
        "```\n",
        "-\n",
        "```\n",
        ".reset_index is applied to df_retweets.groupby(['original']).sum().sort_values('retweets') \n",
        "```\n",
        "-\n",
        "```\n",
        "sort_values is applied to df_retweets.groupby(['original']).sum().sort_values('retweets').reset_index()"
      ]
    },
    {
      "cell_type": "markdown",
      "metadata": {
        "id": "DJOgjwqKPQW7"
      },
      "source": [
        "# ***Q1 --> what is the difference between a class and a module?***\n",
        "\n",
        "A class can be looked at as a model or blueprint for defining an object. You instentiate an instance from a class and that defines and makes your object. Each class defines the data and methods which are authorized to operate on that data. They are used for a specific piece of functionality. For example we defined a class of (circle) first and then extentiate that class to an object in our programing environment by giving it attributes such as radius and color. A module or library is a collection of utilities including classes, methods, functions, interfaces, values, constants, etc that offer help for completing coding tasks. Classes are usually created at the individual,team, or company level, whereas modules are created by professionals on that specific coding language. With modules or libraries you are using a framework to direct your architecture. Classes are code used by individuals or teams to define specific objects that make up a program, whereas modules are files that contain code usually created by high level programmers to assist coders in creating the framework of a program."
      ]
    },
    {
      "cell_type": "markdown",
      "metadata": {
        "id": "iAxUOnXONuh5"
      },
      "source": [
        "# ***Q2 --> what is the differencce between a function and a method?***"
      ]
    },
    {
      "cell_type": "markdown",
      "metadata": {
        "id": "dOxpP4E4MHTu"
      },
      "source": [
        "A function is a set of inputs that produce a single related action. A method is a procedure associated with a message and an object. Functions and methods can be view as the same thing in most instances, yet methods must be applied to a class of an object. Functions may be applied on thier own. Methods give you a way to change or interact with the object; they are functions that interact with objects. Functions are written in code as the following:function(object). An example of a function would be: a = input('Name of circle: '). Methods are written in code as the following: object.method. An example of a method would be: redcicle.radius. Functions are repeatable peices of code independent of classes or objects, while methods are always associated with objects instance.\n",
        "\n"
      ]
    },
    {
      "cell_type": "markdown",
      "metadata": {
        "id": "awfHruhSzdkz"
      },
      "source": [
        "# **Q3 --> Write a code that determines in a string of text is a palidrome or not**"
      ]
    },
    {
      "cell_type": "code",
      "metadata": {
        "id": "kLN_CWwny-j5"
      },
      "source": [
        "a = 'tenet'\n",
        "\n",
        "def Palindrome(a):\n",
        "    return a == a[::-1]\n",
        " \n",
        "ans = Palindrome(a)\n",
        " \n",
        "if ans:\n",
        "    print(\"Yes\")\n",
        "else:\n",
        "    print(\"No\")\n"
      ],
      "execution_count": null,
      "outputs": []
    },
    {
      "cell_type": "code",
      "metadata": {
        "id": "6QUTgwzfzGXI",
        "outputId": "6787013e-aa4c-4e6d-8916-2033bdbbdb08",
        "colab": {
          "base_uri": "https://localhost:8080/",
          "height": 215
        }
      },
      "source": [
        "filename = 'testpalindrom1.txt'  #variable filename assigned to AKJV.txt\n",
        "\n",
        "try: #try block\n",
        "  with open(filename) as file_object:\n",
        "    contents = file_object.read() #create variable - contents to read entire file\n",
        "except FileNotFoundError:#if we cannot find the file tell us\n",
        "  message = \"Sorry, the file \" + filename + \" cannot be found.\"\n",
        "  print (message)\n",
        "else: #otherwise the variable words slpits our content(all read file) into a space - system seperates by spaces automatically in a list\n",
        "  words = contents.split()\n",
        "  number_words = len(words) #vaRIABLE = the length of the words in the list of words\n",
        "  print(\"The file \" + filename + \" has approximately \" + str(number_words) + \" words.\")\n",
        "#output -> The file AKJV.txt has approximately 821735 words.\n",
        "def isPalindrome():\n",
        "    if (s==s[::-1] ): return True\n",
        "    else: return False\n",
        "def findPalindrome():\n",
        "    list3 = list()\n",
        "    for line in open(\"testpalindrom1.txt\"):   \n",
        "        list1 = line.strip() \n",
        "        list2 = list1.split() \n",
        "        for x in list2: \n",
        "            if isPalindrome(x):\n",
        "                list3.append(x)\n",
        "            return list3\n",
        "print(list3)"
      ],
      "execution_count": null,
      "outputs": [
        {
          "output_type": "stream",
          "text": [
            "Sorry, the file testpalindrom1.txt cannot be found.\n"
          ],
          "name": "stdout"
        },
        {
          "output_type": "error",
          "ename": "NameError",
          "evalue": "ignored",
          "traceback": [
            "\u001b[0;31m---------------------------------------------------------------------------\u001b[0m",
            "\u001b[0;31mNameError\u001b[0m                                 Traceback (most recent call last)",
            "\u001b[0;32m<ipython-input-8-56ddccc18fe8>\u001b[0m in \u001b[0;36m<module>\u001b[0;34m()\u001b[0m\n\u001b[1;32m     24\u001b[0m                 \u001b[0mlist3\u001b[0m\u001b[0;34m.\u001b[0m\u001b[0mappend\u001b[0m\u001b[0;34m(\u001b[0m\u001b[0mx\u001b[0m\u001b[0;34m)\u001b[0m\u001b[0;34m\u001b[0m\u001b[0;34m\u001b[0m\u001b[0m\n\u001b[1;32m     25\u001b[0m             \u001b[0;32mreturn\u001b[0m \u001b[0mlist3\u001b[0m\u001b[0;34m\u001b[0m\u001b[0;34m\u001b[0m\u001b[0m\n\u001b[0;32m---> 26\u001b[0;31m \u001b[0mprint\u001b[0m\u001b[0;34m(\u001b[0m\u001b[0mlist3\u001b[0m\u001b[0;34m)\u001b[0m\u001b[0;34m\u001b[0m\u001b[0;34m\u001b[0m\u001b[0m\n\u001b[0m",
            "\u001b[0;31mNameError\u001b[0m: name 'list3' is not defined"
          ]
        }
      ]
    },
    {
      "cell_type": "code",
      "metadata": {
        "id": "ARomt60qzJ4k"
      },
      "source": [
        ""
      ],
      "execution_count": null,
      "outputs": []
    },
    {
      "cell_type": "code",
      "metadata": {
        "id": "vUQ0NgjyzRaQ"
      },
      "source": [
        "def isPalindrome():\n",
        "    if (s==s[::-1] ): return True\n",
        "    else: return False\n",
        "\n",
        "def findPalindrome():\n",
        "    list3 = list()\n",
        "    with open(\"testpalindrom1.txt\") as file_object:   \n",
        "        list1 = line.strip() \n",
        "        list2 = list1.split() \n",
        "        for x in list2: \n",
        "            if isPalindrome(file_object):\n",
        "                list3.append(file_object)\n",
        "            return list3\n",
        "print(list3)"
      ],
      "execution_count": null,
      "outputs": []
    },
    {
      "cell_type": "code",
      "metadata": {
        "id": "-e0ZYM7azNpp"
      },
      "source": [
        "res = []\n",
        "with open('testpalindrom1.txt', 'r') as file_object:\n",
        "    content = [l.strip() for l in file_object.readlines() if l.strip()]\n",
        "    for line in content:\n",
        "        if line == line[::-1]:\n",
        "            res.append(line)\n",
        "print(res.append(line))"
      ],
      "execution_count": null,
      "outputs": []
    },
    {
      "cell_type": "code",
      "metadata": {
        "id": "FCFGkZL_alCd"
      },
      "source": [
        "#create and write text file\n",
        "f = open('bookstoread.txt', 'w+') #2 attributes: file we open and string that represents permissions(w+ read & write)\n",
        "\n",
        "for i in range (10):\n",
        "  f.write(\"This is line %d/r/n\" % (i+1)) #Loop that runs over range of 10 numbers,using write funtion to enter data, displays integer\n",
        "  f.close"
      ],
      "execution_count": null,
      "outputs": []
    },
    {
      "cell_type": "code",
      "metadata": {
        "id": "E_RL8-ag9hL2",
        "outputId": "d3218a39-0c5d-4a83-c21f-c99af5ccf1c6",
        "colab": {
          "base_uri": "https://localhost:8080/",
          "height": 130
        }
      },
      "source": [
        "def findPalindrome(): \n",
        "    list3=list() \n",
        "    for line in open(\"English.txt\"): \n",
        "        list1 = line.strip() \n",
        "        list2 = list1.split() \n",
        "    for x in list2: \n",
        "        if isPalindrome(x): \n",
        "        list3.append(x) \n",
        "     return list3 "
      ],
      "execution_count": null,
      "outputs": [
        {
          "output_type": "error",
          "ename": "IndentationError",
          "evalue": "ignored",
          "traceback": [
            "\u001b[0;36m  File \u001b[0;32m\"<ipython-input-17-0f6274fe26fa>\"\u001b[0;36m, line \u001b[0;32m8\u001b[0m\n\u001b[0;31m    list3.append(x)\u001b[0m\n\u001b[0m        ^\u001b[0m\n\u001b[0;31mIndentationError\u001b[0m\u001b[0;31m:\u001b[0m expected an indented block\n"
          ]
        }
      ]
    },
    {
      "cell_type": "code",
      "metadata": {
        "id": "FwZ6HClPjWjR",
        "outputId": "82f9de4d-4aa6-41ba-c4dc-4044fcf7f2ed",
        "colab": {
          "base_uri": "https://localhost:8080/",
          "height": 34
        }
      },
      "source": [
        "filename = 'testpalindrom1.txt'  #variable filename assigned to AKJV.txt\n",
        "\n",
        "try: #try block\n",
        "  with open(filename) as file_object:\n",
        "    contents = file_object.read() #create variable - contents to read entire file\n",
        "except FileNotFoundError:#if we cannot find the file tell us\n",
        "  message = \"Sorry, the file \" + filename + \" cannot be found.\"\n",
        "  print (message)\n",
        "else: #otherwise the variable words slpits our content(all read file) into a space - system seperates by spaces automatically in a list\n",
        "  words = contents.split()\n",
        "  number_words = len(words) #vaRIABLE = the length of the words in the list of words\n",
        "  print(\"The file \" + filename + \" has approximately \" + str(number_words) + \" words.\")\n"
      ],
      "execution_count": null,
      "outputs": [
        {
          "output_type": "stream",
          "text": [
            "Sorry, the file testpalindrom1.txt cannot be found.\n"
          ],
          "name": "stdout"
        }
      ]
    },
    {
      "cell_type": "code",
      "metadata": {
        "id": "-s6lgVgADNJ7",
        "outputId": "93ec69eb-4c2f-4436-ee9f-a3ba659c483f",
        "colab": {
          "base_uri": "https://localhost:8080/",
          "height": 34
        }
      },
      "source": [
        "filename = 'AKJV.txt'\n",
        "\n",
        "try:\n",
        "  with open(filename) as file_object:\n",
        "    contents = file_object.read()\n",
        "except FileNotFoundError:\n",
        "  message = \"Sorry, the file \" + filename + \" cannot be found.\"\n",
        "  print (message)\n",
        "else:\n",
        "  words = contents.split()\n",
        "  number_words = len(words)\n",
        "  print(\"The file \" + file_name + \" has approximately \" + str(number_words) + \"words.\")"
      ],
      "execution_count": null,
      "outputs": [
        {
          "output_type": "stream",
          "text": [
            "Sorry, the file AKJV.txt cannot be found.\n"
          ],
          "name": "stdout"
        }
      ]
    },
    {
      "cell_type": "code",
      "metadata": {
        "id": "inYrhq5T-c6_"
      },
      "source": [
        "def findPalindrome(): \n",
        "    list3=list() \n",
        "    for line in open(\"English.txt\"): \n",
        "        list1 = line.strip() \n",
        "        list2 = list1.split() \n",
        "    for x in list2: \n",
        "        if isPalindrome(x): \n",
        "        list3.append(x) \n",
        "     return list3 "
      ],
      "execution_count": null,
      "outputs": []
    },
    {
      "cell_type": "code",
      "metadata": {
        "id": "__u5WwUVIt5B",
        "outputId": "0802b826-6213-4225-f6ac-d94871b35235",
        "colab": {
          "base_uri": "https://localhost:8080/",
          "height": 51
        }
      },
      "source": [
        "# function which return reverse of a string\n",
        " \n",
        "def isPalindrome(s):\n",
        "    return s == s[::-1]\n",
        " \n",
        " \n",
        "# Driver code\n",
        "s = input('Enter string to see if Palindrome: ')\n",
        "ans = isPalindrome(s)\n",
        " \n",
        "if ans:\n",
        "    print(\"Yes\")\n",
        "else:\n",
        "    print(\"No\")"
      ],
      "execution_count": null,
      "outputs": [
        {
          "output_type": "stream",
          "text": [
            "Enter string to see if Palindrome: wow\n",
            "Yes\n"
          ],
          "name": "stdout"
        }
      ]
    },
    {
      "cell_type": "code",
      "metadata": {
        "id": "k-FejRY4MP1z"
      },
      "source": [
        "def is_palindrome(word):\n",
        "\n",
        "    letters = list(word)    \n",
        "    is_palindrome = True\n",
        "    i = 0\n",
        "\n",
        "    while len(letters) > 0 and is_palindrome:       \n",
        "        if letters[0] != letters[(len(letters) - 1)]:\n",
        "            is_palindrome = False\n",
        "        else:\n",
        "            letters.pop(0)\n",
        "            if len(letters) > 0:\n",
        "                letters.pop((len(letters) - 1))\n",
        "\n",
        "    return is_palindrome"
      ],
      "execution_count": null,
      "outputs": []
    },
    {
      "cell_type": "code",
      "metadata": {
        "id": "cHXlvo5gMU4v"
      },
      "source": [
        "def is_palindrome(word):\n",
        "\n",
        "    letters = list(word)\n",
        "    is_palindrome = True\n",
        "\n",
        "    for letter in letters:\n",
        "        if letter == letters[-1]:\n",
        "            letters.pop(-1)\n",
        "        else:\n",
        "            is_palindrome = False\n",
        "            break\n",
        "\n",
        "    return is_palindrome"
      ],
      "execution_count": null,
      "outputs": []
    },
    {
      "cell_type": "markdown",
      "metadata": {
        "id": "zrxtaQvMAyAY"
      },
      "source": [
        "# **Week 5 - Video Notes/Class Notes**"
      ]
    },
    {
      "cell_type": "markdown",
      "metadata": {
        "id": "gpvA2dYqAkDy"
      },
      "source": [
        "## **`Video 5.1 Lists - `**\n",
        "\n"
      ]
    },
    {
      "cell_type": "code",
      "metadata": {
        "id": "PzXdLNqkAxHU"
      },
      "source": [
        "import math #pi Square root"
      ],
      "execution_count": null,
      "outputs": []
    },
    {
      "cell_type": "code",
      "metadata": {
        "id": "STDrDvo7BLEi",
        "outputId": "84363e13-0f3b-42b9-af56-f8534e90a8e1",
        "colab": {
          "base_uri": "https://localhost:8080/",
          "height": 34
        }
      },
      "source": [
        "x = 2 #just a number\n",
        "[x, math.sqrt(x)] #list #data type is float"
      ],
      "execution_count": null,
      "outputs": [
        {
          "output_type": "execute_result",
          "data": {
            "text/plain": [
              "[2, 1.4142135623730951]"
            ]
          },
          "metadata": {
            "tags": []
          },
          "execution_count": 4
        }
      ]
    },
    {
      "cell_type": "code",
      "metadata": {
        "id": "FgveLnQBBUty",
        "outputId": "06106f5b-41a1-452e-c51d-bd4a5bd4f260",
        "colab": {
          "base_uri": "https://localhost:8080/",
          "height": 34
        }
      },
      "source": [
        "rangelist = list(range(1,5)) #list is a built in function\n",
        "rangelist"
      ],
      "execution_count": null,
      "outputs": [
        {
          "output_type": "execute_result",
          "data": {
            "text/plain": [
              "[1, 2, 3, 4]"
            ]
          },
          "metadata": {
            "tags": []
          },
          "execution_count": 8
        }
      ]
    },
    {
      "cell_type": "code",
      "metadata": {
        "id": "UyLvu-LCBtkV",
        "outputId": "3be40d47-0e9f-431c-82c9-25cd8c013e3c",
        "colab": {
          "base_uri": "https://localhost:8080/",
          "height": 34
        }
      },
      "source": [
        "3 in rangelist\n",
        "\n"
      ],
      "execution_count": null,
      "outputs": [
        {
          "output_type": "execute_result",
          "data": {
            "text/plain": [
              "True"
            ]
          },
          "metadata": {
            "tags": []
          },
          "execution_count": 9
        }
      ]
    },
    {
      "cell_type": "code",
      "metadata": {
        "id": "6hPTazWmB44y",
        "outputId": "a09e3978-e29d-4b28-e822-c45e440812d0",
        "colab": {
          "base_uri": "https://localhost:8080/",
          "height": 34
        }
      },
      "source": [
        "'3'in rangelist #false bc not the same data type\n"
      ],
      "execution_count": null,
      "outputs": [
        {
          "output_type": "execute_result",
          "data": {
            "text/plain": [
              "False"
            ]
          },
          "metadata": {
            "tags": []
          },
          "execution_count": 11
        }
      ]
    },
    {
      "cell_type": "code",
      "metadata": {
        "id": "RVzjpYCRCE4x",
        "outputId": "4a743d95-1010-4f20-dec2-e2e995d529fb",
        "colab": {
          "base_uri": "https://localhost:8080/",
          "height": 34
        }
      },
      "source": [
        "rangelist[0] #index"
      ],
      "execution_count": null,
      "outputs": [
        {
          "output_type": "execute_result",
          "data": {
            "text/plain": [
              "1"
            ]
          },
          "metadata": {
            "tags": []
          },
          "execution_count": 14
        }
      ]
    },
    {
      "cell_type": "code",
      "metadata": {
        "id": "6CDfJ03nCopn",
        "outputId": "25b80485-93df-4387-ba5e-f4717cfec96f",
        "colab": {
          "base_uri": "https://localhost:8080/",
          "height": 34
        }
      },
      "source": [
        "for index in range(len(rangelist)): #len\n",
        "  rangelist[index] = rangelist[index]**2\n",
        "rangelist"
      ],
      "execution_count": null,
      "outputs": [
        {
          "output_type": "execute_result",
          "data": {
            "text/plain": [
              "[1, 256, 6561, 65536]"
            ]
          },
          "metadata": {
            "tags": []
          },
          "execution_count": 20
        }
      ]
    },
    {
      "cell_type": "markdown",
      "metadata": {
        "id": "HxudAKToPxMr"
      },
      "source": [
        "## ***Video 5.22***"
      ]
    },
    {
      "cell_type": "code",
      "metadata": {
        "id": "qaqdP6uoP7RS",
        "outputId": "94a7a1e3-1b28-4785-9bc2-f73ba360024d",
        "colab": {
          "base_uri": "https://localhost:8080/",
          "height": 34
        }
      },
      "source": [
        "example = [1, 2]\n",
        "example"
      ],
      "execution_count": null,
      "outputs": [
        {
          "output_type": "execute_result",
          "data": {
            "text/plain": [
              "[1, 2]"
            ]
          },
          "metadata": {
            "tags": []
          },
          "execution_count": 44
        }
      ]
    },
    {
      "cell_type": "code",
      "metadata": {
        "id": "wM-54ildQA76",
        "outputId": "cc4a0050-3443-4953-958b-d44a05ee6e0c",
        "colab": {
          "base_uri": "https://localhost:8080/",
          "height": 34
        }
      },
      "source": [
        "example.insert(1,10) #if you run again it will put another 10 in the 1 placevalue(0,1,2)\n",
        "example"
      ],
      "execution_count": null,
      "outputs": [
        {
          "output_type": "execute_result",
          "data": {
            "text/plain": [
              "[1, 10, 2]"
            ]
          },
          "metadata": {
            "tags": []
          },
          "execution_count": 45
        }
      ]
    },
    {
      "cell_type": "code",
      "metadata": {
        "id": "sMzSHveQQNGQ",
        "outputId": "7874a8b1-e684-4869-f03e-25ebfe0b03d1",
        "colab": {
          "base_uri": "https://localhost:8080/",
          "height": 34
        }
      },
      "source": [
        "example.insert(3,25)\n",
        "example"
      ],
      "execution_count": null,
      "outputs": [
        {
          "output_type": "execute_result",
          "data": {
            "text/plain": [
              "[1, 10, 2, 25]"
            ]
          },
          "metadata": {
            "tags": []
          },
          "execution_count": 60
        }
      ]
    },
    {
      "cell_type": "code",
      "metadata": {
        "id": "G4njbuNVQ9eO",
        "outputId": "d8144daa-d1df-4311-fed1-43cd0e0bd47f",
        "colab": {
          "base_uri": "https://localhost:8080/",
          "height": 34
        }
      },
      "source": [
        "emaxple = [1,2]\n",
        "emaxple.append(3)\n",
        "emaxple"
      ],
      "execution_count": null,
      "outputs": [
        {
          "output_type": "execute_result",
          "data": {
            "text/plain": [
              "[1, 2, 3]"
            ]
          },
          "metadata": {
            "tags": []
          },
          "execution_count": 51
        }
      ]
    },
    {
      "cell_type": "code",
      "metadata": {
        "id": "WrMm1KcfRFvo",
        "outputId": "83bd7d00-3d35-4ce9-cd54-95ba4e16e1da",
        "colab": {
          "base_uri": "https://localhost:8080/",
          "height": 34
        }
      },
      "source": [
        "emaxple.extend((11,13,10))\n",
        "emaxple"
      ],
      "execution_count": null,
      "outputs": [
        {
          "output_type": "execute_result",
          "data": {
            "text/plain": [
              "[1, 2, 3, 11, 13, 10]"
            ]
          },
          "metadata": {
            "tags": []
          },
          "execution_count": 52
        }
      ]
    },
    {
      "cell_type": "code",
      "metadata": {
        "id": "Xa6PmsA6RJZB",
        "outputId": "54deaa34-2c72-4ec0-9180-bdb281c764fe",
        "colab": {
          "base_uri": "https://localhost:8080/",
          "height": 34
        }
      },
      "source": [
        "emaxple + [0 + 3]"
      ],
      "execution_count": null,
      "outputs": [
        {
          "output_type": "execute_result",
          "data": {
            "text/plain": [
              "[1, 2, 3, 11, 13, 10, 3]"
            ]
          },
          "metadata": {
            "tags": []
          },
          "execution_count": 53
        }
      ]
    },
    {
      "cell_type": "code",
      "metadata": {
        "id": "hkpw2q7TRizD",
        "outputId": "78580cc1-acef-4e8f-ad8e-d176eee56df7",
        "colab": {
          "base_uri": "https://localhost:8080/",
          "height": 34
        }
      },
      "source": [
        "emaxple # you can tell that with adding to the list does not mutate it, just gives an output with addition on it \n"
      ],
      "execution_count": null,
      "outputs": [
        {
          "output_type": "execute_result",
          "data": {
            "text/plain": [
              "[1, 2, 3, 11, 13, 10]"
            ]
          },
          "metadata": {
            "tags": []
          },
          "execution_count": 55
        }
      ]
    },
    {
      "cell_type": "code",
      "metadata": {
        "id": "6s7WGJp0Rl4e",
        "outputId": "d233f344-1a43-4c50-a395-08b72bb624a5",
        "colab": {
          "base_uri": "https://localhost:8080/",
          "height": 34
        }
      },
      "source": [
        "example"
      ],
      "execution_count": null,
      "outputs": [
        {
          "output_type": "execute_result",
          "data": {
            "text/plain": [
              "[1, 10, 2, 25]"
            ]
          },
          "metadata": {
            "tags": []
          },
          "execution_count": 61
        }
      ]
    },
    {
      "cell_type": "code",
      "metadata": {
        "id": "UuCLo0BbSCy_",
        "outputId": "9b68dbc2-1661-4cc2-d134-a533f3fa53c0",
        "colab": {
          "base_uri": "https://localhost:8080/",
          "height": 34
        }
      },
      "source": [
        "example.pop(0)\n",
        "example"
      ],
      "execution_count": null,
      "outputs": [
        {
          "output_type": "execute_result",
          "data": {
            "text/plain": [
              "[10, 2, 25]"
            ]
          },
          "metadata": {
            "tags": []
          },
          "execution_count": 62
        }
      ]
    },
    {
      "cell_type": "markdown",
      "metadata": {
        "id": "GYHJHdmAS5jy"
      },
      "source": [
        "## **5.2.3 Questions**"
      ]
    },
    {
      "cell_type": "code",
      "metadata": {
        "id": "7SfgNJglSEtV",
        "outputId": "2a0bbf41-4a60-4752-bd01-28befcc6d6f9",
        "colab": {
          "base_uri": "https://localhost:8080/",
          "height": 34
        }
      },
      "source": [
        "list1 = [5, 3, 7]\n",
        "list1"
      ],
      "execution_count": null,
      "outputs": [
        {
          "output_type": "execute_result",
          "data": {
            "text/plain": [
              "[5, 3, 7]"
            ]
          },
          "metadata": {
            "tags": []
          },
          "execution_count": 92
        }
      ]
    },
    {
      "cell_type": "code",
      "metadata": {
        "id": "6tpROvY5SZcA",
        "outputId": "3a1cd11b-9098-4f4c-81b8-4db118009dad",
        "colab": {
          "base_uri": "https://localhost:8080/",
          "height": 34
        }
      },
      "source": [
        "list1[0:2]"
      ],
      "execution_count": null,
      "outputs": [
        {
          "output_type": "execute_result",
          "data": {
            "text/plain": [
              "[5, 3]"
            ]
          },
          "metadata": {
            "tags": []
          },
          "execution_count": 72
        }
      ]
    },
    {
      "cell_type": "code",
      "metadata": {
        "id": "fiidhSXVSn7c",
        "outputId": "86425b9f-9b48-429d-a01f-3050b0f8eecf",
        "colab": {
          "base_uri": "https://localhost:8080/",
          "height": 34
        }
      },
      "source": [
        "len(list1)"
      ],
      "execution_count": null,
      "outputs": [
        {
          "output_type": "execute_result",
          "data": {
            "text/plain": [
              "3"
            ]
          },
          "metadata": {
            "tags": []
          },
          "execution_count": 74
        }
      ]
    },
    {
      "cell_type": "code",
      "metadata": {
        "id": "_WBdyeAPTgOy",
        "outputId": "5f6aa62b-6970-4862-eae7-c1462f56dfd2",
        "colab": {
          "base_uri": "https://localhost:8080/",
          "height": 34
        }
      },
      "source": [
        "0 in list1"
      ],
      "execution_count": null,
      "outputs": [
        {
          "output_type": "execute_result",
          "data": {
            "text/plain": [
              "False"
            ]
          },
          "metadata": {
            "tags": []
          },
          "execution_count": 75
        }
      ]
    },
    {
      "cell_type": "code",
      "metadata": {
        "id": "VyYxgXjrTmEt",
        "outputId": "09dbc6fb-cb9c-4d47-fba6-da8e55774650",
        "colab": {
          "base_uri": "https://localhost:8080/",
          "height": 34
        }
      },
      "source": [
        "list1 + [2, 10, 5]"
      ],
      "execution_count": null,
      "outputs": [
        {
          "output_type": "execute_result",
          "data": {
            "text/plain": [
              "[5, 3, 7, 2, 10, 5]"
            ]
          },
          "metadata": {
            "tags": []
          },
          "execution_count": 76
        }
      ]
    },
    {
      "cell_type": "code",
      "metadata": {
        "id": "8dmJM0wYTzQf",
        "outputId": "3057e241-43af-4ebb-bdfb-3f2357bdffb5",
        "colab": {
          "base_uri": "https://localhost:8080/",
          "height": 34
        }
      },
      "source": [
        "tuple(list1)"
      ],
      "execution_count": null,
      "outputs": [
        {
          "output_type": "execute_result",
          "data": {
            "text/plain": [
              "(5, 3, 7)"
            ]
          },
          "metadata": {
            "tags": []
          },
          "execution_count": 77
        }
      ]
    },
    {
      "cell_type": "code",
      "metadata": {
        "id": "EZXeqRNaT-bB"
      },
      "source": [
        "list1.pop(0)\n",
        "list1.append(-5)\n",
        "list1.sort()"
      ],
      "execution_count": null,
      "outputs": []
    },
    {
      "cell_type": "code",
      "metadata": {
        "id": "xyC6nxakVEVy",
        "outputId": "04849aa4-c6e4-44fa-8111-0d5d099084ba",
        "colab": {
          "base_uri": "https://localhost:8080/",
          "height": 34
        }
      },
      "source": [
        "list1"
      ],
      "execution_count": null,
      "outputs": [
        {
          "output_type": "execute_result",
          "data": {
            "text/plain": [
              "[-5, 3, 7]"
            ]
          },
          "metadata": {
            "tags": []
          },
          "execution_count": 88
        }
      ]
    },
    {
      "cell_type": "code",
      "metadata": {
        "id": "sATlW801VIxF"
      },
      "source": [
        "list1.append(10)"
      ],
      "execution_count": null,
      "outputs": []
    },
    {
      "cell_type": "code",
      "metadata": {
        "id": "Q_anNGo-WMjz",
        "outputId": "3bb7d57c-5f6a-4d03-a6d8-b5ebe9345251",
        "colab": {
          "base_uri": "https://localhost:8080/",
          "height": 34
        }
      },
      "source": [
        "list1"
      ],
      "execution_count": null,
      "outputs": [
        {
          "output_type": "execute_result",
          "data": {
            "text/plain": [
              "[-5, 3, 7, 10]"
            ]
          },
          "metadata": {
            "tags": []
          },
          "execution_count": 91
        }
      ]
    },
    {
      "cell_type": "code",
      "metadata": {
        "id": "Yz0q9lIBWNje"
      },
      "source": [
        "list1.insert(2,22)"
      ],
      "execution_count": null,
      "outputs": []
    },
    {
      "cell_type": "code",
      "metadata": {
        "id": "5zBkjAGtWxCQ",
        "outputId": "0e3ccd62-d03a-46d6-fbc9-b5077613981f",
        "colab": {
          "base_uri": "https://localhost:8080/",
          "height": 34
        }
      },
      "source": [
        "list1"
      ],
      "execution_count": null,
      "outputs": [
        {
          "output_type": "execute_result",
          "data": {
            "text/plain": [
              "[-5, 22, 7, 10, 10]"
            ]
          },
          "metadata": {
            "tags": []
          },
          "execution_count": 102
        }
      ]
    },
    {
      "cell_type": "code",
      "metadata": {
        "id": "5u-Q0VvoWyPr",
        "outputId": "1177229b-752d-45b2-a67a-1ee9d83699cf",
        "colab": {
          "base_uri": "https://localhost:8080/",
          "height": 34
        }
      },
      "source": [
        "list1.pop(1)\n",
        "list1"
      ],
      "execution_count": null,
      "outputs": [
        {
          "output_type": "execute_result",
          "data": {
            "text/plain": [
              "[-5, 7, 10, 10]"
            ]
          },
          "metadata": {
            "tags": []
          },
          "execution_count": 103
        }
      ]
    },
    {
      "cell_type": "code",
      "metadata": {
        "id": "qpJZ2TrIZscC",
        "outputId": "20021a16-9427-4bc7-e30c-d6e80f8a7f92",
        "colab": {
          "base_uri": "https://localhost:8080/",
          "height": 34
        }
      },
      "source": [
        "list1"
      ],
      "execution_count": null,
      "outputs": [
        {
          "output_type": "execute_result",
          "data": {
            "text/plain": [
              "[-5, 7, 10, 10]"
            ]
          },
          "metadata": {
            "tags": []
          },
          "execution_count": 104
        }
      ]
    },
    {
      "cell_type": "markdown",
      "metadata": {
        "id": "rcxmJKa_czmM"
      },
      "source": [
        "## **Question 5.2.7**"
      ]
    },
    {
      "cell_type": "markdown",
      "metadata": {
        "id": "S31T1JKxNb4b"
      },
      "source": [
        "Write a loop that accumulates the sum of the numbers in a list named \"data.\""
      ]
    },
    {
      "cell_type": "code",
      "metadata": {
        "id": "W8tCQYg-ZuCH",
        "outputId": "f37c242f-b2c3-4396-a3ca-7b1a8d3d55d2",
        "colab": {
          "base_uri": "https://localhost:8080/",
          "height": 68
        }
      },
      "source": [
        "data = [1,2,3]\n",
        "sum = 0\n",
        "\n",
        "for x in data:\n",
        "  sum += x\n",
        "  print(sum)\n",
        "\n"
      ],
      "execution_count": null,
      "outputs": [
        {
          "output_type": "stream",
          "text": [
            "1\n",
            "3\n",
            "6\n"
          ],
          "name": "stdout"
        }
      ]
    },
    {
      "cell_type": "code",
      "metadata": {
        "id": "wFFI7fYFX42B",
        "outputId": "411dd6b4-be03-4c75-a3ed-a2d651d323bb",
        "colab": {
          "base_uri": "https://localhost:8080/",
          "height": 34
        }
      },
      "source": [
        "def square(x): #defining function and using it throughout program --- def, names, arguments, an d return value\n",
        "  '''returns the square of x'''\n",
        "  return x*x\n",
        "\n",
        "square(12)\n"
      ],
      "execution_count": null,
      "outputs": [
        {
          "output_type": "execute_result",
          "data": {
            "text/plain": [
              "144"
            ]
          },
          "metadata": {
            "tags": []
          },
          "execution_count": 10
        }
      ]
    },
    {
      "cell_type": "code",
      "metadata": {
        "id": "3kfiY9XrYfgi",
        "outputId": "574d1336-5bc5-41bd-bad6-8cb7212d0961",
        "colab": {
          "base_uri": "https://localhost:8080/",
          "height": 102
        }
      },
      "source": [
        "help(square)"
      ],
      "execution_count": null,
      "outputs": [
        {
          "output_type": "stream",
          "text": [
            "Help on function square in module __main__:\n",
            "\n",
            "square(x)\n",
            "    returns the square of x\n",
            "\n"
          ],
          "name": "stdout"
        }
      ]
    },
    {
      "cell_type": "code",
      "metadata": {
        "id": "6gvLGzrqYk3d",
        "outputId": "77d73ca8-6cff-47b4-aedf-0741bcf9d2d8",
        "colab": {
          "base_uri": "https://localhost:8080/",
          "height": 34
        }
      },
      "source": [
        "square"
      ],
      "execution_count": null,
      "outputs": [
        {
          "output_type": "execute_result",
          "data": {
            "text/plain": [
              "<function __main__.square>"
            ]
          },
          "metadata": {
            "tags": []
          },
          "execution_count": 12
        }
      ]
    },
    {
      "cell_type": "code",
      "metadata": {
        "id": "n2PuOnr_YuHE",
        "outputId": "64c84466-59bb-488d-d983-792b335a7831",
        "colab": {
          "base_uri": "https://localhost:8080/",
          "height": 34
        }
      },
      "source": [
        "def square2(x = 2): #default value\n",
        "  '''sqrroot'''\n",
        "  return x*x\n",
        "\n",
        "square2(12)\n"
      ],
      "execution_count": null,
      "outputs": [
        {
          "output_type": "execute_result",
          "data": {
            "text/plain": [
              "144"
            ]
          },
          "metadata": {
            "tags": []
          },
          "execution_count": 20
        }
      ]
    },
    {
      "cell_type": "code",
      "metadata": {
        "id": "nRBu5t5CZef6",
        "outputId": "70ec8782-c319-48ad-8473-cb649030ed6f",
        "colab": {
          "base_uri": "https://localhost:8080/",
          "height": 34
        }
      },
      "source": [
        "square2() #default - not reccomended to define alot of default values. make sure to include - def, name, if, return"
      ],
      "execution_count": null,
      "outputs": [
        {
          "output_type": "execute_result",
          "data": {
            "text/plain": [
              "4"
            ]
          },
          "metadata": {
            "tags": []
          },
          "execution_count": 22
        }
      ]
    },
    {
      "cell_type": "markdown",
      "metadata": {
        "id": "WSdQPu8G8T9R"
      },
      "source": [
        "**Question 5.3.3**\n",
        "**What roles do the parameters and the return statement play in a function definition?**\n",
        "A parameter is a name or placeholder used in the function definition for an argument that is passed to the function when it is called. They create the place for future values to be included in the function. Return Statements are placed at at the end of the function. They break us out of the function while explicitly returning a value from the function."
      ]
    },
    {
      "cell_type": "markdown",
      "metadata": {
        "id": "5QCW8kbF8ovf"
      },
      "source": [
        "**Question 5.3.4 Define a function named \"even.\" This function expects a number as an argument and returns True if the number is divisible by 2, or it returns False otherwise. (Hint: A number is evenly divisible by 2 if the remainder is 0.)**\n"
      ]
    },
    {
      "cell_type": "code",
      "metadata": {
        "id": "Z5vE3u3w8vnH"
      },
      "source": [
        "def even(x):\n",
        "  if (x % 2) == 0:\n",
        "    return True\n",
        "  else:\n",
        "    return \"False\"  "
      ],
      "execution_count": null,
      "outputs": []
    },
    {
      "cell_type": "code",
      "metadata": {
        "id": "Ewgc0lzyCrbI",
        "outputId": "28055068-85b0-437b-ff57-2e444b43ad23",
        "colab": {
          "base_uri": "https://localhost:8080/",
          "height": 35
        }
      },
      "source": [
        "even(43)"
      ],
      "execution_count": null,
      "outputs": [
        {
          "output_type": "execute_result",
          "data": {
            "application/vnd.google.colaboratory.intrinsic+json": {
              "type": "string"
            },
            "text/plain": [
              "'False'"
            ]
          },
          "metadata": {
            "tags": []
          },
          "execution_count": 45
        }
      ]
    },
    {
      "cell_type": "markdown",
      "metadata": {
        "id": "SyFqVnG6DOH8"
      },
      "source": [
        "**Question 5.3.5 Use the function even to simplify the definition of the function odd presented in this section.**"
      ]
    },
    {
      "cell_type": "code",
      "metadata": {
        "id": "3tS8p295DTt8"
      },
      "source": [
        "def odd(x):\n",
        "  if (x % 2) == 0:\n",
        "    return \"Even\"\n",
        "  else:\n",
        "    return \"Odd\"  "
      ],
      "execution_count": null,
      "outputs": []
    },
    {
      "cell_type": "code",
      "metadata": {
        "id": "0hYURFYRDk5a",
        "outputId": "e2717399-c50c-4723-ae07-9353a90fb8d9",
        "colab": {
          "base_uri": "https://localhost:8080/",
          "height": 35
        }
      },
      "source": [
        "odd(43)"
      ],
      "execution_count": null,
      "outputs": [
        {
          "output_type": "execute_result",
          "data": {
            "application/vnd.google.colaboratory.intrinsic+json": {
              "type": "string"
            },
            "text/plain": [
              "'Odd'"
            ]
          },
          "metadata": {
            "tags": []
          },
          "execution_count": 47
        }
      ]
    },
    {
      "cell_type": "markdown",
      "metadata": {
        "id": "FBfYDj1GEUJq"
      },
      "source": [
        "**Question 5.3.6 Define a function named summation. This function expects two numbers, named low and high, as arguments. The function computes and returns the sum of the numbers between low and high, inclusive.**"
      ]
    },
    {
      "cell_type": "code",
      "metadata": {
        "id": "0qiliVsKEa4l"
      },
      "source": [
        "def summation(low, high):\n",
        "  total = 0\n",
        "  for s in range(low, high +1):\n",
        "    total += s;\n",
        "  return total"
      ],
      "execution_count": null,
      "outputs": []
    },
    {
      "cell_type": "code",
      "metadata": {
        "id": "Uw2IXOADH25H",
        "outputId": "035c5464-2a86-4ce5-c4bb-ea30a2123ac3",
        "colab": {
          "base_uri": "https://localhost:8080/",
          "height": 34
        }
      },
      "source": [
        "summation(2,5)"
      ],
      "execution_count": null,
      "outputs": [
        {
          "output_type": "execute_result",
          "data": {
            "text/plain": [
              "14"
            ]
          },
          "metadata": {
            "tags": []
          },
          "execution_count": 74
        }
      ]
    },
    {
      "cell_type": "markdown",
      "metadata": {
        "id": "BaddNn-APZhh"
      },
      "source": [
        "**Question 5.3.7 What is the purpose of a main function?**\n",
        "The main function in Python acts as the point of execution for any program. Defining the main function in Python programming is a necessity to start the execution of the program as it gets executed only when the program is run directly and not executed when imported as a module.\n",
        "\n",
        "In most programming languages, there is a special function which is executed automatically every time the program is run. This is nothing but the main function, or main() as it is usually denoted. It essentially serves as a starting point for the execution of a program"
      ]
    },
    {
      "cell_type": "code",
      "metadata": {
        "id": "AuvNTkIqL5Nk",
        "outputId": "5e132992-fa36-4c87-9011-8fdd5235bc79",
        "colab": {
          "base_uri": "https://localhost:8080/",
          "height": 164
        }
      },
      "source": [
        "main()"
      ],
      "execution_count": null,
      "outputs": [
        {
          "output_type": "error",
          "ename": "NameError",
          "evalue": "ignored",
          "traceback": [
            "\u001b[0;31m---------------------------------------------------------------------------\u001b[0m",
            "\u001b[0;31mNameError\u001b[0m                                 Traceback (most recent call last)",
            "\u001b[0;32m<ipython-input-75-263240bbee7e>\u001b[0m in \u001b[0;36m<module>\u001b[0;34m()\u001b[0m\n\u001b[0;32m----> 1\u001b[0;31m \u001b[0mmain\u001b[0m\u001b[0;34m(\u001b[0m\u001b[0;34m)\u001b[0m\u001b[0;34m\u001b[0m\u001b[0;34m\u001b[0m\u001b[0m\n\u001b[0m",
            "\u001b[0;31mNameError\u001b[0m: name 'main' is not defined"
          ]
        }
      ]
    },
    {
      "cell_type": "markdown",
      "metadata": {
        "id": "KNbbDee3OLTb"
      },
      "source": [
        "\n",
        "\n",
        "deadlines - catch up when you can in terms of homework\n",
        "text and text editing and diff applications we can have \n",
        "\n",
        "\n",
        "diff in upper and lower class\n",
        "\n",
        "everything is defined as an ascii code\n",
        "\n",
        "nlp and text:\n",
        "use diff. libraries of python and see how to understand text data and take business value\n",
        "\n",
        "how we can use python in order to create some value\n",
        "\n",
        "\n",
        "\n",
        "Pandas - library used to manipulate data\n",
        "\n",
        "\n",
        "reproduce what you had originally had and know how to handle and reporoduce\n",
        "\n",
        "know what each part of code is doing or is supposed to do\n",
        "\n",
        "\n",
        "president tweets\n",
        "\n",
        "Quiz #3 filtering - getting a subset of your data based \n",
        "on parameters we place we apply function - \n",
        "--filter is a higher-order function that processes a data structure (usually a list) in some order to produce a new data structure containing exactly those elements of the original data structure for which a given predicate returns the boolean value true.\n",
        "\n",
        "scraping - Data scraping is a technique in which a computer program extracts data from human-readable output coming from another program.\n",
        "\n",
        "we are trying to sort the data and filter the data\n",
        "\n",
        "math.sqrt(math.sqrt(12) - 2 functions - nested\n",
        "\n",
        "methods - inputs and input arguments\n",
        "range of number - [:10]\n",
        "\n",
        "\n",
        "\n",
        "\n",
        "\n",
        "NLTK - library - natural language tool kit - arash used alot of functions and methods from nltk to \n",
        "\n",
        "def, name of function, input, input arguments, if you put equal to zero that is your default value - when you dont pout anything it assumes it is your correct one\n",
        "\n",
        "\n",
        "geeer bigrams - df and column we are refering\n",
        "bigrams - brings 2 words that come together moree often than two words\n",
        "\n",
        "default variable - nice. \n",
        "\n",
        "NLP - natural language processing - you want to buy a tent - some would google it - it is done by doing natural language processing\n",
        "\n",
        "\n",
        "trigram - 3 words \n",
        "\n",
        "process natursl language - important\n",
        "\n",
        "\n",
        "\n",
        "write a code that tells if a string is a palidrom(full text file\n",
        "a = tanat\n",
        "\n",
        "defin palidrom(a):\n",
        "\n",
        "\n",
        "\n",
        "\n",
        "\n",
        "algorithm - \n",
        "look past line 41 - ur\n",
        "\n",
        "uber review and rating - centiment analyzing - the problem we want to solve - we have alot of revoews - make a model you give rider review as an input and the model tells you if customer is happy or not\n",
        "---ruled based processing - we look at dictionary - good words and bad words -10 bad and 2 good words we would coonsider it negative\n",
        "-look at text and count\n",
        "rule based - \n",
        "algorithm - \n",
        "\n",
        "every rating less than 3 negative, more than 3 positive\n",
        "\n",
        "\n",
        "i am good --> positive sentiment\n",
        "\n",
        "\n",
        "i am bad --> negative sentiment\n",
        "\n",
        "\n",
        "how we can create value out of this\n",
        "\n",
        "\n",
        "data people give systems, it is biased you give it. data systems are badly biased. if you dont have good data your results are not going to be good. your model will be better at predicting negative reviews if it's overwheliing negative.\n",
        "\n",
        "we need to fix the data set - we can undersample, throw out most of negative systems -  100 white guys, 100 other guys, etc. - waste of money, waste \n",
        "oversample \n",
        "- repitiion of under represented population\n",
        "create data - \n",
        "****oversampling\n",
        "synthetic data sets - \n",
        "\n"
      ]
    },
    {
      "cell_type": "markdown",
      "metadata": {
        "id": "Zq8Ub1oc166s"
      },
      "source": [
        "Methods - functions of processes that are defined for an object in a specific class.\n",
        "\n",
        "opinion - how you use functions and methods is interchangable\n",
        "you can use them vise versa -\n",
        "\n",
        "technically -methods are part of module or class\n",
        "\n",
        "functions can be applied on their own\n",
        "\n",
        "fuctions can be thought of as methods stand alones\n",
        "\n",
        "\n",
        "Methods give you a way to change or interact with the object; they are functions that interact with objects. For example, let’s say we would like to increase the radius by a specified amount of a circle. We can create a method called add_radius(r) that increases the radius by r. where after applying the method to the \"orange circle object\", the radius of the object increases accordingly.\n",
        "\n",
        "\n",
        "\n",
        "methods are defined as apart of class\n",
        "functions are defined on thier own\n",
        "functions can be apart of class as well\n",
        "a = math.sqrt(12) - function - math is an library. \n",
        "\n",
        "math.sqrt is how we draw out of the library. method would be applied to an object - (object).(method)(\"input arguments\")\n",
        "function(object)\n",
        "Pandas - library used to manipulate data\n",
        "\n",
        "reproduce what you had originally had and know how to handle and reporoduce"
      ]
    },
    {
      "cell_type": "markdown",
      "metadata": {
        "id": "XEtPtzNyOxGa"
      },
      "source": [
        "\n",
        "parameter is a placeholder\n",
        "return gives us information back from the task - here's some information - returrn info from a funtion\n",
        "return tells python to return a value from the function. you must have a return value to return a function back to the caller. meant for getting info back from a function. return breaks us out of the function\n",
        "parameters - placeholder for future values we want to be included in function"
      ]
    },
    {
      "cell_type": "code",
      "metadata": {
        "id": "a9aA90we17eR"
      },
      "source": [
        ""
      ],
      "execution_count": null,
      "outputs": []
    },
    {
      "cell_type": "markdown",
      "metadata": {
        "id": "8kFgkeaYCsqR"
      },
      "source": [
        "# **Video 5.4.2 Dictionaries**"
      ]
    },
    {
      "cell_type": "code",
      "metadata": {
        "id": "lX3rGl8mDMgA"
      },
      "source": [
        "examplelist = [1,2,3] \n",
        "\n",
        "exampledic = {'name':'Arash', 'age':32} #in dictionaries their relationahip is defined. by key\n",
        "emptyexampledic = ()"
      ],
      "execution_count": null,
      "outputs": []
    },
    {
      "cell_type": "code",
      "metadata": {
        "id": "lpu18lgmDqPU",
        "outputId": "2b4547bd-c59f-4ecf-8dd9-0c4963b2cb9b",
        "colab": {
          "base_uri": "https://localhost:8080/",
          "height": 35
        }
      },
      "source": [
        "info = {} #start from scratch and define info - name(attribut), Arash(Value), job(attrubte), teacher(value)\n",
        "info['name'] = 'Arash'\n",
        "info['job'] = 'teacher'\n",
        "info\n",
        "info['name']"
      ],
      "execution_count": null,
      "outputs": [
        {
          "output_type": "execute_result",
          "data": {
            "application/vnd.google.colaboratory.intrinsic+json": {
              "type": "string"
            },
            "text/plain": [
              "'Arash'"
            ]
          },
          "metadata": {
            "tags": []
          },
          "execution_count": 7
        }
      ]
    },
    {
      "cell_type": "code",
      "metadata": {
        "id": "IIyviVRkERtJ"
      },
      "source": [
        "info.pop('job') - you can also transverse dictionaries - look in codes"
      ],
      "execution_count": null,
      "outputs": []
    },
    {
      "cell_type": "markdown",
      "metadata": {
        "id": "myUI1kYsFeE1"
      },
      "source": [
        "its important to know the difference between dictionaries and lists, and the concept of key in those"
      ]
    },
    {
      "cell_type": "markdown",
      "metadata": {
        "id": "i-yBTojcIUDu"
      },
      "source": [
        "**Q 5.4.4 Assume that the variable data refers to the dictionary {'b':20, 'a':35}. Write the expressions that perform the following tasks:**a.    Replace the value at the key 'b' in data with that value’s negation.\n",
        "\n",
        "b.    Add the key/value pair 'c':40 to data. \n",
        "\n",
        "c.    Remove the value at key 'b' in data, safely. \n",
        "\n",
        "d.    Print the keys in data in alphabetical order."
      ]
    },
    {
      "cell_type": "code",
      "metadata": {
        "id": "Y0ZVMB4FILPt",
        "outputId": "94d8dec1-00d0-4ecc-d2c9-406a8c3dc020",
        "colab": {
          "base_uri": "https://localhost:8080/",
          "height": 34
        }
      },
      "source": [
        "qdic = {'b':20, 'a':35}\n",
        "qdic"
      ],
      "execution_count": null,
      "outputs": [
        {
          "output_type": "execute_result",
          "data": {
            "text/plain": [
              "{'a': 35, 'b': 20}"
            ]
          },
          "metadata": {
            "tags": []
          },
          "execution_count": 26
        }
      ]
    },
    {
      "cell_type": "code",
      "metadata": {
        "id": "yBPlDFhrIyIU",
        "outputId": "12a30514-e44a-4ee6-8aa4-81afb0973b7d",
        "colab": {
          "base_uri": "https://localhost:8080/",
          "height": 34
        }
      },
      "source": [
        "qdic['b'] = '-20'\n",
        "qdic"
      ],
      "execution_count": null,
      "outputs": [
        {
          "output_type": "execute_result",
          "data": {
            "text/plain": [
              "{'a': 35, 'b': '-20'}"
            ]
          },
          "metadata": {
            "tags": []
          },
          "execution_count": 27
        }
      ]
    },
    {
      "cell_type": "code",
      "metadata": {
        "id": "m9HI-R8tI_rp",
        "outputId": "d6ab1778-64e1-4d57-a8c2-f122f3ff5e6e",
        "colab": {
          "base_uri": "https://localhost:8080/",
          "height": 34
        }
      },
      "source": [
        "qdic['c'] = 40\n",
        "qdic"
      ],
      "execution_count": null,
      "outputs": [
        {
          "output_type": "execute_result",
          "data": {
            "text/plain": [
              "{'a': 35, 'b': '-20', 'c': 40}"
            ]
          },
          "metadata": {
            "tags": []
          },
          "execution_count": 28
        }
      ]
    },
    {
      "cell_type": "code",
      "metadata": {
        "id": "UIL9HfPWKD9A",
        "outputId": "ac39544d-4172-49cb-c05f-800b3c7f6e43",
        "colab": {
          "base_uri": "https://localhost:8080/",
          "height": 34
        }
      },
      "source": [
        "print(qdic.pop('b'))"
      ],
      "execution_count": null,
      "outputs": [
        {
          "output_type": "stream",
          "text": [
            "-20\n"
          ],
          "name": "stdout"
        }
      ]
    },
    {
      "cell_type": "code",
      "metadata": {
        "id": "Ynit6p9eJjC9",
        "outputId": "4b3cce09-3733-4d71-87cf-9f488649da80",
        "colab": {
          "base_uri": "https://localhost:8080/",
          "height": 34
        }
      },
      "source": [
        "qdic"
      ],
      "execution_count": null,
      "outputs": [
        {
          "output_type": "execute_result",
          "data": {
            "text/plain": [
              "{'a': 35, 'b': '-20', 'c': 40}"
            ]
          },
          "metadata": {
            "tags": []
          },
          "execution_count": 29
        }
      ]
    },
    {
      "cell_type": "code",
      "metadata": {
        "id": "BVoJwTe4LX3H",
        "outputId": "1b5585a5-bb83-4e09-d578-f7b457a325a7",
        "colab": {
          "base_uri": "https://localhost:8080/",
          "height": 164
        }
      },
      "source": [
        "qdic.append"
      ],
      "execution_count": null,
      "outputs": [
        {
          "output_type": "error",
          "ename": "AttributeError",
          "evalue": "ignored",
          "traceback": [
            "\u001b[0;31m---------------------------------------------------------------------------\u001b[0m",
            "\u001b[0;31mAttributeError\u001b[0m                            Traceback (most recent call last)",
            "\u001b[0;32m<ipython-input-30-fbcdebda8062>\u001b[0m in \u001b[0;36m<module>\u001b[0;34m()\u001b[0m\n\u001b[0;32m----> 1\u001b[0;31m \u001b[0mqdic\u001b[0m\u001b[0;34m.\u001b[0m\u001b[0mappend\u001b[0m\u001b[0;34m\u001b[0m\u001b[0;34m\u001b[0m\u001b[0m\n\u001b[0m",
            "\u001b[0;31mAttributeError\u001b[0m: 'dict' object has no attribute 'append'"
          ]
        }
      ]
    },
    {
      "cell_type": "code",
      "metadata": {
        "id": "aIdHaXqtLa7f",
        "outputId": "86aa1ebf-9645-4b8d-ddcd-ce4979446479",
        "colab": {
          "base_uri": "https://localhost:8080/",
          "height": 68
        }
      },
      "source": [
        "for (key, value) in qdic.items():\n",
        "  print(key, value)"
      ],
      "execution_count": null,
      "outputs": [
        {
          "output_type": "stream",
          "text": [
            "b -20\n",
            "a 35\n",
            "c 40\n"
          ],
          "name": "stdout"
        }
      ]
    },
    {
      "cell_type": "code",
      "metadata": {
        "id": "-i6DxDvqMSM7",
        "outputId": "76e12351-3852-471c-fe77-9c9fde9b8f6c",
        "colab": {
          "base_uri": "https://localhost:8080/",
          "height": 68
        }
      },
      "source": [
        "Sort = list(qdic.keys())\n",
        "Sort.sort()\n",
        "for key in Sort:\n",
        "  print(key, qdic[key])"
      ],
      "execution_count": null,
      "outputs": [
        {
          "output_type": "stream",
          "text": [
            "a 35\n",
            "b -20\n",
            "c 40\n"
          ],
          "name": "stdout"
        }
      ]
    },
    {
      "cell_type": "markdown",
      "metadata": {
        "id": "IFPEyL2xbM_I"
      },
      "source": [
        "**Project 5.6.1 \n",
        "Write a program that allows the user to navigate the lines of text in a file. The program should prompt the user for a filename and input the lines of text into a list. The program then enters a loop in which it prints the number of lines in the file and prompts the user for a line number. Actual line numbers range from 1 to the number of lines in the file. If the input is 0, the program quits. Otherwise, the program prints the line associated with that number.**"
      ]
    },
    {
      "cell_type": "code",
      "metadata": {
        "id": "Is8hMds8bTnY",
        "outputId": "b333d964-a117-44d0-f71f-170131eb8956",
        "colab": {
          "base_uri": "https://localhost:8080/",
          "height": 249
        }
      },
      "source": [
        "filename = input(\"Enter the input file name: \")\n",
        "file = open(filename, \"r\")\n",
        "count = 0\n",
        "for line in file:\n",
        "  count = count + 1\n",
        "print(\"The file has \"+str(count)+\" lines.\");\n",
        "file.close()\n",
        "while True:\n",
        "  try:\n",
        "      n = int(input(\"Enter a line number [0 to quit]: \"))\n",
        "      lineno = 0\n",
        "      break;\n",
        "  except ValueError:\n",
        "        print(\"Try again. Line number must be between 0 and \"+str(count))\n",
        "while n != 0:\n",
        "    \n",
        "        if n >= 0 and n <= count:\n",
        "            file = open(filename, \"r\")\n",
        "            for line in file:\n",
        "                lineno = lineno + 1\n",
        "                if lineno == n:\n",
        "                    print(line)\n",
        "            file.close()\n",
        "        else:\n",
        "            print(\"Try again. Line number must be between 0 and \"+str(count))\n",
        "        while True:\n",
        "            try:\n",
        "                n = int(input(\"Enter a line number [0 to quit]: \"))\n",
        "                lineno = 0\n",
        "                break;\n",
        "            except ValueError:\n",
        "                print(\"Try again. Line number must be between 0 and \"+str(count))\n"
      ],
      "execution_count": null,
      "outputs": [
        {
          "output_type": "stream",
          "text": [
            "Enter the input file name: h\n"
          ],
          "name": "stdout"
        },
        {
          "output_type": "error",
          "ename": "FileNotFoundError",
          "evalue": "ignored",
          "traceback": [
            "\u001b[0;31m---------------------------------------------------------------------------\u001b[0m",
            "\u001b[0;31mFileNotFoundError\u001b[0m                         Traceback (most recent call last)",
            "\u001b[0;32m<ipython-input-25-fa1c0c868413>\u001b[0m in \u001b[0;36m<module>\u001b[0;34m()\u001b[0m\n\u001b[1;32m      1\u001b[0m \u001b[0mfilename\u001b[0m \u001b[0;34m=\u001b[0m \u001b[0minput\u001b[0m\u001b[0;34m(\u001b[0m\u001b[0;34m\"Enter the input file name: \"\u001b[0m\u001b[0;34m)\u001b[0m\u001b[0;34m\u001b[0m\u001b[0;34m\u001b[0m\u001b[0m\n\u001b[0;32m----> 2\u001b[0;31m \u001b[0mfile\u001b[0m \u001b[0;34m=\u001b[0m \u001b[0mopen\u001b[0m\u001b[0;34m(\u001b[0m\u001b[0mfilename\u001b[0m\u001b[0;34m,\u001b[0m \u001b[0;34m\"r\"\u001b[0m\u001b[0;34m)\u001b[0m\u001b[0;34m\u001b[0m\u001b[0;34m\u001b[0m\u001b[0m\n\u001b[0m\u001b[1;32m      3\u001b[0m \u001b[0mcount\u001b[0m \u001b[0;34m=\u001b[0m \u001b[0;36m0\u001b[0m\u001b[0;34m\u001b[0m\u001b[0;34m\u001b[0m\u001b[0m\n\u001b[1;32m      4\u001b[0m \u001b[0;32mfor\u001b[0m \u001b[0mline\u001b[0m \u001b[0;32min\u001b[0m \u001b[0mfile\u001b[0m\u001b[0;34m:\u001b[0m\u001b[0;34m\u001b[0m\u001b[0;34m\u001b[0m\u001b[0m\n\u001b[1;32m      5\u001b[0m   \u001b[0mcount\u001b[0m \u001b[0;34m=\u001b[0m \u001b[0mcount\u001b[0m \u001b[0;34m+\u001b[0m \u001b[0;36m1\u001b[0m\u001b[0;34m\u001b[0m\u001b[0;34m\u001b[0m\u001b[0m\n",
            "\u001b[0;31mFileNotFoundError\u001b[0m: [Errno 2] No such file or directory: 'h'"
          ]
        }
      ]
    },
    {
      "cell_type": "markdown",
      "metadata": {
        "id": "87uQt2ckxam2"
      },
      "source": [
        "**Project 5.6.2 \n",
        "Define a function decimalToRep that returns the representation of an integer in a given base. The two arguments should be the integer and the base. The function should return a string. It should use a lookup table that associates integers with digits. Include a main function that tests the conversion function with numbers in several bases.**"
      ]
    },
    {
      "cell_type": "code",
      "metadata": {
        "id": "993qHxz4ze4w",
        "outputId": "66c9bfd7-aba4-4c95-e618-34851bd980aa",
        "colab": {
          "base_uri": "https://localhost:8080/",
          "height": 85
        }
      },
      "source": [
        "def decimalToRep(inte,base):\n",
        "    result = \"\"\n",
        "    while(inte>0):\n",
        "        rem = inte % base\n",
        "        if rem in range(10):\n",
        "            result += str(rem)\n",
        "        else:\n",
        "            #If the base is 16 then only it comes to else statement\n",
        "            result += chr(65+(rem%10))\n",
        "        inte = inte // base\n",
        "    result = result[::-1]\n",
        "    if(result == \"\"):\n",
        "        return '0'\n",
        "    return result\n",
        "def main():\n",
        "    \"\"\"Tests the function.\"\"\"\n",
        "    print(decimalToRep(10, 10))\n",
        "    print(decimalToRep(10, 8))\n",
        "    print(decimalToRep(10, 2))\n",
        "    print(decimalToRep(10, 16))\n",
        "\n",
        "main()"
      ],
      "execution_count": null,
      "outputs": [
        {
          "output_type": "stream",
          "text": [
            "10\n",
            "12\n",
            "1010\n",
            "A\n"
          ],
          "name": "stdout"
        }
      ]
    },
    {
      "cell_type": "markdown",
      "metadata": {
        "id": "dHd_I7OA4qIE"
      },
      "source": [
        "**Project 5.6.3\n",
        "Write a program that inputs a text file. The program should print the unique words in the file in alphabetical order.**"
      ]
    },
    {
      "cell_type": "code",
      "metadata": {
        "id": "4SS8vxfD3ORO"
      },
      "source": [
        "def unique_words(input_filename, output_filename):\n",
        "    input_file = open(input_filename, 'r')\n",
        "    file_contents = input_file.read()\n",
        "    input_file.close()\n",
        "    duplicates = []\n",
        "    word_list = file_contents.split()\n",
        "    file = open(output_filename, 'w')\n",
        "    for word in word_list:\n",
        "        if word not in duplicates:\n",
        "            duplicates.append(word)\n",
        "            file.write(str(word) + \"\\n\")\n",
        "    file.close()\n",
        "\n",
        "\n",
        "unique_words('testpalindrom1.txt','unique_output.txt')\n",
        "for line in sorted(open('unique_output.txt')):\n",
        "    print(line, end='')\n",
        "\n",
        "  "
      ],
      "execution_count": null,
      "outputs": []
    },
    {
      "cell_type": "code",
      "metadata": {
        "id": "4AuV0qWpVn0U",
        "outputId": "91b18658-9064-472e-bf46-fb77e72961e0",
        "colab": {
          "base_uri": "https://localhost:8080/",
          "height": 34
        }
      },
      "source": [
        "range(50)"
      ],
      "execution_count": null,
      "outputs": [
        {
          "output_type": "execute_result",
          "data": {
            "text/plain": [
              "range(0, 50)"
            ]
          },
          "metadata": {
            "tags": []
          },
          "execution_count": 35
        }
      ]
    },
    {
      "cell_type": "code",
      "metadata": {
        "id": "PmA-tLshVsjW"
      },
      "source": [
        "boop = list(range(50))"
      ],
      "execution_count": null,
      "outputs": []
    },
    {
      "cell_type": "code",
      "metadata": {
        "id": "VVuBqPddWHuV",
        "outputId": "89c52a09-8187-475c-a991-ced38ff57f4c",
        "colab": {
          "base_uri": "https://localhost:8080/",
          "height": 867
        }
      },
      "source": [
        "boop"
      ],
      "execution_count": null,
      "outputs": [
        {
          "output_type": "execute_result",
          "data": {
            "text/plain": [
              "[0,\n",
              " 1,\n",
              " 2,\n",
              " 3,\n",
              " 4,\n",
              " 5,\n",
              " 6,\n",
              " 7,\n",
              " 8,\n",
              " 9,\n",
              " 10,\n",
              " 11,\n",
              " 12,\n",
              " 13,\n",
              " 14,\n",
              " 15,\n",
              " 16,\n",
              " 17,\n",
              " 18,\n",
              " 19,\n",
              " 20,\n",
              " 21,\n",
              " 22,\n",
              " 23,\n",
              " 24,\n",
              " 25,\n",
              " 26,\n",
              " 27,\n",
              " 28,\n",
              " 29,\n",
              " 30,\n",
              " 31,\n",
              " 32,\n",
              " 33,\n",
              " 34,\n",
              " 35,\n",
              " 36,\n",
              " 37,\n",
              " 38,\n",
              " 39,\n",
              " 40,\n",
              " 41,\n",
              " 42,\n",
              " 43,\n",
              " 44,\n",
              " 45,\n",
              " 46,\n",
              " 47,\n",
              " 48,\n",
              " 49]"
            ]
          },
          "metadata": {
            "tags": []
          },
          "execution_count": 37
        }
      ]
    },
    {
      "cell_type": "code",
      "metadata": {
        "id": "U5Qy6Eo_WKdc"
      },
      "source": [
        ""
      ],
      "execution_count": null,
      "outputs": []
    }
  ]
}