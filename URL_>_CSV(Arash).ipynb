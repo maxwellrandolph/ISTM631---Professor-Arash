{
  "nbformat": 4,
  "nbformat_minor": 0,
  "metadata": {
    "colab": {
      "name": "URL -> CSV(Arash).ipynb",
      "provenance": [],
      "authorship_tag": "ABX9TyMuGnhn2Urx2pLZBzy8GYpr",
      "include_colab_link": true
    },
    "kernelspec": {
      "name": "python3",
      "display_name": "Python 3"
    }
  },
  "cells": [
    {
      "cell_type": "markdown",
      "metadata": {
        "id": "view-in-github",
        "colab_type": "text"
      },
      "source": [
        "<a href=\"https://colab.research.google.com/github/maxwellrandolph/ISTM631---Professor-Arash/blob/master/URL_%3E_CSV(Arash).ipynb\" target=\"_parent\"><img src=\"https://colab.research.google.com/assets/colab-badge.svg\" alt=\"Open In Colab\"/></a>"
      ]
    },
    {
      "cell_type": "code",
      "metadata": {
        "id": "qsE6BKe0LLJN"
      },
      "source": [
        ""
      ],
      "execution_count": null,
      "outputs": []
    },
    {
      "cell_type": "code",
      "metadata": {
        "id": "ByZluRR0ZAae"
      },
      "source": [
        "base_url = requests.get('https://www.indeed.com/cmp/Google/reviews?fcountry=ALL&start=', timeout=5)\n",
        "print(base_url.text)"
      ],
      "execution_count": null,
      "outputs": []
    },
    {
      "cell_type": "code",
      "metadata": {
        "id": "5wa2G8VqZzIK"
      },
      "source": [
        "def parse(full_url):\n",
        "    page_content = BeautifulSoup(full_url.content, 'lxml')\n",
        "    containers = page_content.findAll('div', \n",
        "                 {'class':'cmp-Review-container'})\n",
        "    df = pd.DataFrame(columns = \n",
        "         ['rating', 'rating_title',  'rating_description',\n",
        "                         'rating_pros', 'rating_cons'])\n",
        "    \n",
        "    for item in containers:\n",
        "        try:\n",
        "            rating = item.find('div', \n",
        "                     {'class': 'cmp-ReviewRating-text'}).text.replace('\\n', '')\n",
        "        except:\n",
        "            rating = None\n",
        "        try:\n",
        "            rating_title = item.find('div', \n",
        "                           {'class': 'cmp-Review-title'}).text.replace('\\n', '')\n",
        "        except:\n",
        "            rating_title = None\n",
        "        try:\n",
        "            rating_description = item.find('span', \n",
        "                                 {'itemprop': 'reviewBody'}).text.replace('\\r', '. ')\n",
        "        except:\n",
        "            rating_description = None\n",
        "        try:\n",
        "            rating_pros = item.find('div', \n",
        "                          {'class': 'cmp-ReviewProsCons-prosText'}).text.replace('\\n', '')\n",
        "        except:\n",
        "            rating_pros = None\n",
        "        try:\n",
        "            rating_cons = item.find('div', \n",
        "                          {'class': 'cmp-ReviewProsCons-consText'}).text.replace('\\n', '')\n",
        "        except:\n",
        "            rating_cons = None\n",
        "        df = df.append({'rating': rating, \n",
        "             'rating_title': rating_title, \n",
        "             'rating_description': rating_description,\n",
        "             'rating_pros': rating_pros, \n",
        "             'rating_cons': rating_cons}, ignore_index=True)\n",
        "    return df"
      ],
      "execution_count": null,
      "outputs": []
    },
    {
      "cell_type": "code",
      "metadata": {
        "id": "laYWXIWwaW9X"
      },
      "source": [
        "def parse(full_url):\n",
        "    page_content = BeautifulSoup(full_url.content, 'lxml')\n",
        "    containers = page_content.findAll('div', \n",
        "                 {'class':'cmp-Review-container'})\n",
        "    df = pd.DataFrame(columns = \n",
        "         ['rating', 'rating_title',  'rating_description',\n",
        "                         'rating_pros', 'rating_cons'])\n",
        "    \n",
        "    for item in containers:        \n",
        "        try:\n",
        "            rating = item.find('div', \n",
        "                     {'class': 'cmp-ReviewRating-text'}).text.replace('\\n', '')\n",
        "        except:\n",
        "            rating = None\n",
        "        try:\n",
        "            rating_title = item.find('div', \n",
        "                           {'class': 'cmp-Review-title'}).text.replace('\\n', '')\n",
        "        except:\n",
        "            rating_title = None\n",
        "        try:\n",
        "            rating_description = item.find('span', \n",
        "                                 {'itemprop': 'reviewBody'}).text.replace('\\r', '. ')\n",
        "        except:\n",
        "            rating_description = None\n",
        "        try:\n",
        "            rating_pros = item.find('div', \n",
        "                          {'class': 'cmp-ReviewProsCons-prosText'}).text.replace('\\n', '')\n",
        "        except:\n",
        "            rating_pros = None\n",
        "        try:\n",
        "            rating_cons = item.find('div', \n",
        "                          {'class': 'cmp-ReviewProsCons-consText'}).text.replace('\\n', '')\n",
        "        except:\n",
        "            rating_cons = None\n",
        "        df = df.append({'rating': rating, \n",
        "             'rating_title': rating_title, \n",
        "             'rating_description': rating_description,\n",
        "             'rating_pros': rating_pros, \n",
        "             'rating_cons': rating_cons}, ignore_index=True)\n",
        "    return df"
      ],
      "execution_count": null,
      "outputs": []
    },
    {
      "cell_type": "code",
      "metadata": {
        "id": "0s4ympkJar7l"
      },
      "source": [
        "from urllib.request import urlopen\n",
        "from bs4 import BeautifulSoup"
      ],
      "execution_count": null,
      "outputs": []
    },
    {
      "cell_type": "code",
      "metadata": {
        "id": "31CmyH5XaUFc"
      },
      "source": [
        "base_url = 'https://www.indeed.com/cmp/Google/reviews?fcountry=ALL&start='\n",
        "all_reviews_df = pd.DataFrame(columns = ['rating', 'rating_title', \n",
        "'rating_description','rating_pros', 'rating_cons'])\n",
        "num_reviews = 20\n",
        "# you can adjust this number on how many reviews you which to scrape\n",
        "while num_reviews < 3000:  \n",
        "    \n",
        "    full_url = base_url + str(num_reviews)\n",
        "    \n",
        "    get_url = requests.get(full_url, timeout=5)  \n",
        "        \n",
        "    partial_reviews_df = parse(get_url)   \n",
        "    all_reviews_df = all_reviews_df.append(\n",
        "                     partial_reviews_df, ignore_index=True) \n",
        "    \n",
        "    num_reviews += 20"
      ],
      "execution_count": null,
      "outputs": []
    },
    {
      "cell_type": "code",
      "metadata": {
        "id": "uPFCjKYwbO8G"
      },
      "source": [
        "all_reviews_df.to_csv('indeed_scrape.csv')"
      ],
      "execution_count": null,
      "outputs": []
    },
    {
      "cell_type": "code",
      "metadata": {
        "id": "T48ohxSgbSy1",
        "outputId": "6fba6420-0b99-40ff-e17d-77da71daf5a4",
        "colab": {
          "base_uri": "https://localhost:8080/",
          "height": 589
        }
      },
      "source": [
        "all_reviews_df"
      ],
      "execution_count": null,
      "outputs": [
        {
          "output_type": "execute_result",
          "data": {
            "text/html": [
              "<div>\n",
              "<style scoped>\n",
              "    .dataframe tbody tr th:only-of-type {\n",
              "        vertical-align: middle;\n",
              "    }\n",
              "\n",
              "    .dataframe tbody tr th {\n",
              "        vertical-align: top;\n",
              "    }\n",
              "\n",
              "    .dataframe thead th {\n",
              "        text-align: right;\n",
              "    }\n",
              "</style>\n",
              "<table border=\"1\" class=\"dataframe\">\n",
              "  <thead>\n",
              "    <tr style=\"text-align: right;\">\n",
              "      <th></th>\n",
              "      <th>rating</th>\n",
              "      <th>rating_title</th>\n",
              "      <th>rating_description</th>\n",
              "      <th>rating_pros</th>\n",
              "      <th>rating_cons</th>\n",
              "    </tr>\n",
              "  </thead>\n",
              "  <tbody>\n",
              "    <tr>\n",
              "      <th>0</th>\n",
              "      <td>4.0</td>\n",
              "      <td>Great experience</td>\n",
              "      <td>-Worked as a contractor and was able to meet i...</td>\n",
              "      <td>None</td>\n",
              "      <td>None</td>\n",
              "    </tr>\n",
              "    <tr>\n",
              "      <th>1</th>\n",
              "      <td>5.0</td>\n",
              "      <td>typest</td>\n",
              "      <td>ndeed is a fantastic place to work and your co...</td>\n",
              "      <td>culture</td>\n",
              "      <td>None</td>\n",
              "    </tr>\n",
              "    <tr>\n",
              "      <th>2</th>\n",
              "      <td>5.0</td>\n",
              "      <td>Fun Place to work</td>\n",
              "      <td>Google has their own culture, what you see in ...</td>\n",
              "      <td>Free lunches, Lear alot, gBus commute</td>\n",
              "      <td>No cons</td>\n",
              "    </tr>\n",
              "    <tr>\n",
              "      <th>3</th>\n",
              "      <td>4.0</td>\n",
              "      <td>Contracting at Google is what you make it</td>\n",
              "      <td>The potential upward mobility as a contractor ...</td>\n",
              "      <td>Free lunch, Upward mobility</td>\n",
              "      <td>Work life balance, TVC inequality</td>\n",
              "    </tr>\n",
              "    <tr>\n",
              "      <th>4</th>\n",
              "      <td>3.0</td>\n",
              "      <td>Google Cloud has a lot of challenges</td>\n",
              "      <td>Working at Google cloud has many challenges, a...</td>\n",
              "      <td>Good benefits, the company is going after the ...</td>\n",
              "      <td>Unprepared management, to many escalation leve...</td>\n",
              "    </tr>\n",
              "    <tr>\n",
              "      <th>...</th>\n",
              "      <td>...</td>\n",
              "      <td>...</td>\n",
              "      <td>...</td>\n",
              "      <td>...</td>\n",
              "      <td>...</td>\n",
              "    </tr>\n",
              "    <tr>\n",
              "      <th>2935</th>\n",
              "      <td>5.0</td>\n",
              "      <td>Fun workplace</td>\n",
              "      <td>My everyday routine at Google was to correct a...</td>\n",
              "      <td>Free Meals.</td>\n",
              "      <td>None</td>\n",
              "    </tr>\n",
              "    <tr>\n",
              "      <th>2936</th>\n",
              "      <td>4.0</td>\n",
              "      <td>Productive</td>\n",
              "      <td>The position was very productive. Help manage ...</td>\n",
              "      <td>Free lunches, Great Pay</td>\n",
              "      <td>Short Brakes</td>\n",
              "    </tr>\n",
              "    <tr>\n",
              "      <th>2937</th>\n",
              "      <td>5.0</td>\n",
              "      <td>Freedom working from home!</td>\n",
              "      <td>I got to work at home on my computer everyday ...</td>\n",
              "      <td>Freedom working from home!</td>\n",
              "      <td>Benefits weren't great</td>\n",
              "    </tr>\n",
              "    <tr>\n",
              "      <th>2938</th>\n",
              "      <td>5.0</td>\n",
              "      <td>Freedom working from home!</td>\n",
              "      <td>I got to work at home on my computer everyday ...</td>\n",
              "      <td>Freedom working from home!</td>\n",
              "      <td>Benefits weren't great</td>\n",
              "    </tr>\n",
              "    <tr>\n",
              "      <th>2939</th>\n",
              "      <td>5.0</td>\n",
              "      <td>What I got out of GSX</td>\n",
              "      <td>Its a wonderful experience and great place for...</td>\n",
              "      <td>Learning, connection, flexibility, personal gr...</td>\n",
              "      <td>contract work</td>\n",
              "    </tr>\n",
              "  </tbody>\n",
              "</table>\n",
              "<p>2940 rows × 5 columns</p>\n",
              "</div>"
            ],
            "text/plain": [
              "     rating  ...                                        rating_cons\n",
              "0       4.0  ...                                               None\n",
              "1       5.0  ...                                               None\n",
              "2       5.0  ...                                            No cons\n",
              "3       4.0  ...                  Work life balance, TVC inequality\n",
              "4       3.0  ...  Unprepared management, to many escalation leve...\n",
              "...     ...  ...                                                ...\n",
              "2935    5.0  ...                                               None\n",
              "2936    4.0  ...                                       Short Brakes\n",
              "2937    5.0  ...                             Benefits weren't great\n",
              "2938    5.0  ...                             Benefits weren't great\n",
              "2939    5.0  ...                                      contract work\n",
              "\n",
              "[2940 rows x 5 columns]"
            ]
          },
          "metadata": {
            "tags": []
          },
          "execution_count": 29
        }
      ]
    },
    {
      "cell_type": "code",
      "metadata": {
        "id": "qbSDetiBb7La"
      },
      "source": [
        "import numpy as np\n",
        "import seaborn as sns\n",
        "%matplotlib inline\n",
        "import matplotlib.pyplot as plt\n",
        "import random"
      ],
      "execution_count": null,
      "outputs": []
    },
    {
      "cell_type": "code",
      "metadata": {
        "id": "M1YwvXGScCSP",
        "outputId": "f1b679d7-55b2-442a-df9e-8fd5a2049087",
        "colab": {
          "base_uri": "https://localhost:8080/",
          "height": 173
        }
      },
      "source": [
        "df = all_reviews_df\n",
        "\n",
        "df.describe()"
      ],
      "execution_count": null,
      "outputs": [
        {
          "output_type": "execute_result",
          "data": {
            "text/html": [
              "<div>\n",
              "<style scoped>\n",
              "    .dataframe tbody tr th:only-of-type {\n",
              "        vertical-align: middle;\n",
              "    }\n",
              "\n",
              "    .dataframe tbody tr th {\n",
              "        vertical-align: top;\n",
              "    }\n",
              "\n",
              "    .dataframe thead th {\n",
              "        text-align: right;\n",
              "    }\n",
              "</style>\n",
              "<table border=\"1\" class=\"dataframe\">\n",
              "  <thead>\n",
              "    <tr style=\"text-align: right;\">\n",
              "      <th></th>\n",
              "      <th>rating</th>\n",
              "      <th>rating_title</th>\n",
              "      <th>rating_description</th>\n",
              "      <th>rating_pros</th>\n",
              "      <th>rating_cons</th>\n",
              "    </tr>\n",
              "  </thead>\n",
              "  <tbody>\n",
              "    <tr>\n",
              "      <th>count</th>\n",
              "      <td>2940</td>\n",
              "      <td>2940</td>\n",
              "      <td>2940</td>\n",
              "      <td>1110</td>\n",
              "      <td>997</td>\n",
              "    </tr>\n",
              "    <tr>\n",
              "      <th>unique</th>\n",
              "      <td>5</td>\n",
              "      <td>2329</td>\n",
              "      <td>2794</td>\n",
              "      <td>938</td>\n",
              "      <td>883</td>\n",
              "    </tr>\n",
              "    <tr>\n",
              "      <th>top</th>\n",
              "      <td>5.0</td>\n",
              "      <td>Great experience</td>\n",
              "      <td>-Worked as a contractor and was able to meet i...</td>\n",
              "      <td>Free lunches</td>\n",
              "      <td>none</td>\n",
              "    </tr>\n",
              "    <tr>\n",
              "      <th>freq</th>\n",
              "      <td>1563</td>\n",
              "      <td>148</td>\n",
              "      <td>140</td>\n",
              "      <td>29</td>\n",
              "      <td>18</td>\n",
              "    </tr>\n",
              "  </tbody>\n",
              "</table>\n",
              "</div>"
            ],
            "text/plain": [
              "       rating      rating_title  ...   rating_pros rating_cons\n",
              "count    2940              2940  ...          1110         997\n",
              "unique      5              2329  ...           938         883\n",
              "top       5.0  Great experience  ...  Free lunches        none\n",
              "freq     1563               148  ...            29          18\n",
              "\n",
              "[4 rows x 5 columns]"
            ]
          },
          "metadata": {
            "tags": []
          },
          "execution_count": 32
        }
      ]
    },
    {
      "cell_type": "code",
      "metadata": {
        "id": "Dtd47Fy6b9OX",
        "outputId": "b3fcbacc-38d1-4277-9e41-12e32ad7b7f7",
        "colab": {
          "base_uri": "https://localhost:8080/",
          "height": 295
        }
      },
      "source": [
        "groups = df.groupby('rating').count()\n",
        "Values = groups.rating_title\n",
        "colors = ['r', 'g', 'b', 'c', 'm']\n",
        "#making bar plot\n",
        "plt.bar(([1,2,3,4,5]), Values, color= colors)\n",
        "plt.title('Rating Distribution')\n",
        "plt.xlabel('Rating')\n",
        "plt.ylabel('Review Quantity')\n",
        "plt.show()"
      ],
      "execution_count": null,
      "outputs": [
        {
          "output_type": "display_data",
          "data": {
            "image/png": "[encoded data removed]",
            "text/plain": [
              "<Figure size 432x288 with 1 Axes>"
            ]
          },
          "metadata": {
            "tags": [],
            "needs_background": "light"
          }
        }
      ]
    },
    {
      "cell_type": "markdown",
      "metadata": {
        "id": "QqAA157yePZi"
      },
      "source": [
        "pseudo language"
      ]
    },
    {
      "cell_type": "code",
      "metadata": {
        "id": "Fe9yS5mLcY9M",
        "outputId": "05f7a1f3-1b36-4894-cb2e-7f3de1853908",
        "colab": {
          "base_uri": "https://localhost:8080/",
          "height": 34
        }
      },
      "source": [
        "type(df['rating'][0])"
      ],
      "execution_count": null,
      "outputs": [
        {
          "output_type": "execute_result",
          "data": {
            "text/plain": [
              "str"
            ]
          },
          "metadata": {
            "tags": []
          },
          "execution_count": 36
        }
      ]
    },
    {
      "cell_type": "code",
      "metadata": {
        "id": "pU1mRxYbfLJl",
        "outputId": "da731845-120b-4fa1-8c23-c9ee7bc95836",
        "colab": {
          "base_uri": "https://localhost:8080/",
          "height": 34
        }
      },
      "source": [
        "type(float(df['rating'][0]))"
      ],
      "execution_count": null,
      "outputs": [
        {
          "output_type": "execute_result",
          "data": {
            "text/plain": [
              "float"
            ]
          },
          "metadata": {
            "tags": []
          },
          "execution_count": 40
        }
      ]
    },
    {
      "cell_type": "code",
      "metadata": {
        "id": "2KysWz3te3I2",
        "outputId": "de253888-a9d9-4bbc-cdc4-7c0c420712d2",
        "colab": {
          "base_uri": "https://localhost:8080/",
          "height": 589
        }
      },
      "source": [
        "df['binary_class'] = np.where(df['rating'].astype(float) > 3, 1, 0)\n",
        "df"
      ],
      "execution_count": null,
      "outputs": [
        {
          "output_type": "execute_result",
          "data": {
            "text/html": [
              "<div>\n",
              "<style scoped>\n",
              "    .dataframe tbody tr th:only-of-type {\n",
              "        vertical-align: middle;\n",
              "    }\n",
              "\n",
              "    .dataframe tbody tr th {\n",
              "        vertical-align: top;\n",
              "    }\n",
              "\n",
              "    .dataframe thead th {\n",
              "        text-align: right;\n",
              "    }\n",
              "</style>\n",
              "<table border=\"1\" class=\"dataframe\">\n",
              "  <thead>\n",
              "    <tr style=\"text-align: right;\">\n",
              "      <th></th>\n",
              "      <th>rating</th>\n",
              "      <th>rating_title</th>\n",
              "      <th>rating_description</th>\n",
              "      <th>rating_pros</th>\n",
              "      <th>rating_cons</th>\n",
              "      <th>binary_class</th>\n",
              "    </tr>\n",
              "  </thead>\n",
              "  <tbody>\n",
              "    <tr>\n",
              "      <th>0</th>\n",
              "      <td>4.0</td>\n",
              "      <td>Great experience</td>\n",
              "      <td>-Worked as a contractor and was able to meet i...</td>\n",
              "      <td>None</td>\n",
              "      <td>None</td>\n",
              "      <td>1</td>\n",
              "    </tr>\n",
              "    <tr>\n",
              "      <th>1</th>\n",
              "      <td>5.0</td>\n",
              "      <td>typest</td>\n",
              "      <td>ndeed is a fantastic place to work and your co...</td>\n",
              "      <td>culture</td>\n",
              "      <td>None</td>\n",
              "      <td>1</td>\n",
              "    </tr>\n",
              "    <tr>\n",
              "      <th>2</th>\n",
              "      <td>5.0</td>\n",
              "      <td>Fun Place to work</td>\n",
              "      <td>Google has their own culture, what you see in ...</td>\n",
              "      <td>Free lunches, Lear alot, gBus commute</td>\n",
              "      <td>No cons</td>\n",
              "      <td>1</td>\n",
              "    </tr>\n",
              "    <tr>\n",
              "      <th>3</th>\n",
              "      <td>4.0</td>\n",
              "      <td>Contracting at Google is what you make it</td>\n",
              "      <td>The potential upward mobility as a contractor ...</td>\n",
              "      <td>Free lunch, Upward mobility</td>\n",
              "      <td>Work life balance, TVC inequality</td>\n",
              "      <td>1</td>\n",
              "    </tr>\n",
              "    <tr>\n",
              "      <th>4</th>\n",
              "      <td>3.0</td>\n",
              "      <td>Google Cloud has a lot of challenges</td>\n",
              "      <td>Working at Google cloud has many challenges, a...</td>\n",
              "      <td>Good benefits, the company is going after the ...</td>\n",
              "      <td>Unprepared management, to many escalation leve...</td>\n",
              "      <td>0</td>\n",
              "    </tr>\n",
              "    <tr>\n",
              "      <th>...</th>\n",
              "      <td>...</td>\n",
              "      <td>...</td>\n",
              "      <td>...</td>\n",
              "      <td>...</td>\n",
              "      <td>...</td>\n",
              "      <td>...</td>\n",
              "    </tr>\n",
              "    <tr>\n",
              "      <th>2935</th>\n",
              "      <td>5.0</td>\n",
              "      <td>Fun workplace</td>\n",
              "      <td>My everyday routine at Google was to correct a...</td>\n",
              "      <td>Free Meals.</td>\n",
              "      <td>None</td>\n",
              "      <td>1</td>\n",
              "    </tr>\n",
              "    <tr>\n",
              "      <th>2936</th>\n",
              "      <td>4.0</td>\n",
              "      <td>Productive</td>\n",
              "      <td>The position was very productive. Help manage ...</td>\n",
              "      <td>Free lunches, Great Pay</td>\n",
              "      <td>Short Brakes</td>\n",
              "      <td>1</td>\n",
              "    </tr>\n",
              "    <tr>\n",
              "      <th>2937</th>\n",
              "      <td>5.0</td>\n",
              "      <td>Freedom working from home!</td>\n",
              "      <td>I got to work at home on my computer everyday ...</td>\n",
              "      <td>Freedom working from home!</td>\n",
              "      <td>Benefits weren't great</td>\n",
              "      <td>1</td>\n",
              "    </tr>\n",
              "    <tr>\n",
              "      <th>2938</th>\n",
              "      <td>5.0</td>\n",
              "      <td>Freedom working from home!</td>\n",
              "      <td>I got to work at home on my computer everyday ...</td>\n",
              "      <td>Freedom working from home!</td>\n",
              "      <td>Benefits weren't great</td>\n",
              "      <td>1</td>\n",
              "    </tr>\n",
              "    <tr>\n",
              "      <th>2939</th>\n",
              "      <td>5.0</td>\n",
              "      <td>What I got out of GSX</td>\n",
              "      <td>Its a wonderful experience and great place for...</td>\n",
              "      <td>Learning, connection, flexibility, personal gr...</td>\n",
              "      <td>contract work</td>\n",
              "      <td>1</td>\n",
              "    </tr>\n",
              "  </tbody>\n",
              "</table>\n",
              "<p>2940 rows × 6 columns</p>\n",
              "</div>"
            ],
            "text/plain": [
              "     rating  ... binary_class\n",
              "0       4.0  ...            1\n",
              "1       5.0  ...            1\n",
              "2       5.0  ...            1\n",
              "3       4.0  ...            1\n",
              "4       3.0  ...            0\n",
              "...     ...  ...          ...\n",
              "2935    5.0  ...            1\n",
              "2936    4.0  ...            1\n",
              "2937    5.0  ...            1\n",
              "2938    5.0  ...            1\n",
              "2939    5.0  ...            1\n",
              "\n",
              "[2940 rows x 6 columns]"
            ]
          },
          "metadata": {
            "tags": []
          },
          "execution_count": 41
        }
      ]
    },
    {
      "cell_type": "code",
      "metadata": {
        "id": "NCGpprXchInO"
      },
      "source": [
        "import pandas as pd\n",
        "import pandas_datareader as pdr\n",
        "import datetime \n",
        "aapl = pdr.get_data_yahoo('AAPL', \n",
        "                          start=datetime.datetime(2009, 10, 1),\n",
        "                          end=datetime.datetime(2020, 10, 5))"
      ],
      "execution_count": null,
      "outputs": []
    },
    {
      "cell_type": "code",
      "metadata": {
        "id": "FC6hwhoZjpgp",
        "outputId": "4f7cc0f9-2d28-46d1-a996-35060ea469dc",
        "colab": {
          "base_uri": "https://localhost:8080/",
          "height": 235
        }
      },
      "source": [
        "aapl.tail()"
      ],
      "execution_count": null,
      "outputs": [
        {
          "output_type": "execute_result",
          "data": {
            "text/html": [
              "<div>\n",
              "<style scoped>\n",
              "    .dataframe tbody tr th:only-of-type {\n",
              "        vertical-align: middle;\n",
              "    }\n",
              "\n",
              "    .dataframe tbody tr th {\n",
              "        vertical-align: top;\n",
              "    }\n",
              "\n",
              "    .dataframe thead th {\n",
              "        text-align: right;\n",
              "    }\n",
              "</style>\n",
              "<table border=\"1\" class=\"dataframe\">\n",
              "  <thead>\n",
              "    <tr style=\"text-align: right;\">\n",
              "      <th></th>\n",
              "      <th>High</th>\n",
              "      <th>Low</th>\n",
              "      <th>Open</th>\n",
              "      <th>Close</th>\n",
              "      <th>Volume</th>\n",
              "      <th>Adj Close</th>\n",
              "    </tr>\n",
              "    <tr>\n",
              "      <th>Date</th>\n",
              "      <th></th>\n",
              "      <th></th>\n",
              "      <th></th>\n",
              "      <th></th>\n",
              "      <th></th>\n",
              "      <th></th>\n",
              "    </tr>\n",
              "  </thead>\n",
              "  <tbody>\n",
              "    <tr>\n",
              "      <th>2020-09-29</th>\n",
              "      <td>115.309998</td>\n",
              "      <td>113.570000</td>\n",
              "      <td>114.550003</td>\n",
              "      <td>114.089996</td>\n",
              "      <td>99382200.0</td>\n",
              "      <td>114.089996</td>\n",
              "    </tr>\n",
              "    <tr>\n",
              "      <th>2020-09-30</th>\n",
              "      <td>117.260002</td>\n",
              "      <td>113.620003</td>\n",
              "      <td>113.790001</td>\n",
              "      <td>115.809998</td>\n",
              "      <td>142675200.0</td>\n",
              "      <td>115.809998</td>\n",
              "    </tr>\n",
              "    <tr>\n",
              "      <th>2020-10-01</th>\n",
              "      <td>117.720001</td>\n",
              "      <td>115.830002</td>\n",
              "      <td>117.639999</td>\n",
              "      <td>116.790001</td>\n",
              "      <td>116120400.0</td>\n",
              "      <td>116.790001</td>\n",
              "    </tr>\n",
              "    <tr>\n",
              "      <th>2020-10-02</th>\n",
              "      <td>115.370003</td>\n",
              "      <td>112.220001</td>\n",
              "      <td>112.889999</td>\n",
              "      <td>113.019997</td>\n",
              "      <td>144712000.0</td>\n",
              "      <td>113.019997</td>\n",
              "    </tr>\n",
              "    <tr>\n",
              "      <th>2020-10-05</th>\n",
              "      <td>116.650002</td>\n",
              "      <td>113.550003</td>\n",
              "      <td>113.910004</td>\n",
              "      <td>116.500000</td>\n",
              "      <td>105720800.0</td>\n",
              "      <td>116.500000</td>\n",
              "    </tr>\n",
              "  </tbody>\n",
              "</table>\n",
              "</div>"
            ],
            "text/plain": [
              "                  High         Low  ...       Volume   Adj Close\n",
              "Date                                ...                         \n",
              "2020-09-29  115.309998  113.570000  ...   99382200.0  114.089996\n",
              "2020-09-30  117.260002  113.620003  ...  142675200.0  115.809998\n",
              "2020-10-01  117.720001  115.830002  ...  116120400.0  116.790001\n",
              "2020-10-02  115.370003  112.220001  ...  144712000.0  113.019997\n",
              "2020-10-05  116.650002  113.550003  ...  105720800.0  116.500000\n",
              "\n",
              "[5 rows x 6 columns]"
            ]
          },
          "metadata": {
            "tags": []
          },
          "execution_count": 44
        }
      ]
    },
    {
      "cell_type": "code",
      "metadata": {
        "id": "8bE93iExj-Oa"
      },
      "source": [
        "aapl['diff'] = aapl.Open - aapl.Close\n",
        "\n",
        "aapl['diff2']= aapl.High - aapl.Low"
      ],
      "execution_count": null,
      "outputs": []
    },
    {
      "cell_type": "code",
      "metadata": {
        "id": "WjGgRKqzkCVH",
        "outputId": "af1b2775-6ac7-45b0-f4f8-33315e124fe0",
        "colab": {
          "base_uri": "https://localhost:8080/",
          "height": 269
        }
      },
      "source": [
        "# Import Matplotlib's `pyplot` module as `plt`\n",
        "import matplotlib.pyplot as plt\n",
        "\n",
        "# Plot the closing prices for `aapl`\n",
        "aapl['diff'].plot(grid=True)\n",
        "\n",
        "# Show the plot\n",
        "plt.show()"
      ],
      "execution_count": null,
      "outputs": [
        {
          "output_type": "display_data",
          "data": {
            "image/png": "[encoded data removed]",
            "text/plain": [
              "<Figure size 432x288 with 1 Axes>"
            ]
          },
          "metadata": {
            "tags": [],
            "needs_background": "light"
          }
        }
      ]
    }
  ]
}