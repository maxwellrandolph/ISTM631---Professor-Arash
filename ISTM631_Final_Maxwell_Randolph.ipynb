{
  "nbformat": 4,
  "nbformat_minor": 0,
  "metadata": {
    "colab": {
      "name": "ISTM631 - Final - Maxwell Randolph.ipynb",
      "provenance": [],
      "authorship_tag": "ABX9TyNrDZDGMMEW/hqqM58QVDht",
      "include_colab_link": true
    },
    "kernelspec": {
      "name": "python3",
      "display_name": "Python 3"
    }
  },
  "cells": [
    {
      "cell_type": "markdown",
      "metadata": {
        "id": "view-in-github",
        "colab_type": "text"
      },
      "source": [
        "<a href=\"https://colab.research.google.com/github/maxwellrandolph/ISTM631---Professor-Arash/blob/master/ISTM631_Final_Maxwell_Randolph.ipynb\" target=\"_parent\"><img src=\"https://colab.research.google.com/assets/colab-badge.svg\" alt=\"Open In Colab\"/></a>"
      ]
    },
    {
      "cell_type": "markdown",
      "metadata": {
        "id": "yipgkp5J_xGm"
      },
      "source": [
        "**Question #1**"
      ]
    },
    {
      "cell_type": "code",
      "metadata": {
        "id": "CPoHpivc7UmV",
        "outputId": "d4fe44e7-d03d-4bdb-be0c-ef4f6318a6b3",
        "colab": {
          "base_uri": "https://localhost:8080/",
          "height": 85
        }
      },
      "source": [
        "name = input(\"Enter name: \")\n",
        "age = int(input(\"Enter age: \"))\n",
        "print(\"Number of characters in name is\", len(name))\n",
        "print(\"Age is\", age)"
      ],
      "execution_count": 1,
      "outputs": [
        {
          "output_type": "stream",
          "text": [
            "Enter name: Maxwell Randolph\n",
            "Enter age: 26\n",
            "Number of characters in name is 16\n",
            "Age is 26\n"
          ],
          "name": "stdout"
        }
      ]
    },
    {
      "cell_type": "markdown",
      "metadata": {
        "id": "3jL6zgcc_7e1"
      },
      "source": [
        "**Question #2**"
      ]
    },
    {
      "cell_type": "code",
      "metadata": {
        "id": "W423Dn2H7tP0",
        "outputId": "6dc3c9bf-b6d7-4415-b809-57e221c7cf10",
        "colab": {
          "base_uri": "https://localhost:8080/",
          "height": 34
        }
      },
      "source": [
        "a = input(\"What grade will you receive on this final?\")"
      ],
      "execution_count": 17,
      "outputs": [
        {
          "output_type": "stream",
          "text": [
            "What grade will you receive on this final?99\n"
          ],
          "name": "stdout"
        }
      ]
    },
    {
      "cell_type": "code",
      "metadata": {
        "id": "NB5dqjXr8bSy",
        "outputId": "ff131945-6562-4bb3-9204-a60195c83bc2",
        "colab": {
          "base_uri": "https://localhost:8080/",
          "height": 164
        }
      },
      "source": [
        "a+1\n"
      ],
      "execution_count": 18,
      "outputs": [
        {
          "output_type": "error",
          "ename": "TypeError",
          "evalue": "ignored",
          "traceback": [
            "\u001b[0;31m---------------------------------------------------------------------------\u001b[0m",
            "\u001b[0;31mTypeError\u001b[0m                                 Traceback (most recent call last)",
            "\u001b[0;32m<ipython-input-18-98b939904c8e>\u001b[0m in \u001b[0;36m<module>\u001b[0;34m()\u001b[0m\n\u001b[0;32m----> 1\u001b[0;31m \u001b[0ma\u001b[0m\u001b[0;34m+\u001b[0m\u001b[0;36m1\u001b[0m\u001b[0;34m\u001b[0m\u001b[0;34m\u001b[0m\u001b[0m\n\u001b[0m",
            "\u001b[0;31mTypeError\u001b[0m: must be str, not int"
          ]
        }
      ]
    },
    {
      "cell_type": "markdown",
      "metadata": {
        "id": "xw0GQ7Vv_Ai4"
      },
      "source": [
        "If you do not not tell python that the inout will be an integer it will treat what the user inputs as string, so when you try to add to it, you get an error. The correct format is shown below."
      ]
    },
    {
      "cell_type": "code",
      "metadata": {
        "id": "8lQnO_0f_gJK",
        "outputId": "43b92e66-994b-419c-f471-d4088b2d522e",
        "colab": {
          "base_uri": "https://localhost:8080/",
          "height": 34
        }
      },
      "source": [
        "a = int(input(\"What grade will you receive on this final?\"))"
      ],
      "execution_count": 21,
      "outputs": [
        {
          "output_type": "stream",
          "text": [
            "What grade will you receive on this final?99\n"
          ],
          "name": "stdout"
        }
      ]
    },
    {
      "cell_type": "code",
      "metadata": {
        "id": "jYqChxvj_lKE",
        "outputId": "878d2eaa-9e6b-4e14-abc1-f4380fe14a8d",
        "colab": {
          "base_uri": "https://localhost:8080/",
          "height": 34
        }
      },
      "source": [
        "a +1\n"
      ],
      "execution_count": 22,
      "outputs": [
        {
          "output_type": "execute_result",
          "data": {
            "text/plain": [
              "100"
            ]
          },
          "metadata": {
            "tags": []
          },
          "execution_count": 22
        }
      ]
    },
    {
      "cell_type": "markdown",
      "metadata": {
        "id": "zR2_HcjYABVt"
      },
      "source": [
        "**Question #3**"
      ]
    },
    {
      "cell_type": "code",
      "metadata": {
        "id": "tPhZoRtJAFBl",
        "outputId": "2c962658-6263-458e-9deb-1cf1d759d6eb",
        "colab": {
          "base_uri": "https://localhost:8080/",
          "height": 34
        }
      },
      "source": [
        "#Convertions\n",
        "days= 365\n",
        "hours = 24\n",
        "minutes = 60\n",
        "seconds = 60\n",
        "print('The number of seconds in a year is', days*hours*minutes*seconds, 'seconds.')"
      ],
      "execution_count": 25,
      "outputs": [
        {
          "output_type": "stream",
          "text": [
            "The number of seconds in a year is 31536000 seconds.\n"
          ],
          "name": "stdout"
        }
      ]
    },
    {
      "cell_type": "markdown",
      "metadata": {
        "id": "GY6SuwtbBlJ_"
      },
      "source": [
        "**Question #4**"
      ]
    },
    {
      "cell_type": "code",
      "metadata": {
        "id": "r4Iq7ge1BMj1",
        "outputId": "5dec9c6f-2618-4894-d9b5-d8489dc64fcb",
        "colab": {
          "base_uri": "https://localhost:8080/",
          "height": 85
        }
      },
      "source": [
        "w = float(input(\"hourly wage: \"))\n",
        "h = float(input(\"regular hours: \"))\n",
        "o = float(input(\"overtime hours: \"))\n",
        "op = o * (w*1.5)\n",
        "t = (w*h)+op\n",
        "print(\"your weekly pay = \", t)"
      ],
      "execution_count": 7,
      "outputs": [
        {
          "output_type": "stream",
          "text": [
            "hourly wage: 30\n",
            "regular hours: 1\n",
            "overtime hours: 1\n",
            "your weekly pay =  75.0\n"
          ],
          "name": "stdout"
        }
      ]
    },
    {
      "cell_type": "markdown",
      "metadata": {
        "id": "e7zzidrtI5lo"
      },
      "source": [
        "**Question #5**"
      ]
    },
    {
      "cell_type": "code",
      "metadata": {
        "id": "HHUsxKksJiGl",
        "outputId": "8b5b2598-4a5b-4aee-b84a-33eba12b12d4",
        "colab": {
          "base_uri": "https://localhost:8080/",
          "height": 119
        }
      },
      "source": [
        "theSum = 0.0\n",
        "# stores the number of terms entered by the user\n",
        "n = 0\n",
        "# loop untill user presses the enter key\n",
        "# infinite loop\n",
        "while True:\n",
        "    # get user input from user\n",
        "    data = input(\"Enter a number or press Enter to quit: \")\n",
        "    # if user pressed enter\n",
        "    if data == '':\n",
        "        # break out of the loop\n",
        "        break\n",
        "    # convert data into float using float()\n",
        "    number = float(data)\n",
        "    # add the entered number to theSum\n",
        "    theSum += number\n",
        "    # increase the number of terms\n",
        "    n += 1\n",
        "print()\n",
        "print(\"The sum is\", theSum)\n",
        "# if numbers of terms eneterd are greater than 0\n",
        "if n > 0:\n",
        "    # calculate average\n",
        "    average = theSum / n\n",
        "    print('The average is', average)\n",
        "# if no terms are entered\n",
        "else:\n",
        "    print('Average : undefined (as the number of terms eneterd are 0)')"
      ],
      "execution_count": 14,
      "outputs": [
        {
          "output_type": "stream",
          "text": [
            "Enter a number or press Enter to quit: 5\n",
            "Enter a number or press Enter to quit: 7\n",
            "Enter a number or press Enter to quit: \n",
            "\n",
            "The sum is 12.0\n",
            "The average is 6.0\n"
          ],
          "name": "stdout"
        }
      ]
    },
    {
      "cell_type": "markdown",
      "metadata": {
        "id": "Hws7GiuLLRBw"
      },
      "source": [
        "**Question #6**"
      ]
    },
    {
      "cell_type": "code",
      "metadata": {
        "id": "-5xMpy_YLP0P",
        "outputId": "90dbc3b2-f4f4-451b-dbd8-0d7153b4a30d",
        "colab": {
          "base_uri": "https://localhost:8080/",
          "height": 68
        }
      },
      "source": [
        "import random\n",
        "# Request the input\n",
        "dollars = int(input(\"How many dollars do you have? \"))\n",
        "# Initialize variables\n",
        "maxDollars = dollars\n",
        "countAtMax = 0\n",
        "count = 0\n",
        "# Loop until the money is gone\n",
        "while dollars > 0:\n",
        "    # Roll the dice\n",
        "    die1 = random.randint(1, 6)  # 1-6\n",
        "    die2 = random.randint(1, 6)  # 1-6\n",
        "    # Calculate the winnings or losses\n",
        "    count += 1\n",
        "    if die1 + die2 == 7:\n",
        "        dollars += 4\n",
        "    else:\n",
        "        dollars -= 1\n",
        "    # If this is a new maximum, remember it\n",
        "    if dollars > maxDollars:\n",
        "        maxDollars = dollars\n",
        "        countAtMax = count\n",
        "# Display the results\n",
        "print(\"You are broke after \" + str(count) + \" rolls.\\n\" + \\\n",
        " \\\n",
        "      \"You should have quit after \" + str(countAtMax) + \\\n",
        " \\\n",
        "      \" rolls when you had $\" + str(maxDollars) + \".\")"
      ],
      "execution_count": 16,
      "outputs": [
        {
          "output_type": "stream",
          "text": [
            "How many dollars do you have? 1500\n",
            "You are broke after 9090 rolls.\n",
            "You should have quit after 180 rolls when you had $1525.\n"
          ],
          "name": "stdout"
        }
      ]
    },
    {
      "cell_type": "markdown",
      "metadata": {
        "id": "EBsPjPI9MK6L"
      },
      "source": [
        "**Question 7**"
      ]
    },
    {
      "cell_type": "code",
      "metadata": {
        "id": "aVHH1TntMaZe"
      },
      "source": [
        "file_name = input('Enter input file name: ')\n",
        "# print the header on terminal\n",
        "print('\\n%-15s%-10s%-10s' % ('Name', 'Hours', 'Total Pay'))\n",
        "# open the file and iterate line by line\n",
        "for line in open(file_name):\n",
        "    line = line.strip()\n",
        "\n",
        "    # if line is not blank\n",
        "    if line != '':\n",
        "        # split the line and capture each group\n",
        "        (nm, wage, hours) = line.split()\n",
        "\n",
        "        # name is in string, while wage and hours next\n",
        "        # to be converted form stirng to float\n",
        "        wage = float(wage)\n",
        "        hours = int(hours)\n",
        "        pay = wage * hours\n",
        "\n",
        "        print('%-15s%-10d%-10.2f' % (nm, hours, pay))"
      ],
      "execution_count": null,
      "outputs": []
    },
    {
      "cell_type": "markdown",
      "metadata": {
        "id": "vi5OKVAqOY3o"
      },
      "source": [
        "**Question 8**"
      ]
    },
    {
      "cell_type": "code",
      "metadata": {
        "id": "AjGSBFwzPB-6"
      },
      "source": [
        "#Prompt the user to enter the file name.\n",
        "file_name = input(\"Enter the input file name: \")\n",
        "#Open the file.\n",
        "file_obj = open(file_name)\n",
        "#Define a list to store the unique words in the file.\n",
        "unique_words = []\n",
        "#Run the loop to traverse each line in the file.\n",
        "for line in file_obj:\n",
        "    #Obtain the list of words on the current line.\n",
        "    words = line.split()\n",
        "    #Run the loop to access each word on the current line.\n",
        "    for curr_word in words:\n",
        "        #If there are any punctuations in\n",
        "        # the word then, remove them.\n",
        "        curr_word = curr_word.strip(',.?!')\n",
        "        #If the current word is not present in\n",
        "        #the list of the unique words then,\n",
        "        #add it to the list.\n",
        "        if curr_word not in unique_words:\n",
        "            unique_words.append(curr_word)\n",
        "#Close the file.\n",
        "file_obj.close()\n",
        "#Sort the list containing the unique words.\n",
        "unique_words.sort()\n",
        "#Display an empty line on the console.\n",
        "print()\n",
        "#Runthe loop to display the unique words.\n",
        "for curr_word in unique_words:\n",
        "    print(curr_word)"
      ],
      "execution_count": null,
      "outputs": []
    },
    {
      "cell_type": "markdown",
      "metadata": {
        "id": "AXw9TEEbQIiH"
      },
      "source": [
        "**Question 9**\n",
        "\n",
        "A Higher Order Function is a function that operates with other functions. It can contain other functions as a parameter or return a function as an output. A higher order function is an instance of the object type, can store the function in a variable, can pass the function as a parameter to another function, can reeturn the function from a function, and can be stored in data structures."
      ]
    },
    {
      "cell_type": "code",
      "metadata": {
        "id": "DHH_uYCIRhv5"
      },
      "source": [
        "def main():\n",
        "  fname = input(\"Enter filename:\")\n",
        "  infile = open(fname, \"r\")\n",
        "  \n",
        "  inf = infile.read().split()\n",
        "  \n",
        "  numbers = []\n",
        "  for line in inf:\n",
        "    numbers.append(int(line))\n",
        "  infile.close()\n",
        "  \n",
        "  average = float(sum(numbers))/len(numbers)\n",
        "  print(\"The average is\",average)\n",
        "\n",
        "main()"
      ],
      "execution_count": null,
      "outputs": []
    },
    {
      "cell_type": "markdown",
      "metadata": {
        "id": "fUzj7HfZULCE"
      },
      "source": [
        "**Question 10**"
      ]
    },
    {
      "cell_type": "code",
      "metadata": {
        "id": "GorpA0J9aBrf"
      },
      "source": [
        "import os\n",
        "from PIL import Image\n",
        "from library import validImageFile\n",
        "from library import validInt\n",
        "\n",
        "def blackAndWhite(rgbTuple, image):\n",
        "    \"\"\" Converts the image to black and white from given RGB value. \"\"\"\n",
        "    whitePixel = (255, 255, 255)\n",
        "    for y in range(image.height):\n",
        "        for x in range(image.width):\n",
        "            (r, g, b) = image.getpixel((x, y))\n",
        "            average = (r + g + b)/3\n",
        "            if average < 128:\n",
        "                image.putpixel((x, y), rgbTuple)\n",
        "            else:\n",
        "                image.putpixel((x, y), whitePixel)\n",
        "\n",
        "def main():\n",
        "    \"\"\" Main Method. \"\"\"\n",
        "    print(\"\\n\" * 10)\n",
        "    print(\"Posterize given image from given RGB value to black and white\", end=\"\\n\\n\");\n",
        "    input(\"Press ENTER to start execution ... \\n\");\n",
        "\n",
        "    fileName = input(\"Enter valid image file path (RELATIVE ONLY and NOT ABSOLUTE): \")\n",
        "    while not validImageFile(os.getcwd() + os.sep + fileName):\n",
        "        fileName = input(\"Enter valid image file path (RELATIVE ONLY and NOT ABSOLUTE): \")\n",
        "\n",
        "    red = input(\"Enter value of RED[0-255] in RGB: \")\n",
        "    while not validInt(red):\n",
        "        red = input(\"Enter value of RED[0-255] in RGB: \")\n",
        "\n",
        "    green = input(\"Enter value of GREEN[0-255] in RGB: \")\n",
        "    while not validInt(green):\n",
        "        green = input(\"Enter value of GREEN[0-255] in RGB: \")\n",
        "\n",
        "    blue = input(\"Enter value of BLUE[0-255] in RGB: \")\n",
        "    while not validInt(blue):\n",
        "        blue = input(\"Enter value of BLUE[0-255] in RGB: \")\n",
        "\n",
        "    rgbTuple = (int(red), int(green), int(blue))\n",
        "\n",
        "    image = Image.open(fileName)\n",
        "    print(\"Close the image window to continue.\")\n",
        "    image.show()\n",
        "\n",
        "    blackAndWhite(rgbTuple, image)\n",
        "    print(\"Close the image window to quit.\")\n",
        "    image.show()\n",
        "\n",
        "\"\"\"\n",
        "    Starting point\n",
        "\"\"\"\n",
        "main()"
      ],
      "execution_count": null,
      "outputs": []
    }
  ]
}