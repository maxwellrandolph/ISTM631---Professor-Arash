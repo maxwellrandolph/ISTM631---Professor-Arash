{
  "nbformat": 4,
  "nbformat_minor": 0,
  "metadata": {
    "colab": {
      "name": "ISTM - week 3 homework - maxwell randolph.ipynb",
      "provenance": [],
      "authorship_tag": "ABX9TyPMdG8R4qsiI6jA3PmqA+Qr",
      "include_colab_link": true
    },
    "kernelspec": {
      "name": "python3",
      "display_name": "Python 3"
    }
  },
  "cells": [
    {
      "cell_type": "markdown",
      "metadata": {
        "id": "view-in-github",
        "colab_type": "text"
      },
      "source": [
        "<a href=\"https://colab.research.google.com/github/maxwellrandolph/ISTM631---Professor-Arash/blob/master/ISTM_week_3_homework_maxwell_randolph.ipynb\" target=\"_parent\"><img src=\"https://colab.research.google.com/assets/colab-badge.svg\" alt=\"Open In Colab\"/></a>"
      ]
    },
    {
      "cell_type": "code",
      "metadata": {
        "id": "v9rbISDCHAfT",
        "colab_type": "code",
        "colab": {
          "base_uri": "https://localhost:8080/",
          "height": 119
        },
        "outputId": "2962d191-b99e-4188-a7c2-aa929124ba84"
      },
      "source": [
        "thesum = 0\n",
        "\n",
        "data = input('enter a number or enter to exit: ')\n",
        "while data !='':\n",
        "  number = float(data)\n",
        "  thesum += number\n",
        "  data = input('enter the next number: ')\n",
        "\n",
        "print('the sum is ', thesum)"
      ],
      "execution_count": null,
      "outputs": [
        {
          "output_type": "stream",
          "text": [
            "enter a number or enter to exit: 12\n",
            "enter the next number: 23\n",
            "enter the next number: 34\n",
            "enter the next number: 444\n",
            "enter the next number: \n",
            "the sum is  513.0\n"
          ],
          "name": "stdout"
        }
      ]
    },
    {
      "cell_type": "markdown",
      "metadata": {
        "id": "RZKAr122Jlfw",
        "colab_type": "text"
      },
      "source": [
        "Why Loop are tricky, bc you get into an infinate loop, bc you don't have an condition that can wrong"
      ]
    },
    {
      "cell_type": "code",
      "metadata": {
        "id": "PmeaZWCjLWYK",
        "colab_type": "code",
        "colab": {
          "base_uri": "https://localhost:8080/",
          "height": 130
        },
        "outputId": "d57fed8c-6502-4062-dc43-d6160c32ded4"
      },
      "source": [
        "while True:\n",
        "  factorial = int(input(\"Enter N: \"))\n",
        "  if factorial >= 1:\n",
        "  break\n",
        "else:\n",
        "  factorial * (factorial - 1)\n",
        "\n",
        "\n"
      ],
      "execution_count": null,
      "outputs": [
        {
          "output_type": "error",
          "ename": "IndentationError",
          "evalue": "ignored",
          "traceback": [
            "\u001b[0;36m  File \u001b[0;32m\"<ipython-input-50-440bfc024aa7>\"\u001b[0;36m, line \u001b[0;32m4\u001b[0m\n\u001b[0;31m    break\u001b[0m\n\u001b[0m        ^\u001b[0m\n\u001b[0;31mIndentationError\u001b[0m\u001b[0;31m:\u001b[0m expected an indented block\n"
          ]
        }
      ]
    },
    {
      "cell_type": "code",
      "metadata": {
        "id": "PpAqWNxHqAHy",
        "colab_type": "code",
        "colab": {
          "base_uri": "https://localhost:8080/",
          "height": 34
        },
        "outputId": "a8997a9f-2a8a-4b4a-c191-20edc8227a70"
      },
      "source": [
        "17%3"
      ],
      "execution_count": null,
      "outputs": [
        {
          "output_type": "execute_result",
          "data": {
            "text/plain": [
              "2"
            ]
          },
          "metadata": {
            "tags": []
          },
          "execution_count": 88
        }
      ]
    },
    {
      "cell_type": "code",
      "metadata": {
        "id": "NjHUrpjjqF6M",
        "colab_type": "code",
        "colab": {
          "base_uri": "https://localhost:8080/",
          "height": 34
        },
        "outputId": "eeeb5b91-ac84-41b6-f206-fd284a86e655"
      },
      "source": [
        "17%5"
      ],
      "execution_count": null,
      "outputs": [
        {
          "output_type": "execute_result",
          "data": {
            "text/plain": [
              "2"
            ]
          },
          "metadata": {
            "tags": []
          },
          "execution_count": 52
        }
      ]
    },
    {
      "cell_type": "code",
      "metadata": {
        "id": "rAHIpH-yqGZK",
        "colab_type": "code",
        "colab": {
          "base_uri": "https://localhost:8080/",
          "height": 34
        },
        "outputId": "16cd01c5-d7c3-4bd4-b104-2dcd9bb92712"
      },
      "source": [
        "20%12\n",
        "\n"
      ],
      "execution_count": null,
      "outputs": [
        {
          "output_type": "execute_result",
          "data": {
            "text/plain": [
              "8"
            ]
          },
          "metadata": {
            "tags": []
          },
          "execution_count": 69
        }
      ]
    },
    {
      "cell_type": "code",
      "metadata": {
        "id": "VA3H2hpXqGL7",
        "colab_type": "code",
        "colab": {}
      },
      "source": [
        ""
      ],
      "execution_count": null,
      "outputs": []
    },
    {
      "cell_type": "code",
      "metadata": {
        "id": "FNDvoR_T339Q",
        "colab_type": "code",
        "colab": {
          "base_uri": "https://localhost:8080/",
          "height": 130
        },
        "outputId": "46a59747-5ade-4ac4-f12c-58e87ebfb8d9"
      },
      "source": [
        "\n",
        "x = float(input('Please enter x: \")\n",
        "y = float(input('Please enter y: \")\n",
        "\n",
        "ao = str(input('Apply \"*, /, +, -\" to x and y')\n",
        "if ao == '*':\n",
        "print(\"Answer = x * y\")\n",
        "if ao == '/':\n",
        "print(Answer = x / y)\n",
        "if ao == '+':\n",
        "print(Answer = x + y)\n",
        "if ao == '-':\n",
        "print(Answer = x - y)\n",
        "if ao != '*' or '/' or '+' or '-':\n",
        "    Print('INVALID: Please enter \"*, /, +, -\" to receive a valid answer.')"
      ],
      "execution_count": null,
      "outputs": [
        {
          "output_type": "error",
          "ename": "SyntaxError",
          "evalue": "ignored",
          "traceback": [
            "\u001b[0;36m  File \u001b[0;32m\"<ipython-input-4-8d4010213acb>\"\u001b[0;36m, line \u001b[0;32m2\u001b[0m\n\u001b[0;31m    x = float(input('Please enter x: \")\u001b[0m\n\u001b[0m                                       ^\u001b[0m\n\u001b[0;31mSyntaxError\u001b[0m\u001b[0;31m:\u001b[0m EOL while scanning string literal\n"
          ]
        }
      ]
    },
    {
      "cell_type": "markdown",
      "metadata": {
        "id": "h-1Mdrxl369r",
        "colab_type": "text"
      },
      "source": [
        "Professor I am lost with this problem. \n",
        "\n",
        "The question states: The variables x and y refer to numbers. Write a code segment that prompts the user for an arithmetic operator and prints the value obtained by applying that operator to x and y.\n",
        "\n",
        "I have tried different code, but havent gotten anything to not be invalid. I've been on it for a while and just cant move on. Could I please get some direction?"
      ]
    },
    {
      "cell_type": "code",
      "metadata": {
        "id": "0hKGaTXE4bKx",
        "colab_type": "code",
        "colab": {
          "base_uri": "https://localhost:8080/",
          "height": 34
        },
        "outputId": "67036cdb-71ac-47bb-c4ad-7a8c56a044c2"
      },
      "source": [
        "salaries = [20, 25, 30, 40, 67]\n",
        "salaries\n"
      ],
      "execution_count": null,
      "outputs": [
        {
          "output_type": "execute_result",
          "data": {
            "text/plain": [
              "[20, 25, 30, 40, 67]"
            ]
          },
          "metadata": {
            "tags": []
          },
          "execution_count": 7
        }
      ]
    },
    {
      "cell_type": "markdown",
      "metadata": {
        "id": "xpbOw-qM7mLS",
        "colab_type": "text"
      },
      "source": [
        "Professor with the coding above and below I have worked on this salaries question quite extensiveley. It has caused a bit of stress. I understand the need to work in Google Collab, rather than the Python shell or document for purposes of communicating to you my work. \n",
        "\n",
        "Question: Write a loop that outputs the numbers in a list named \"salaries.\" The outputs should be formatted in a column that is right justified, with a field width of 12 and a precision of 2.\n",
        "\n",
        "**Can I get some direction here? **\n",
        "I have tried many different code, as you see above and below."
      ]
    },
    {
      "cell_type": "code",
      "metadata": {
        "id": "OiDJmpRB8v_g",
        "colab_type": "code",
        "colab": {}
      },
      "source": [
        ""
      ],
      "execution_count": null,
      "outputs": []
    },
    {
      "cell_type": "code",
      "metadata": {
        "id": "-r7dkqVv7e3k",
        "colab_type": "code",
        "colab": {
          "base_uri": "https://localhost:8080/",
          "height": 130
        },
        "outputId": "ff4bc74a-fb30-49fb-aebb-3aba0af0f5e9"
      },
      "source": [
        ">>> print('$%1.2f' % salaries)\n",
        "Traceback (most recent call last):\n",
        "  File \"<pyshell#311>\", line 1, in <module>\n",
        "    print('$%1.2f' % salaries)\n",
        "TypeError: must be real number, not list\n",
        ">>> salaries.rjust(0,50)\n",
        "Traceback (most recent call last):\n",
        "  File \"<pyshell#312>\", line 1, in <module>\n",
        "    salaries.rjust(0,50)\n",
        "AttributeError: 'list' object has no attribute 'rjust'\n",
        ">>> salaries.rjust(50, '0')\n",
        "Traceback (most recent call last):\n",
        "  File \"<pyshell#313>\", line 1, in <module>\n",
        "    salaries.rjust(50, '0')\n",
        "AttributeError: 'list' object has no attribute 'rjust'\n",
        ">>> salaries.rjust\n",
        "Traceback (most recent call last):\n",
        "  File \"<pyshell#314>\", line 1, in <module>\n",
        "    salaries.rjust\n",
        "AttributeError: 'list' object has no attribute 'rjust'\n",
        ">>> salaries >\n",
        "SyntaxError: invalid syntax\n",
        ">>> salaries >= [20, 22, 25, 44, 102]\n",
        "True\n",
        ">>> salaries\n",
        "[20, 25, 30, 40, 67]\n",
        ">>> align.salaries\n",
        "Traceback (most recent call last):\n",
        "  File \"<pyshell#318>\", line 1, in <module>\n",
        "    align.salaries\n",
        "NameError: name 'align' is not defined\n",
        ">>> align(salaries)\n",
        "Traceback (most recent call last):\n",
        "  File \"<pyshell#319>\", line 1, in <module>\n",
        "    align(salaries)\n",
        "NameError: name 'align' is not defined\n",
        ">>> print(\"$%12.2f\" %salaries)\n",
        "Traceback (most recent call last):\n",
        "  File \"<pyshell#320>\", line 1, in <module>\n",
        "    print(\"$%12.2f\" %salaries)\n",
        "TypeError: must be real number, not list\n",
        ">>> for eachPass in salaries(1)\n",
        "SyntaxError: invalid syntax\n",
        ">>> for eachPass in salaries(5)\n",
        "SyntaxError: invalid syntax\n",
        ">>> for eachPass in salaries\n",
        "SyntaxError: invalid syntax\n",
        ">>> list(range(salaries))\n",
        "Traceback (most recent call last):\n",
        "  File \"<pyshell#324>\", line 1, in <module>\n",
        "    list(range(salaries))\n",
        "TypeError: 'list' object cannot be interpreted as an integer\n",
        ">>> for value in \"salaries\"\n",
        "SyntaxError: invalid syntax\n",
        ">>> for value in \"salaries\":\n",
        "\tprint(value, end = \" \")\n",
        "\n",
        "\t\n",
        "s a l a r i e s \n",
        ">>> for value in (salaries):\n",
        "\tprint(value, end = \" \")\n",
        "\n",
        "\t\n",
        "20 25 30 40 67 \n",
        ">>> for value in (\"$%12.2f\" % salaries):\n",
        "\tprint(value, end = \" \")\n",
        "\n",
        "\t\n",
        "Traceback (most recent call last):\n",
        "  File \"<pyshell#332>\", line 1, in <module>\n",
        "    for value in (\"$%12.2f\" % salaries):\n",
        "TypeError: must be real number, not list\n",
        ">>> for exponent in in (\"$%12.2f\" % salaries):\n",
        "\tprint(exponent, end = \" \")\n",
        "\t\n",
        "SyntaxError: invalid syntax\n",
        ">>> for exponentin (\"$%12.2f\" % salaries):\n",
        "\tprint(exponent, end = \" \")\n",
        "\t\n",
        "SyntaxError: invalid syntax\n",
        ">>> for exponents in range(salaries):\n",
        "\tprint(\"%12.2d\" % (exponent, end = \" \")\n",
        "\t      \n",
        "SyntaxError: invalid syntax\n",
        ">>> for exponents in range(salaries):\n",
        "\tprint(\"%12.2d\" % (exponent, 5**exponent))\n",
        "\n",
        "\t\n",
        "Traceback (most recent call last):\n",
        "  File \"<pyshell#340>\", line 1, in <module>\n",
        "    for exponents in range(salaries):\n",
        "TypeError: 'list' object cannot be interpreted as an integer\n",
        ">>> \n",
        ">>> \n",
        ">>> \n",
        ">>> print ' salaries F'\n",
        "SyntaxError: Missing parentheses in call to 'print'. Did you mean print(' salaries F')?\n",
        ">>> \n",
        ">>> print(' salaries F')\n",
        " salaries F\n",
        "\\\n",
        ">>> print(' salaries F')\n",
        " salaries F\n",
        ">>> print(' S F')\n",
        " S F\n",
        ">>> for S in Salaries:\n",
        "\tF\n",
        "\n",
        "\t\n",
        "Traceback (most recent call last):\n",
        "  File \"<pyshell#351>\", line 1, in <module>\n",
        "    for S in Salaries:\n",
        "NameError: name 'Salaries' is not defined\n",
        ">>> CREATE TABLE table_name(\n",
        "\t\n",
        "SyntaxError: invalid syntax\n",
        ">>> CREATE TABLE table_name(\n",
        "   column1 datatype,\n",
        "   column2 datatype,\n",
        "   column3 datatype,\n",
        "   .....\n",
        "   columnN datatype,\n",
        ");\n",
        "SyntaxError: invalid syntax\n",
        ">>> mysql> CREATE TABLE EMPLOYEE(Salary_n char(20) NOT NULL);\n",
        "SyntaxError: invalid syntax\n",
        ">>> mydata = (\"1\", \"20\"), (\"2\", \"25\"), (\"3\", \"40\"), (\"4\", \"55\")\n",
        ">>> mydata = [(\"1\", \"20\"), (\"2\", \"25\"), (\"3\", \"40\"), (\"4\", \"55\")]\n",
        ">>> headers = [\"row\", \"salary\"]\n",
        ">>> sudo ptp3 install tabulate\n",
        "SyntaxError: invalid syntax\n",
        ">>> sudo pip3 install tabulate\n",
        "SyntaxError: invalid syntax\n",
        ">>> from tabulate import tabulate\n",
        "Traceback (most recent call last):\n",
        "  File \"<pyshell#360>\", line 1, in <module>\n",
        "    from tabulate import tabulate\n",
        "ModuleNotFoundError: No module named 'tabulate'\n",
        ">>> print(tabulate(mydata, headers))\n",
        "Traceback (most recent call last):\n",
        "  File \"<pyshell#361>\", line 1, in <module>\n",
        "    print(tabulate(mydata, headers))\n",
        "NameError: name 'tabulate' is not defined\n",
        ">>> pip install tabulate\n",
        "SyntaxError: invalid syntax\n",
        ">>> print(tabulate([[\"1\",20], [\"2\",24], [\"3\",44]], show index=\"always\"))\n",
        "SyntaxError: invalid syntax\n",
        ">>> print(tabulate([[\"1\",20], [\"2\",24], [\"3\",44]], showindex=\"always\"))\n",
        "Traceback (most recent call last):\n",
        "  File \"<pyshell#364>\", line 1, in <module>\n",
        "    print(tabulate([[\"1\",20], [\"2\",24], [\"3\",44]], showindex=\"always\"))\n",
        "NameError: name 'tabulate' is not defined\n",
        ">>> pip install tabulate\n",
        "SyntaxError: invalid syntax\n",
        ">>> pip install tabulate --user\n",
        "SyntaxError: invalid syntax"
      ],
      "execution_count": null,
      "outputs": [
        {
          "output_type": "error",
          "ename": "SyntaxError",
          "evalue": "ignored",
          "traceback": [
            "\u001b[0;36m  File \u001b[0;32m\"<ipython-input-8-c1202cb0d3fd>\"\u001b[0;36m, line \u001b[0;32m2\u001b[0m\n\u001b[0;31m    Traceback (most recent call last):\u001b[0m\n\u001b[0m                         ^\u001b[0m\n\u001b[0;31mSyntaxError\u001b[0m\u001b[0;31m:\u001b[0m invalid syntax\n"
          ]
        }
      ]
    },
    {
      "cell_type": "code",
      "metadata": {
        "id": "gAbett418UYL",
        "colab_type": "code",
        "colab": {
          "base_uri": "https://localhost:8080/",
          "height": 969
        },
        "outputId": "198f46cb-ff72-4831-a339-f3623da85994"
      },
      "source": [
        "salaries = [10, 20, 25, 30, 45, 65]\n",
        ">>> for salaries in range(10,66):\n",
        "\tprint(salaries)\n",
        " "
      ],
      "execution_count": null,
      "outputs": [
        {
          "output_type": "stream",
          "text": [
            "10\n",
            "11\n",
            "12\n",
            "13\n",
            "14\n",
            "15\n",
            "16\n",
            "17\n",
            "18\n",
            "19\n",
            "20\n",
            "21\n",
            "22\n",
            "23\n",
            "24\n",
            "25\n",
            "26\n",
            "27\n",
            "28\n",
            "29\n",
            "30\n",
            "31\n",
            "32\n",
            "33\n",
            "34\n",
            "35\n",
            "36\n",
            "37\n",
            "38\n",
            "39\n",
            "40\n",
            "41\n",
            "42\n",
            "43\n",
            "44\n",
            "45\n",
            "46\n",
            "47\n",
            "48\n",
            "49\n",
            "50\n",
            "51\n",
            "52\n",
            "53\n",
            "54\n",
            "55\n",
            "56\n",
            "57\n",
            "58\n",
            "59\n",
            "60\n",
            "61\n",
            "62\n",
            "63\n",
            "64\n",
            "65\n"
          ],
          "name": "stdout"
        }
      ]
    }
  ]
}