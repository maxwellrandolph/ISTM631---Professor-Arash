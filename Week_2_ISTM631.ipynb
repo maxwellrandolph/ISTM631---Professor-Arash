{
  "nbformat": 4,
  "nbformat_minor": 0,
  "metadata": {
    "colab": {
      "name": "Week 2 - ISTM631.ipynb",
      "provenance": [],
      "authorship_tag": "ABX9TyP8YtjJjYkuFF4U9PHeGf20",
      "include_colab_link": true
    },
    "kernelspec": {
      "name": "python3",
      "display_name": "Python 3"
    }
  },
  "cells": [
    {
      "cell_type": "markdown",
      "metadata": {
        "id": "view-in-github",
        "colab_type": "text"
      },
      "source": [
        "<a href=\"https://colab.research.google.com/github/maxwellrandolph/ISTM631---Professor-Arash/blob/master/Week_2_ISTM631.ipynb\" target=\"_parent\"><img src=\"https://colab.research.google.com/assets/colab-badge.svg\" alt=\"Open In Colab\"/></a>"
      ]
    },
    {
      "cell_type": "code",
      "metadata": {
        "id": "FW354sIwleC9"
      },
      "source": [
        "import pandas as pd"
      ],
      "execution_count": null,
      "outputs": []
    },
    {
      "cell_type": "code",
      "metadata": {
        "id": "b-yFzLa2lygM",
        "outputId": "2d48dade-c950-42a1-986e-6ae94252d1a1",
        "colab": {
          "base_uri": "https://localhost:8080/",
          "height": 215
        }
      },
      "source": [
        "url = 'https://raw.githubusercontent.com/maxwellrandolph/ISTM631/master/Abstraction%20Paragraph%20-%20Week%202%20Update?token=AQ4UQGYQT3KLDZ5WFPXLQA27LJBDI'\n",
        "\n",
        "#load data into a pandas dataframe\n",
        "df = pd.read_cvs(url)\n",
        "df.head()"
      ],
      "execution_count": null,
      "outputs": [
        {
          "output_type": "error",
          "ename": "AttributeError",
          "evalue": "ignored",
          "traceback": [
            "\u001b[0;31m---------------------------------------------------------------------------\u001b[0m",
            "\u001b[0;31mAttributeError\u001b[0m                            Traceback (most recent call last)",
            "\u001b[0;32m<ipython-input-5-97c587bdc8a3>\u001b[0m in \u001b[0;36m<module>\u001b[0;34m()\u001b[0m\n\u001b[1;32m      2\u001b[0m \u001b[0;34m\u001b[0m\u001b[0m\n\u001b[1;32m      3\u001b[0m \u001b[0;31m#load data into a pandas dataframe\u001b[0m\u001b[0;34m\u001b[0m\u001b[0;34m\u001b[0m\u001b[0;34m\u001b[0m\u001b[0m\n\u001b[0;32m----> 4\u001b[0;31m \u001b[0mdf\u001b[0m \u001b[0;34m=\u001b[0m \u001b[0mpd\u001b[0m\u001b[0;34m.\u001b[0m\u001b[0mread_cvs\u001b[0m\u001b[0;34m(\u001b[0m\u001b[0murl\u001b[0m\u001b[0;34m)\u001b[0m\u001b[0;34m\u001b[0m\u001b[0;34m\u001b[0m\u001b[0m\n\u001b[0m\u001b[1;32m      5\u001b[0m \u001b[0mdf\u001b[0m\u001b[0;34m.\u001b[0m\u001b[0mhead\u001b[0m\u001b[0;34m(\u001b[0m\u001b[0;34m)\u001b[0m\u001b[0;34m\u001b[0m\u001b[0;34m\u001b[0m\u001b[0m\n",
            "\u001b[0;31mAttributeError\u001b[0m: module 'pandas' has no attribute 'read_cvs'"
          ]
        }
      ]
    },
    {
      "cell_type": "code",
      "metadata": {
        "id": "sCPu87KfpRBI"
      },
      "source": [
        "import sys \n"
      ],
      "execution_count": null,
      "outputs": []
    },
    {
      "cell_type": "code",
      "metadata": {
        "id": "y584C8A-q5dF",
        "outputId": "154b1f8b-3f59-4c3d-fa3e-5aa6d1145c71",
        "colab": {
          "base_uri": "https://localhost:8080/",
          "height": 204
        }
      },
      "source": [
        "import sys\n",
        "\n",
        "import pandas\n",
        "\n",
        "import pandas as pd\n",
        "\n",
        "\n",
        "url = 'https://gist.githubusercontent.com/curran/a08a1080b88344b0c8a7/raw/639388c2cbc2120a14dcf466e85730eb8be498bb/iris.csv'\n",
        "\n",
        "#load data into pandas dataframe\n",
        "df = pd.read_csv(url)\n",
        "df.head()"
      ],
      "execution_count": null,
      "outputs": [
        {
          "output_type": "execute_result",
          "data": {
            "text/html": [
              "<div>\n",
              "<style scoped>\n",
              "    .dataframe tbody tr th:only-of-type {\n",
              "        vertical-align: middle;\n",
              "    }\n",
              "\n",
              "    .dataframe tbody tr th {\n",
              "        vertical-align: top;\n",
              "    }\n",
              "\n",
              "    .dataframe thead th {\n",
              "        text-align: right;\n",
              "    }\n",
              "</style>\n",
              "<table border=\"1\" class=\"dataframe\">\n",
              "  <thead>\n",
              "    <tr style=\"text-align: right;\">\n",
              "      <th></th>\n",
              "      <th>sepal_length</th>\n",
              "      <th>sepal_width</th>\n",
              "      <th>petal_length</th>\n",
              "      <th>petal_width</th>\n",
              "      <th>species</th>\n",
              "    </tr>\n",
              "  </thead>\n",
              "  <tbody>\n",
              "    <tr>\n",
              "      <th>0</th>\n",
              "      <td>5.1</td>\n",
              "      <td>3.5</td>\n",
              "      <td>1.4</td>\n",
              "      <td>0.2</td>\n",
              "      <td>setosa</td>\n",
              "    </tr>\n",
              "    <tr>\n",
              "      <th>1</th>\n",
              "      <td>4.9</td>\n",
              "      <td>3.0</td>\n",
              "      <td>1.4</td>\n",
              "      <td>0.2</td>\n",
              "      <td>setosa</td>\n",
              "    </tr>\n",
              "    <tr>\n",
              "      <th>2</th>\n",
              "      <td>4.7</td>\n",
              "      <td>3.2</td>\n",
              "      <td>1.3</td>\n",
              "      <td>0.2</td>\n",
              "      <td>setosa</td>\n",
              "    </tr>\n",
              "    <tr>\n",
              "      <th>3</th>\n",
              "      <td>4.6</td>\n",
              "      <td>3.1</td>\n",
              "      <td>1.5</td>\n",
              "      <td>0.2</td>\n",
              "      <td>setosa</td>\n",
              "    </tr>\n",
              "    <tr>\n",
              "      <th>4</th>\n",
              "      <td>5.0</td>\n",
              "      <td>3.6</td>\n",
              "      <td>1.4</td>\n",
              "      <td>0.2</td>\n",
              "      <td>setosa</td>\n",
              "    </tr>\n",
              "  </tbody>\n",
              "</table>\n",
              "</div>"
            ],
            "text/plain": [
              "   sepal_length  sepal_width  petal_length  petal_width species\n",
              "0           5.1          3.5           1.4          0.2  setosa\n",
              "1           4.9          3.0           1.4          0.2  setosa\n",
              "2           4.7          3.2           1.3          0.2  setosa\n",
              "3           4.6          3.1           1.5          0.2  setosa\n",
              "4           5.0          3.6           1.4          0.2  setosa"
            ]
          },
          "metadata": {
            "tags": []
          },
          "execution_count": 12
        }
      ]
    },
    {
      "cell_type": "code",
      "metadata": {
        "id": "aeJZ4j-_zgC3"
      },
      "source": [
        ""
      ],
      "execution_count": null,
      "outputs": []
    },
    {
      "cell_type": "markdown",
      "metadata": {
        "id": "4F6YfRYSzgj6"
      },
      "source": [
        "**Notes from video class session sent to us on 9/8/2020**\n",
        "\n",
        "**Review**: Cover basics and give ability to understand code - be able to read the code and understand it. Practice. Be familiar with code. Solve problems with Python. \n",
        "\n",
        "Last week: python in general: syntax error, objects in python\n",
        "**object oriented language**: Benefit-If we solve the problem for one object, the objects that are the same type can also be solved with the same solution\n",
        "**Function based**: need to write individual functions\n",
        "\n",
        "Covert from one object to another - types of data\n",
        "\n",
        "**strings** - anything between quotation marks\n",
        "\n",
        "text analytics -\n",
        "\n",
        "**indexing:** refers to the place the specific characters stand. This can be a list of numbers, variables, etc, and the index refers to a specific place (stance) in that list or (value)\n",
        "\n",
        "Name[0]\n",
        "Name[1]"
      ]
    },
    {
      "cell_type": "markdown",
      "metadata": {
        "id": "XSx5J3Qy8Owx"
      },
      "source": [
        ""
      ]
    },
    {
      "cell_type": "code",
      "metadata": {
        "id": "_eTmJkON8rOK"
      },
      "source": [
        "Name = 'Maxwell Randolph'"
      ],
      "execution_count": null,
      "outputs": []
    },
    {
      "cell_type": "code",
      "metadata": {
        "id": "06OUtMQ09qxp",
        "outputId": "14cfc778-be8a-422a-93e8-32277ea2a8cc",
        "colab": {
          "base_uri": "https://localhost:8080/",
          "height": 34
        }
      },
      "source": [
        "print(name[0])"
      ],
      "execution_count": null,
      "outputs": [
        {
          "output_type": "stream",
          "text": [
            "M\n"
          ],
          "name": "stdout"
        }
      ]
    },
    {
      "cell_type": "code",
      "metadata": {
        "id": "iXbBRF6N9xpL",
        "outputId": "a9263788-7635-44b0-8d7d-7b60a8441876",
        "colab": {
          "base_uri": "https://localhost:8080/",
          "height": 34
        }
      },
      "source": [
        "print(name[1])"
      ],
      "execution_count": null,
      "outputs": [
        {
          "output_type": "stream",
          "text": [
            "a\n"
          ],
          "name": "stdout"
        }
      ]
    },
    {
      "cell_type": "markdown",
      "metadata": {
        "id": "QpC2wwqM94W-"
      },
      "source": [
        "**Negative Indexing:**\n"
      ]
    },
    {
      "cell_type": "code",
      "metadata": {
        "id": "UqaIrhQV-Brc",
        "outputId": "bd29b2b3-f48f-430d-ac06-4b6d870e3d97",
        "colab": {
          "base_uri": "https://localhost:8080/",
          "height": 34
        }
      },
      "source": [
        "print(name[-1])"
      ],
      "execution_count": null,
      "outputs": [
        {
          "output_type": "stream",
          "text": [
            "h\n"
          ],
          "name": "stdout"
        }
      ]
    },
    {
      "cell_type": "markdown",
      "metadata": {
        "id": "JGY21tHW-MqP"
      },
      "source": [
        "starts at the end"
      ]
    },
    {
      "cell_type": "markdown",
      "metadata": {
        "id": "PxAYII0b_wxf"
      },
      "source": [
        "'\n",
        "'\n",
        "'\n",
        "''\n",
        "'\n",
        "'\n",
        "'\n",
        "'\n"
      ]
    },
    {
      "cell_type": "markdown",
      "metadata": {
        "id": "8wmHARkT-PWA"
      },
      "source": [
        "**Slicing**: taking apart or cutting a strong\n",
        "# refer to any part of the string"
      ]
    },
    {
      "cell_type": "code",
      "metadata": {
        "id": "JEsHJ0A3-kjJ",
        "outputId": "a79e741a-3315-472e-fd5e-47ca9c7afd0f",
        "colab": {
          "base_uri": "https://localhost:8080/",
          "height": 34
        }
      },
      "source": [
        "Name = 'Maxwell Randolph'\n",
        "print(Name[0:4])"
      ],
      "execution_count": null,
      "outputs": [
        {
          "output_type": "stream",
          "text": [
            "Maxw\n"
          ],
          "name": "stdout"
        }
      ]
    },
    {
      "cell_type": "markdown",
      "metadata": {
        "id": "3X7eXzAY_lQs"
      },
      "source": [
        "'\n",
        "'\n",
        "'\n",
        "'\n",
        "'\n",
        "'\n",
        "'\n",
        "'"
      ]
    },
    {
      "cell_type": "markdown",
      "metadata": {
        "id": "ouJa-nbu_LMJ"
      },
      "source": [
        "**Strides:** This will take peak ever # of character you want for the amount number of characters you want\n"
      ]
    },
    {
      "cell_type": "code",
      "metadata": {
        "id": "tIvd41Qh-70L",
        "outputId": "8c14baa2-6326-4830-c080-7a74d8508073",
        "colab": {
          "base_uri": "https://localhost:8080/",
          "height": 35
        }
      },
      "source": [
        "Name[0:9:3]"
      ],
      "execution_count": null,
      "outputs": [
        {
          "output_type": "execute_result",
          "data": {
            "application/vnd.google.colaboratory.intrinsic+json": {
              "type": "string"
            },
            "text/plain": [
              "'Mwl'"
            ]
          },
          "metadata": {
            "tags": []
          },
          "execution_count": 40
        }
      ]
    },
    {
      "cell_type": "markdown",
      "metadata": {
        "id": "aNKBtout_IeY"
      },
      "source": [
        "'\n",
        "'\n",
        "'\n",
        "'\n",
        "'\n",
        "'\n",
        "'\n",
        "\n"
      ]
    },
    {
      "cell_type": "markdown",
      "metadata": {
        "id": "DkZUfnLyKiWe"
      },
      "source": [
        "Escape Sequences - sequences that add spacing to the code\n",
        "backslashs will make code go to the next line\n",
        "/t backslash t TAB\n",
        "/n backslash n NEXT Line\n",
        "spacial characters\n",
        "**Will ask, what are escape sequences**"
      ]
    },
    {
      "cell_type": "code",
      "metadata": {
        "id": "iXxfYudfLood"
      },
      "source": [
        ""
      ],
      "execution_count": null,
      "outputs": []
    },
    {
      "cell_type": "markdown",
      "metadata": {
        "id": "U1_g_0NtLzM8"
      },
      "source": [
        "function - any arguments that make output happen - input and output"
      ]
    },
    {
      "cell_type": "markdown",
      "metadata": {
        "id": "47XPY3krL6Dy"
      },
      "source": [
        "method - another way to manipulate data"
      ]
    },
    {
      "cell_type": "code",
      "metadata": {
        "id": "GHResxi8MGo6",
        "outputId": "272c5bcb-d2b3-47aa-95d9-3cc9d270c1d9",
        "colab": {
          "base_uri": "https://localhost:8080/",
          "height": 34
        }
      },
      "source": [
        "print(name)\n"
      ],
      "execution_count": null,
      "outputs": [
        {
          "output_type": "stream",
          "text": [
            "Maxwell Randolph\n"
          ],
          "name": "stdout"
        }
      ]
    },
    {
      "cell_type": "code",
      "metadata": {
        "id": "XcA4F0ErMKlT",
        "outputId": "157c5eb8-746c-4512-b09e-6c02203304e6",
        "colab": {
          "base_uri": "https://localhost:8080/",
          "height": 34
        }
      },
      "source": [
        "B = Name.upper()\n",
        "\n",
        "print(B)"
      ],
      "execution_count": null,
      "outputs": [
        {
          "output_type": "stream",
          "text": [
            "MAXWELL RANDOLPH\n"
          ],
          "name": "stdout"
        }
      ]
    },
    {
      "cell_type": "markdown",
      "metadata": {
        "id": "AeSwOL2MMXHc"
      },
      "source": [
        "apply something to variable to change it in a way and create new variable to give a result or not. It does not nessisarily change the variable. Methods are defined as specific funtion on specific object. The upper method has been defined(something -s"
      ]
    },
    {
      "cell_type": "markdown",
      "metadata": {
        "id": "oWGKVbDoM9y2"
      },
      "source": [
        "Methods are funtions or operation that will define(are applied) for specific types of object."
      ]
    },
    {
      "cell_type": "code",
      "metadata": {
        "id": "SZWhGK0jMm-9",
        "outputId": "73d3b80c-a188-4e97-e909-953d33895779",
        "colab": {
          "base_uri": "https://localhost:8080/",
          "height": 35
        }
      },
      "source": [
        "'test'.upper()"
      ],
      "execution_count": null,
      "outputs": [
        {
          "output_type": "execute_result",
          "data": {
            "application/vnd.google.colaboratory.intrinsic+json": {
              "type": "string"
            },
            "text/plain": [
              "'TEST'"
            ]
          },
          "metadata": {
            "tags": []
          },
          "execution_count": 46
        }
      ]
    },
    {
      "cell_type": "markdown",
      "metadata": {
        "id": "6k3yuONMNmxT"
      },
      "source": [
        "They have an input, they have an out, and are usually applied to a specific object. Use to manipulate "
      ]
    },
    {
      "cell_type": "markdown",
      "metadata": {
        "id": "nlx_A8fHRVmh"
      },
      "source": [
        "Upper is **BUILT IN** FUCTION also len(name) is built in"
      ]
    },
    {
      "cell_type": "code",
      "metadata": {
        "id": "aHnq4yuQRiyF",
        "outputId": "109b214f-b5fb-428d-e29f-89408ae8aef1",
        "colab": {
          "base_uri": "https://localhost:8080/",
          "height": 34
        }
      },
      "source": [
        "len(name)"
      ],
      "execution_count": null,
      "outputs": [
        {
          "output_type": "execute_result",
          "data": {
            "text/plain": [
              "16"
            ]
          },
          "metadata": {
            "tags": []
          },
          "execution_count": 50
        }
      ]
    },
    {
      "cell_type": "markdown",
      "metadata": {
        "id": "_jOo0SC9RroK"
      },
      "source": [
        "length"
      ]
    },
    {
      "cell_type": "code",
      "metadata": {
        "id": "5khLtTj3RtW_",
        "outputId": "11820b00-0b0f-499d-e736-dbc34ed42825",
        "colab": {
          "base_uri": "https://localhost:8080/",
          "height": 35
        }
      },
      "source": [
        "C = Name.replace('Maxwell', 'M.')\n",
        "\n",
        "C"
      ],
      "execution_count": null,
      "outputs": [
        {
          "output_type": "execute_result",
          "data": {
            "application/vnd.google.colaboratory.intrinsic+json": {
              "type": "string"
            },
            "text/plain": [
              "'M. Randolph'"
            ]
          },
          "metadata": {
            "tags": []
          },
          "execution_count": 53
        }
      ]
    },
    {
      "cell_type": "code",
      "metadata": {
        "id": "p0_Yk4_JSDBe"
      },
      "source": [
        "Name.find()"
      ],
      "execution_count": null,
      "outputs": []
    },
    {
      "cell_type": "markdown",
      "metadata": {
        "id": "EU0MBprPSaQC"
      },
      "source": [
        "Consider the variable G, and find the first index of the sub-string snow: \n",
        "find the number of words snow is away from the beggining\n",
        "\n",
        "\n",
        "G = \"Mary had a little lamb Little lamb, little lamb Mary had a little lamb \\ Its fleece was white as snow And everywhere that mary went Mary went, Mary \n",
        "went \\ \n",
        "Everywhere that Mary went the Lamb was sure to go\""
      ]
    },
    {
      "cell_type": "code",
      "metadata": {
        "id": "N4tDhVB30Jvw",
        "outputId": "4fa03dd6-d068-427f-dd18-1f6b7f09099b",
        "colab": {
          "base_uri": "https://localhost:8080/",
          "height": 51
        }
      },
      "source": [
        "fname = 'Maxwell'\n",
        "lname = 'Randolph'\n",
        "print(fname) \n",
        "'\\n'\n",
        "print(lname)"
      ],
      "execution_count": null,
      "outputs": [
        {
          "output_type": "stream",
          "text": [
            "Maxwell\n",
            "Randolph\n"
          ],
          "name": "stdout"
        }
      ]
    },
    {
      "cell_type": "markdown",
      "metadata": {
        "id": "bUsAbhwM_NzM"
      },
      "source": [
        "**Tuples** - list of variables - any data sets, text, etc,anything more than one valaue is a tuple.\n"
      ]
    },
    {
      "cell_type": "markdown",
      "metadata": {
        "id": "7tR7Nyr9_jiY"
      },
      "source": [
        ""
      ]
    },
    {
      "cell_type": "code",
      "metadata": {
        "id": "jdh0IHER_0Pa",
        "outputId": "565ca6e2-1992-4f0b-cfc6-ab62850755d2",
        "colab": {
          "base_uri": "https://localhost:8080/",
          "height": 34
        }
      },
      "source": [
        "tuple1 = ('disco', 10, 1.2, True)\n",
        "\n",
        "tuple1"
      ],
      "execution_count": null,
      "outputs": [
        {
          "output_type": "execute_result",
          "data": {
            "text/plain": [
              "('disco', 10, 1.2, True)"
            ]
          },
          "metadata": {
            "tags": []
          },
          "execution_count": 36
        }
      ]
    },
    {
      "cell_type": "code",
      "metadata": {
        "id": "q8SRKu-O_-Pj",
        "outputId": "f12ba5b7-08e6-4177-d423-654af493d7aa",
        "colab": {
          "base_uri": "https://localhost:8080/",
          "height": 34
        }
      },
      "source": [
        "type(tuple1)"
      ],
      "execution_count": null,
      "outputs": [
        {
          "output_type": "execute_result",
          "data": {
            "text/plain": [
              "tuple"
            ]
          },
          "metadata": {
            "tags": []
          },
          "execution_count": 37
        }
      ]
    },
    {
      "cell_type": "markdown",
      "metadata": {
        "id": "ISr5tWzmAFpa"
      },
      "source": [
        "immutable-->tuples are not immutable, but they are not mutuable\n",
        "once you define your tuple you cannot change or update it.\n",
        "\n",
        "list-->same but you can change them\n",
        "\n",
        "tuples are used when you want to create something new. global variable - unchanging\n",
        "\n",
        "when you want to solve a problem you use a list\n"
      ]
    },
    {
      "cell_type": "code",
      "metadata": {
        "id": "Oqf21KYhAxBF",
        "outputId": "bbc7f456-97a5-460f-dd4b-c4ccc1152981",
        "colab": {
          "base_uri": "https://localhost:8080/",
          "height": 35
        }
      },
      "source": [
        "tuple1[0]"
      ],
      "execution_count": null,
      "outputs": [
        {
          "output_type": "execute_result",
          "data": {
            "application/vnd.google.colaboratory.intrinsic+json": {
              "type": "string"
            },
            "text/plain": [
              "'disco'"
            ]
          },
          "metadata": {
            "tags": []
          },
          "execution_count": 39
        }
      ]
    },
    {
      "cell_type": "code",
      "metadata": {
        "id": "Kexm4fWQA9Qp",
        "outputId": "47f18a66-f97f-4eb0-bb38-10750505e964",
        "colab": {
          "base_uri": "https://localhost:8080/",
          "height": 34
        }
      },
      "source": [
        "type(tuple1[2])"
      ],
      "execution_count": null,
      "outputs": [
        {
          "output_type": "execute_result",
          "data": {
            "text/plain": [
              "float"
            ]
          },
          "metadata": {
            "tags": []
          },
          "execution_count": 43
        }
      ]
    },
    {
      "cell_type": "code",
      "metadata": {
        "id": "VaI_BM7KBXB6",
        "outputId": "36da9084-5dc5-4103-d378-0c0cae404f05",
        "colab": {
          "base_uri": "https://localhost:8080/",
          "height": 34
        }
      },
      "source": [
        "tuple2 = tuple1 + ('hard rock', 10)\n",
        "tuple2"
      ],
      "execution_count": null,
      "outputs": [
        {
          "output_type": "execute_result",
          "data": {
            "text/plain": [
              "('disco', 10, 1.2, True, 'hard rock', 10)"
            ]
          },
          "metadata": {
            "tags": []
          },
          "execution_count": 46
        }
      ]
    },
    {
      "cell_type": "code",
      "metadata": {
        "id": "zwX66g-2BtKm",
        "outputId": "58bc9bd2-0362-494d-e73f-47b60d3df3b0",
        "colab": {
          "base_uri": "https://localhost:8080/",
          "height": 34
        }
      },
      "source": [
        "tuple2[0:3]"
      ],
      "execution_count": null,
      "outputs": [
        {
          "output_type": "execute_result",
          "data": {
            "text/plain": [
              "('disco', 10, 1.2)"
            ]
          },
          "metadata": {
            "tags": []
          },
          "execution_count": 47
        }
      ]
    },
    {
      "cell_type": "markdown",
      "metadata": {
        "id": "weVUQwTZBy7j"
      },
      "source": [
        "STRIDE^^^"
      ]
    },
    {
      "cell_type": "code",
      "metadata": {
        "id": "cXvkKMX9B5RB"
      },
      "source": [
        "test1 = (1,2,3,4,5,6,3,2)"
      ],
      "execution_count": null,
      "outputs": []
    },
    {
      "cell_type": "code",
      "metadata": {
        "id": "1ptnL0wsB-mc",
        "outputId": "ace4e732-a857-4e85-99d7-2adf5c8a9e05",
        "colab": {
          "base_uri": "https://localhost:8080/",
          "height": 34
        }
      },
      "source": [
        "test2 = sorted(test1)\n",
        "\n",
        "test2"
      ],
      "execution_count": null,
      "outputs": [
        {
          "output_type": "execute_result",
          "data": {
            "text/plain": [
              "[1, 2, 2, 3, 3, 4, 5, 6]"
            ]
          },
          "metadata": {
            "tags": []
          },
          "execution_count": 50
        }
      ]
    },
    {
      "cell_type": "markdown",
      "metadata": {
        "id": "YzfdfhCzCMhO"
      },
      "source": [
        "SORTING^^^"
      ]
    },
    {
      "cell_type": "markdown",
      "metadata": {
        "id": "RsWVNOkrCU4u"
      },
      "source": [
        "Nested Tuple - tuple within a tuple"
      ]
    },
    {
      "cell_type": "code",
      "metadata": {
        "id": "Au1cs_PzCbQY",
        "outputId": "97244c6b-6137-4085-c5c0-aeeb02cdc223",
        "colab": {
          "base_uri": "https://localhost:8080/",
          "height": 34
        }
      },
      "source": [
        "NestedT =(1, 2, (\"pop\", \"rock\") ,(3,4),(\"disco\",(1,2)))\n",
        "\n",
        "NestedT"
      ],
      "execution_count": null,
      "outputs": [
        {
          "output_type": "execute_result",
          "data": {
            "text/plain": [
              "(1, 2, ('pop', 'rock'), (3, 4), ('disco', (1, 2)))"
            ]
          },
          "metadata": {
            "tags": []
          },
          "execution_count": 55
        }
      ]
    },
    {
      "cell_type": "code",
      "metadata": {
        "id": "7uGKoS5BDq1S",
        "outputId": "37e1b8b9-fa24-43b4-d10f-c539d3b4060a",
        "colab": {
          "base_uri": "https://localhost:8080/",
          "height": 34
        }
      },
      "source": [
        "T = NestedT[2]\n",
        "\n",
        "T"
      ],
      "execution_count": null,
      "outputs": [
        {
          "output_type": "execute_result",
          "data": {
            "text/plain": [
              "('pop', 'rock')"
            ]
          },
          "metadata": {
            "tags": []
          },
          "execution_count": 61
        }
      ]
    },
    {
      "cell_type": "code",
      "metadata": {
        "id": "Yfk-nNiLD64N",
        "outputId": "676eb698-6921-4132-d754-41ef5e377ec6",
        "colab": {
          "base_uri": "https://localhost:8080/",
          "height": 34
        }
      },
      "source": [
        "type(T)"
      ],
      "execution_count": null,
      "outputs": [
        {
          "output_type": "execute_result",
          "data": {
            "text/plain": [
              "tuple"
            ]
          },
          "metadata": {
            "tags": []
          },
          "execution_count": 59
        }
      ]
    },
    {
      "cell_type": "code",
      "metadata": {
        "id": "Y1b1sC-xEPYa",
        "outputId": "f5e76685-5a95-4d08-a8d1-9da617c31abb",
        "colab": {
          "base_uri": "https://localhost:8080/",
          "height": 34
        }
      },
      "source": [
        "T2 = NestedT[4][1][0]\n",
        "\n",
        "T2"
      ],
      "execution_count": null,
      "outputs": [
        {
          "output_type": "execute_result",
          "data": {
            "text/plain": [
              "1"
            ]
          },
          "metadata": {
            "tags": []
          },
          "execution_count": 82
        }
      ]
    },
    {
      "cell_type": "markdown",
      "metadata": {
        "id": "4XNrrLNaKn2z"
      },
      "source": [
        "think about them as little things within eachother"
      ]
    },
    {
      "cell_type": "code",
      "metadata": {
        "id": "iBZoacK-K-zp",
        "outputId": "60c57621-0ae9-48ab-bfe3-090c3473ca4d",
        "colab": {
          "base_uri": "https://localhost:8080/",
          "height": 35
        }
      },
      "source": [
        "T3 = NestedT[2][1][2]\n",
        "\n",
        "T3"
      ],
      "execution_count": null,
      "outputs": [
        {
          "output_type": "execute_result",
          "data": {
            "application/vnd.google.colaboratory.intrinsic+json": {
              "type": "string"
            },
            "text/plain": [
              "'c'"
            ]
          },
          "metadata": {
            "tags": []
          },
          "execution_count": 129
        }
      ]
    },
    {
      "cell_type": "markdown",
      "metadata": {
        "id": "DvJb7DhQLR0z"
      },
      "source": [
        "**(((List)))** - you can change and update a list, that is the difference between them and tuples. you can update a list, which is parenthesis\n",
        "\n",
        "**[[[Tuplet]]]**--we are using [brackets] instead of parenthasis\n",
        "you cannot update a tuple,"
      ]
    },
    {
      "cell_type": "code",
      "metadata": {
        "id": "y_d6CR3Ogt06",
        "outputId": "8a1136e2-ae0b-432d-b1a6-5890ab101687",
        "colab": {
          "base_uri": "https://localhost:8080/",
          "height": 198
        }
      },
      "source": [
        "F = 2 + 'MAXIMO'\n",
        "\n",
        "F"
      ],
      "execution_count": null,
      "outputs": [
        {
          "output_type": "error",
          "ename": "TypeError",
          "evalue": "ignored",
          "traceback": [
            "\u001b[0;31m---------------------------------------------------------------------------\u001b[0m",
            "\u001b[0;31mTypeError\u001b[0m                                 Traceback (most recent call last)",
            "\u001b[0;32m<ipython-input-98-49ca2de0fefe>\u001b[0m in \u001b[0;36m<module>\u001b[0;34m()\u001b[0m\n\u001b[0;32m----> 1\u001b[0;31m \u001b[0mF\u001b[0m \u001b[0;34m=\u001b[0m \u001b[0;36m2\u001b[0m \u001b[0;34m+\u001b[0m \u001b[0;34m'MAXIMO'\u001b[0m\u001b[0;34m\u001b[0m\u001b[0;34m\u001b[0m\u001b[0m\n\u001b[0m\u001b[1;32m      2\u001b[0m \u001b[0;34m\u001b[0m\u001b[0m\n\u001b[1;32m      3\u001b[0m \u001b[0mF\u001b[0m\u001b[0;34m\u001b[0m\u001b[0;34m\u001b[0m\u001b[0m\n",
            "\u001b[0;31mTypeError\u001b[0m: unsupported operand type(s) for +: 'int' and 'str'"
          ]
        }
      ]
    },
    {
      "cell_type": "code",
      "metadata": {
        "id": "XTsWbvA9gylR",
        "outputId": "b9e30241-74bf-472f-fd5e-630332857b89",
        "colab": {
          "base_uri": "https://localhost:8080/",
          "height": 35
        }
      },
      "source": [
        "T = 2 * ((fname)+(lname))\n",
        "T"
      ],
      "execution_count": null,
      "outputs": [
        {
          "output_type": "execute_result",
          "data": {
            "application/vnd.google.colaboratory.intrinsic+json": {
              "type": "string"
            },
            "text/plain": [
              "'MaxwellRandolphMaxwellRandolph'"
            ]
          },
          "metadata": {
            "tags": []
          },
          "execution_count": 91
        }
      ]
    },
    {
      "cell_type": "markdown",
      "metadata": {
        "id": "_a1OpGShjo0-"
      },
      "source": [
        "Its a good ideas to come up with conditional statements that can tell you what you are doing is correct and incorrect\n",
        "conditions to test if certain statements are correct"
      ]
    },
    {
      "cell_type": "code",
      "metadata": {
        "id": "lw9z2ZEmkBaV",
        "outputId": "07c4d1bd-5356-497c-baaf-9963f0beed79",
        "colab": {
          "base_uri": "https://localhost:8080/",
          "height": 34
        }
      },
      "source": [
        "L =['Maximo', 1, 2, [1,2]]\n",
        "\n",
        "type(L)"
      ],
      "execution_count": null,
      "outputs": [
        {
          "output_type": "execute_result",
          "data": {
            "text/plain": [
              "list"
            ]
          },
          "metadata": {
            "tags": []
          },
          "execution_count": 111
        }
      ]
    },
    {
      "cell_type": "markdown",
      "metadata": {
        "id": "lfYTHhHGkdIL"
      },
      "source": [
        "list - you can change and update lists"
      ]
    },
    {
      "cell_type": "code",
      "metadata": {
        "id": "SpcXQrtakhdk",
        "outputId": "96b45278-ca5c-4e3b-bd92-07ccef249fa2",
        "colab": {
          "base_uri": "https://localhost:8080/",
          "height": 34
        }
      },
      "source": [
        "L.extend(['test223', 12])\n",
        "\n",
        "L"
      ],
      "execution_count": null,
      "outputs": [
        {
          "output_type": "execute_result",
          "data": {
            "text/plain": [
              "['Maximo', 1, 2, [1, 2], 'test223', 12]"
            ]
          },
          "metadata": {
            "tags": []
          },
          "execution_count": 112
        }
      ]
    },
    {
      "cell_type": "markdown",
      "metadata": {
        "id": "0pLjUPf5krf2"
      },
      "source": [
        ".extend is a method"
      ]
    },
    {
      "cell_type": "code",
      "metadata": {
        "id": "MmuqrLtJk2eq",
        "outputId": "da5be91f-675b-4b6a-b0c0-027a1a93f9e6",
        "colab": {
          "base_uri": "https://localhost:8080/",
          "height": 34
        }
      },
      "source": [
        "L =['Maximo', 1, 2, [1,2]]\n",
        "\n",
        "L.append(['test223' ,12])\n",
        "\n",
        "L"
      ],
      "execution_count": null,
      "outputs": [
        {
          "output_type": "execute_result",
          "data": {
            "text/plain": [
              "['Maximo', 1, 2, [1, 2], ['test223', 12]]"
            ]
          },
          "metadata": {
            "tags": []
          },
          "execution_count": 114
        }
      ]
    },
    {
      "cell_type": "markdown",
      "metadata": {
        "id": "TSE8pNJ9pm6l"
      },
      "source": [
        "append - conisders list as one element and adds to it\n",
        "extend - actually added data elements - adds one element by one element"
      ]
    },
    {
      "cell_type": "code",
      "metadata": {
        "id": "v7mXfLPcqGBn",
        "outputId": "b8f49002-756d-49ec-cfcc-a2163687dcaa",
        "colab": {
          "base_uri": "https://localhost:8080/",
          "height": 34
        }
      },
      "source": [
        "['Maximo', 1, 2, [1, 2], ['test223', 12]]"
      ],
      "execution_count": null,
      "outputs": [
        {
          "output_type": "execute_result",
          "data": {
            "text/plain": [
              "['Maximo', 1, 2, [1, 2], ['test223', 12]]"
            ]
          },
          "metadata": {
            "tags": []
          },
          "execution_count": 115
        }
      ]
    },
    {
      "cell_type": "code",
      "metadata": {
        "id": "DgkfmGFVp-_Z"
      },
      "source": [
        "del(L[0])"
      ],
      "execution_count": null,
      "outputs": []
    },
    {
      "cell_type": "code",
      "metadata": {
        "id": "i6MOsWegqQ6l",
        "outputId": "1321d1aa-cf79-4174-ed21-6a2e1496fcae",
        "colab": {
          "base_uri": "https://localhost:8080/",
          "height": 34
        }
      },
      "source": [
        "L"
      ],
      "execution_count": null,
      "outputs": [
        {
          "output_type": "execute_result",
          "data": {
            "text/plain": [
              "[2, [1, 2], ['test223', 12]]"
            ]
          },
          "metadata": {
            "tags": []
          },
          "execution_count": 118
        }
      ]
    },
    {
      "cell_type": "code",
      "metadata": {
        "id": "X3o6TkQjqVx2",
        "outputId": "766528c9-74f2-46d2-8142-abd31d8f0b81",
        "colab": {
          "base_uri": "https://localhost:8080/",
          "height": 34
        }
      },
      "source": [
        "('A:B,C:D'.split(':'))"
      ],
      "execution_count": null,
      "outputs": [
        {
          "output_type": "execute_result",
          "data": {
            "text/plain": [
              "['A', 'B,C', 'D']"
            ]
          },
          "metadata": {
            "tags": []
          },
          "execution_count": 130
        }
      ]
    },
    {
      "cell_type": "markdown",
      "metadata": {
        "id": "NjAL-v8eqfYS"
      },
      "source": [
        "method applied on strings"
      ]
    },
    {
      "cell_type": "code",
      "metadata": {
        "id": "FaK51YaGqE3D"
      },
      "source": [
        ""
      ],
      "execution_count": null,
      "outputs": []
    },
    {
      "cell_type": "markdown",
      "metadata": {
        "id": "5GeH4ySssdtU"
      },
      "source": [
        "copy and clone list -"
      ]
    },
    {
      "cell_type": "code",
      "metadata": {
        "id": "ofaBbFgNsk7U",
        "outputId": "c88fc2aa-c99f-4f28-e955-ecb9e721fb0b",
        "colab": {
          "base_uri": "https://localhost:8080/",
          "height": 51
        }
      },
      "source": [
        "A = ['hard rock', 10, 1.2]\n",
        "B = A \n",
        "print('A:' , B)\n",
        "print('B:', B)"
      ],
      "execution_count": null,
      "outputs": [
        {
          "output_type": "stream",
          "text": [
            "A: ['hard rock', 10, 1.2]\n",
            "B: ['hard rock', 10, 1.2]\n"
          ],
          "name": "stdout"
        }
      ]
    },
    {
      "cell_type": "code",
      "metadata": {
        "id": "kBW-gMPWtGK-",
        "outputId": "c504b5e1-d2a4-46f8-be50-6efe2bb6bc86",
        "colab": {
          "base_uri": "https://localhost:8080/",
          "height": 34
        }
      },
      "source": [
        "print(B[0])"
      ],
      "execution_count": null,
      "outputs": [
        {
          "output_type": "stream",
          "text": [
            "hard rock\n"
          ],
          "name": "stdout"
        }
      ]
    },
    {
      "cell_type": "code",
      "metadata": {
        "id": "iID_mZTKtPQ0"
      },
      "source": [
        "A[0] = 'test'"
      ],
      "execution_count": null,
      "outputs": []
    },
    {
      "cell_type": "code",
      "metadata": {
        "id": "vwhqKqYctbdr",
        "outputId": "a9ef2e09-6d81-4080-d67d-83146a1bc4c8",
        "colab": {
          "base_uri": "https://localhost:8080/",
          "height": 34
        }
      },
      "source": [
        "print('A:' , B)"
      ],
      "execution_count": null,
      "outputs": [
        {
          "output_type": "stream",
          "text": [
            "A: ['test', 10, 1.2]\n"
          ],
          "name": "stdout"
        }
      ]
    },
    {
      "cell_type": "code",
      "metadata": {
        "id": "DCDdq9GTtzpi",
        "outputId": "e689a8ae-11cb-4c1c-d1af-357148d25f9e",
        "colab": {
          "base_uri": "https://localhost:8080/",
          "height": 34
        }
      },
      "source": [
        "print(B[0])"
      ],
      "execution_count": null,
      "outputs": [
        {
          "output_type": "stream",
          "text": [
            "test\n"
          ],
          "name": "stdout"
        }
      ]
    },
    {
      "cell_type": "markdown",
      "metadata": {
        "id": "Pvp1eP69viwe"
      },
      "source": [
        "MEANING***Variables that we define to a list are simply names references that can be changed"
      ]
    },
    {
      "cell_type": "code",
      "metadata": {
        "id": "ZmIMC1R2xSMQ",
        "outputId": "7d3c82bd-a08c-4120-93d7-6d44e5a28121",
        "colab": {
          "base_uri": "https://localhost:8080/",
          "height": 34
        }
      },
      "source": [
        "#clone a list(Now there are two of these Bs that are the same, one is called A[:]\n",
        "\n",
        "B = A[:]\n",
        "\n",
        "B"
      ],
      "execution_count": null,
      "outputs": [
        {
          "output_type": "execute_result",
          "data": {
            "text/plain": [
              "['hard rock', 10, 1.2]"
            ]
          },
          "metadata": {
            "tags": []
          },
          "execution_count": 140
        }
      ]
    },
    {
      "cell_type": "code",
      "metadata": {
        "id": "ShEKJlvwxhr4",
        "outputId": "d4f67e1b-ec68-4291-df56-e95ddcd51e26",
        "colab": {
          "base_uri": "https://localhost:8080/",
          "height": 34
        }
      },
      "source": [
        "A[0] = 'jazz'\n",
        "\n",
        "A"
      ],
      "execution_count": null,
      "outputs": [
        {
          "output_type": "execute_result",
          "data": {
            "text/plain": [
              "['jazz', 10, 1.2]"
            ]
          },
          "metadata": {
            "tags": []
          },
          "execution_count": 145
        }
      ]
    },
    {
      "cell_type": "code",
      "metadata": {
        "id": "uvB67Ip9xs3c",
        "outputId": "7bb2bbe0-d25c-49ea-cfda-f2efda57a092",
        "colab": {
          "base_uri": "https://localhost:8080/",
          "height": 34
        }
      },
      "source": [
        "B"
      ],
      "execution_count": null,
      "outputs": [
        {
          "output_type": "execute_result",
          "data": {
            "text/plain": [
              "['hard rock', 10, 1.2]"
            ]
          },
          "metadata": {
            "tags": []
          },
          "execution_count": 146
        }
      ]
    },
    {
      "cell_type": "markdown",
      "metadata": {
        "id": "cbfJKsvDyovr"
      },
      "source": [
        "lists - mutable - you can change them"
      ]
    },
    {
      "cell_type": "markdown",
      "metadata": {
        "id": "CV974GgXzs63"
      },
      "source": [
        "Dictionaries - keys & values - they are not sorted generally. it is printed in an order, but there are no automatic sorting or order. everything is sequenced, but nothing is ordered\n",
        "\n",
        "key - like an address or relational table\n",
        "keys are like columns in excel - underneath the column is the value\n",
        "\n",
        "Keys--> attributes & values we have - like a graph -relational data base - means we have keys that relate to different date point"
      ]
    },
    {
      "cell_type": "code",
      "metadata": {
        "id": "0VEoAmVW0s6f",
        "outputId": "2b750c77-91b8-4d13-dc28-4874bd7be3cd",
        "colab": {
          "base_uri": "https://localhost:8080/",
          "height": 119
        }
      },
      "source": [
        "Dict = {\"key1\": 1, \"key2\": \"2\", \"key3\": [3, 3, 3], \"key4\": (4, 4, 4), ('key5'): 5, (0, 1): 6}\n",
        "\n",
        "Dict\n"
      ],
      "execution_count": null,
      "outputs": [
        {
          "output_type": "execute_result",
          "data": {
            "text/plain": [
              "{(0, 1): 6,\n",
              " 'key1': 1,\n",
              " 'key2': '2',\n",
              " 'key3': [3, 3, 3],\n",
              " 'key4': (4, 4, 4),\n",
              " 'key5': 5}"
            ]
          },
          "metadata": {
            "tags": []
          },
          "execution_count": 151
        }
      ]
    },
    {
      "cell_type": "markdown",
      "metadata": {
        "id": "LIWxotbN5zZu"
      },
      "source": [
        "Next: Logical operation and examples of (and or)\n",
        "sets\n",
        "for \n",
        "why\n",
        "if"
      ]
    }
  ]
}