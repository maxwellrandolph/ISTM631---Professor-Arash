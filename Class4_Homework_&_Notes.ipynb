{
  "nbformat": 4,
  "nbformat_minor": 0,
  "metadata": {
    "colab": {
      "name": "Class4 - Homework & Notes.ipynb",
      "provenance": [],
      "authorship_tag": "ABX9TyNabiofYly6Vdj/ENhraDTb",
      "include_colab_link": true
    },
    "kernelspec": {
      "name": "python3",
      "display_name": "Python 3"
    }
  },
  "cells": [
    {
      "cell_type": "markdown",
      "metadata": {
        "id": "view-in-github",
        "colab_type": "text"
      },
      "source": [
        "<a href=\"https://colab.research.google.com/github/maxwellrandolph/ISTM631---Professor-Arash/blob/master/Class4_Homework_%26_Notes.ipynb\" target=\"_parent\"><img src=\"https://colab.research.google.com/assets/colab-badge.svg\" alt=\"Open In Colab\"/></a>"
      ]
    },
    {
      "cell_type": "markdown",
      "metadata": {
        "id": "QXGC2tZkLMJv",
        "colab_type": "text"
      },
      "source": [
        "### **Loops, Breaks, Objects & classes, Donald trump tweets**"
      ]
    },
    {
      "cell_type": "markdown",
      "metadata": {
        "id": "8M3JrNu1qL-2",
        "colab_type": "text"
      },
      "source": [
        "# **Homework - Question 1.** \n",
        "Why would we need empty loop?\n",
        "\n",
        "Answer: First instinct is to say we wouldn't. What would be the point of a loop did nothing but loop and end? I could see use of a loop that returns a value if nothing is found in the loop, such as referencing a variable outside the loop if a condition is met, but then this wouldn't be an empty loop. The purpose of a loop is to scan a string for the first occurance of the character. So a string that has no characters, would not have purpose other showing an infinite loop. An empty loop could be used to manually force the loop to stop(CNTR-C).\n",
        "Google noted that a character, such as '=' should left in the loop to notify to others that is has intentionally been left blank. \n"
      ]
    },
    {
      "cell_type": "markdown",
      "metadata": {
        "id": "TQ39PxAhqV4w",
        "colab_type": "text"
      },
      "source": [
        "# **Homework - Question 2.** \n",
        "\n",
        "Write paragraph on While loops.\n",
        "\n",
        "*Answer:* While loops can be used to describe conditional iteration. They perform a certain task continuosly until a certain condition, precisely defined by the coder, is met. A while statement consists of a test condition(true or false), body of loop(test condition is tested continuiosly until condition is false), a count(# of time the loop occurs), and many other items based on the functionality of the loop. The while loop can bee thought of as a repeating if statement.\n"
      ]
    },
    {
      "cell_type": "markdown",
      "metadata": {
        "id": "kLwBqZ2CqYhR",
        "colab_type": "text"
      },
      "source": [
        "# **Homework - Question 3.** \n",
        "\n",
        "Visual Analytics\n",
        "---take a look at plots - Write a paragraphs that says what would give a better representations of the plot or give additional knowledge that can be used to our advantage on the plots.\n",
        "*Answer*: I would like to know what words are correlated with the 'Number of tweets by hour', specifically what the trend is in the hours from hours 19-22. It might also be interesting to see what the trend of frequently used wording in these tweets and communication with other countries governement agencies. Our current president does not hold his toung, but I think it would be telling to see his underlying emotions through word use & count after speaking with other countries. We could compare the timing of the tweets with different locations among the world to predict emotional preference for that location, and compare those results to what he claims his preference to be.\n",
        "\n",
        "In terms of visualizations, I would really like to see some data put next to a chart with actual time as the x axis. Retweets, highest word count or generalized concepts (Ex:mad/upset/disgruntled - all in one category), who was tagged/referenced could be the y axis. This would be beneficial because we could look at correlations in Trump's tweets and world events. We could compare his reactions to different world events and see if they had any correlation with events thereafter."
      ]
    },
    {
      "cell_type": "markdown",
      "metadata": {
        "id": "3RW2CSnXML1A",
        "colab_type": "text"
      },
      "source": [
        "Loop: repetative action to do//\n",
        "While - while statement is being met//\n",
        "For - you get to the answer sooner than expected and need to get out of loop. In this case you use a break\n"
      ]
    },
    {
      "cell_type": "code",
      "metadata": {
        "id": "whaplqbuMmqx",
        "colab_type": "code",
        "colab": {
          "base_uri": "https://localhost:8080/",
          "height": 272
        },
        "outputId": "9dfd42cc-0ea8-4a0c-f837-d8cc45d2ad37"
      },
      "source": [
        "for letter in 'Maxwell Randolph':\n",
        "  if letter == \"M\":\n",
        "    continue\n",
        "  print('current letter: ', letter)"
      ],
      "execution_count": 8,
      "outputs": [
        {
          "output_type": "stream",
          "text": [
            "current letter:  a\n",
            "current letter:  x\n",
            "current letter:  w\n",
            "current letter:  e\n",
            "current letter:  l\n",
            "current letter:  l\n",
            "current letter:   \n",
            "current letter:  R\n",
            "current letter:  a\n",
            "current letter:  n\n",
            "current letter:  d\n",
            "current letter:  o\n",
            "current letter:  l\n",
            "current letter:  p\n",
            "current letter:  h\n"
          ],
          "name": "stdout"
        }
      ]
    },
    {
      "cell_type": "code",
      "metadata": {
        "id": "uVO0m3euNL2x",
        "colab_type": "code",
        "colab": {
          "base_uri": "https://localhost:8080/",
          "height": 34
        },
        "outputId": "9df2e0e0-dccb-465a-b4ea-8484a2594db1"
      },
      "source": [
        "for letter in 'Python':\n",
        "    pass\n",
        "print('last letter: ',letter)"
      ],
      "execution_count": 10,
      "outputs": [
        {
          "output_type": "stream",
          "text": [
            "last letter:  n\n"
          ],
          "name": "stdout"
        }
      ]
    },
    {
      "cell_type": "markdown",
      "metadata": {
        "id": "V0XmIvmsNnsp",
        "colab_type": "text"
      },
      "source": [
        "Homework: Why would we need empty loop?"
      ]
    },
    {
      "cell_type": "code",
      "metadata": {
        "id": "Bh4t55nYNsbd",
        "colab_type": "code",
        "colab": {
          "base_uri": "https://localhost:8080/",
          "height": 51
        },
        "outputId": "f146c11f-7f88-4c76-db19-6035b79e93b4"
      },
      "source": [
        "for letter in 'Python':\n",
        "  if letter == 't':\n",
        "    break\n",
        "  print('last letter: ',letter)"
      ],
      "execution_count": 15,
      "outputs": [
        {
          "output_type": "stream",
          "text": [
            "last letter:  P\n",
            "last letter:  y\n"
          ],
          "name": "stdout"
        }
      ]
    },
    {
      "cell_type": "markdown",
      "metadata": {
        "id": "wwB5Ac2KN3y1",
        "colab_type": "text"
      },
      "source": [
        "## QUIZ next week: write a couple of codes: What would these be?***Put these "
      ]
    },
    {
      "cell_type": "markdown",
      "metadata": {
        "id": "ClwoJTWMOMxs",
        "colab_type": "text"
      },
      "source": [
        ""
      ]
    },
    {
      "cell_type": "code",
      "metadata": {
        "id": "OaInTk8iOXgA",
        "colab_type": "code",
        "colab": {
          "base_uri": "https://localhost:8080/",
          "height": 119
        },
        "outputId": "98bcf41e-2d57-40c5-c4a5-49a2ceba1700"
      },
      "source": [
        "while True:\n",
        "  userInput = input(\"I am listening: \")\n",
        "\n",
        "  if userInput == 'Hello':\n",
        "    print('Hello to you too')\n",
        "\n",
        "  elif userInput == 'how are you:':\n",
        "    print('fine')\n",
        "\n",
        "  elif userInput == 'buy':\n",
        "    print('buy')\n",
        "    break\n",
        "\n",
        "  else:\n",
        "    print('try again')\n"
      ],
      "execution_count": 16,
      "outputs": [
        {
          "output_type": "stream",
          "text": [
            "I am listening: Hey\n",
            "try again\n",
            "I am listening: Hello\n",
            "Hello to you too\n",
            "I am listening: buy\n",
            "buy\n"
          ],
          "name": "stdout"
        }
      ]
    },
    {
      "cell_type": "code",
      "metadata": {
        "id": "FH4PNhM5QAS0",
        "colab_type": "code",
        "colab": {
          "base_uri": "https://localhost:8080/",
          "height": 68
        },
        "outputId": "c212d4af-d150-461a-df93-7da6e726fd78"
      },
      "source": [
        "a = 0\n",
        "b = 2\n",
        "\n",
        "while a < 5:\n",
        "  a += 1\n",
        "  b -= 1\n",
        "\n",
        "  try:\n",
        "    a/b\n",
        "  except:\n",
        "    print('exception encountered: a = {0}, b = {1}'.format(a,b))\n",
        "    break\n",
        "  finally:\n",
        "    print('test test: a - {0}')"
      ],
      "execution_count": 17,
      "outputs": [
        {
          "output_type": "stream",
          "text": [
            "test test: a - {0}\n",
            "exception encountered: a = 2, b = 0\n",
            "test test: a - {0}\n"
          ],
          "name": "stdout"
        }
      ]
    },
    {
      "cell_type": "markdown",
      "metadata": {
        "id": "TT3biNRSRWRC",
        "colab_type": "text"
      },
      "source": [
        "write paragraph \n",
        "While loops\n",
        "as long as condition is met\n",
        "first defines variable - it can be whatever\n",
        "issue would be when b is 0 - when that happens do the except\n",
        "format looks at number you have in braces and gets the first one then the next\n",
        "last\n",
        "\n",
        "define variable and then use it as l;ogical condition to test logical condition from then on use dictionary format in text you want to be printed similar to diction ayou can rearrange something out of the dictionary to do something else other thsn in dictionsry\n",
        "at break: it"
      ]
    },
    {
      "cell_type": "markdown",
      "metadata": {
        "id": "f2SNekRrSVJe",
        "colab_type": "text"
      },
      "source": [
        "now till end of class - not sure if we will be quized but important to understand python"
      ]
    },
    {
      "cell_type": "markdown",
      "metadata": {
        "id": "rwWCSwOdSeuI",
        "colab_type": "text"
      },
      "source": [
        "objeects in programming - 2 pens( 2 objetcs) they are different but belong to class pen. \n",
        "Define class pen. Start with defining the class, then create an instance from a class, and that would be your object. \n",
        "instentiate - taking a real mug and taking a picture of it. It is a representation of it. you want to have this in the program. That is your object\n",
        "\n",
        "It's good to learn more about classes and objects. This gives you a better headway in python. \n",
        "\n",
        "Ex 2: classes - circles and rectangles - to represent a circle or rectangle.\n",
        "class of circles - radius and color will define properties\n",
        " - properties for object - these properties are called attributes or objects' attributes\n",
        "\n",
        "class of rectangle - length width and color will define object attributes\n",
        "\n",
        " You can have different instances of a specific class - different colors, different radiuses, etc.\n",
        "\n",
        " method - it changes object and can be aplied to an object from specific class\n",
        "\n",
        " -belongs to specific class\n",
        "\n",
        " methods: give you a way to change or interact with objects\n",
        "**\n",
        " ***add_radius(r)*** Method\n",
        " "
      ]
    },
    {
      "cell_type": "code",
      "metadata": {
        "id": "KuteCTKNVCm1",
        "colab_type": "code",
        "colab": {}
      },
      "source": [
        "import matplotlib.pyplot as plt #gives you capability to write in function\n",
        "%matplotlib inline"
      ],
      "execution_count": 18,
      "outputs": []
    },
    {
      "cell_type": "markdown",
      "metadata": {
        "id": "i9pX8kCjVdN_",
        "colab_type": "text"
      },
      "source": [
        "methods are considered as part of the object word, being circle(add_radius)\n"
      ]
    },
    {
      "cell_type": "code",
      "metadata": {
        "id": "dUjcvS3sVmjP",
        "colab_type": "code",
        "colab": {}
      },
      "source": [
        "class Circle(object):\n",
        "\n",
        "  def__init__(self, radius = 3, color = blue'):\n",
        "    self.radius = radius\n",
        "    self.color = colors\n",
        "\n",
        "  #methods\n",
        "  def add_radius(self,r):\n",
        "    self.radius = self.radius + raisereturn(self)"
      ],
      "execution_count": null,
      "outputs": []
    },
    {
      "cell_type": "markdown",
      "metadata": {
        "id": "5z87K3R_WN-S",
        "colab_type": "text"
      },
      "source": [
        "defined a class of objects called circles - each part is called initialization part- you need to initialize your project - you tell python this class, (circle) and each product that has attributes(radius & color).  These 2 refer to self which are object - *Self* refers to object you are defining - you have radius and color - you have default values for color and radius - python will use these when user cannot or does not.\n",
        "Then similar to function, define *methods* - functions that are only applied on specific objects defined in this class\n",
        "\n",
        "whats difference between function and method****QUIZ\n",
        "\n",
        "Output needs to extentiate a sample from your class - red circle with radius of 3 from class of circle we just created\n",
        "\n",
        "A class has objects in. you want to find certain radius or color. \n",
        "\n",
        "class is a mammal\n",
        "you are god\n",
        "out of mammal you can make x\n",
        "-baseline of mammal and creating \n",
        "\n",
        "Class: Pen - something you use to write\n",
        "\n",
        "specific pen - color of pen, length of pen\n",
        "\n",
        "*attributes* - this is how it is different from all other pens in the word.What you need to make circles distinguashable is the attributes(radius and circle)\n",
        "\n",
        "attributes differentiate the circles - all of them that have the same class attributes are in the same class, but they can be uniqly identified by those attributes\n",
        "\n",
        "define over general classes first, then define further through attributes\n",
        "\n",
        "dir(redcircle) - list of different methods that can be used in different solutions\n",
        "\n",
        "redcircle.color\n",
        "redcircle.drawCircle()\n",
        "redcircle.radius = 4\n",
        "redcircle.drawcircle\n"
      ]
    },
    {
      "cell_type": "markdown",
      "metadata": {
        "id": "VVrPiWrSlmpg",
        "colab_type": "text"
      },
      "source": [
        "Methods:\n",
        "\n",
        "Methods give you a way to change or interact with the object; they are functions that interact with objects. For example, let’s say we would like to increase the radius by a specified amount of a circle. We can create a method called *add_radius(r)* that increases the radius by r. where after applying the method to the \"orange circle object\", the radius of the object increases accordingly.\n",
        "\n",
        "instantiate an instance from a class, and that would be your object!\n",
        "\n",
        "Attributes\n"
      ]
    },
    {
      "cell_type": "markdown",
      "metadata": {
        "id": "cyCyja2ZldHi",
        "colab_type": "text"
      },
      "source": [
        "<img src=\"https://s3-api.us-geo.objectstorage.softlayer.net/cf-courses-data/CognitiveClass/PY0101EN/Chapter%203/Images/ClassesClass.png\" width=\"500\" />"
      ]
    },
    {
      "cell_type": "markdown",
      "metadata": {
        "id": "_BqR_ZhvliM4",
        "colab_type": "text"
      },
      "source": [
        "<img src=\"https://s3-api.us-geo.objectstorage.softlayer.net/cf-courses-data/CognitiveClass/PY0101EN/Chapter%203/Images/ClassesObj.png\" width=\"500\" />"
      ]
    },
    {
      "cell_type": "code",
      "metadata": {
        "id": "CuX6Igo7nwA7",
        "colab_type": "code",
        "colab": {}
      },
      "source": [
        "class Circle(object):\n",
        "\n",
        "\n",
        "  def __init__(self, radius = 3, color = 'blue'):\n",
        "    self.radius = radius\n",
        "    self.color = color\n",
        "\n",
        "  #Method\n",
        "  def add_radius(self,r):\n",
        "    self.radius = self.radius + r\n",
        "    return(self.radius)\n",
        "\n",
        "  def drawCircle(self):\n",
        "    plt.gca().add_patch(plt.Circle((0, 0), radius=self.radius, fc=self.color))\n",
        "    plt.axis('scaled')\n",
        "    plt.show() "
      ],
      "execution_count": 45,
      "outputs": []
    },
    {
      "cell_type": "code",
      "metadata": {
        "id": "gsi9rzCRn6ek",
        "colab_type": "code",
        "colab": {}
      },
      "source": [
        "sophcircle = Circle(radius=5, color= 'yellow')"
      ],
      "execution_count": 48,
      "outputs": []
    },
    {
      "cell_type": "code",
      "metadata": {
        "id": "J85hqIf6oPOT",
        "colab_type": "code",
        "colab": {
          "base_uri": "https://localhost:8080/",
          "height": 527
        },
        "outputId": "45e6146e-d29e-47d4-c065-999f7557fc3f"
      },
      "source": [
        "dir(sophcircle)"
      ],
      "execution_count": 29,
      "outputs": [
        {
          "output_type": "execute_result",
          "data": {
            "text/plain": [
              "['__class__',\n",
              " '__delattr__',\n",
              " '__dict__',\n",
              " '__dir__',\n",
              " '__doc__',\n",
              " '__eq__',\n",
              " '__format__',\n",
              " '__ge__',\n",
              " '__getattribute__',\n",
              " '__gt__',\n",
              " '__hash__',\n",
              " '__init__',\n",
              " '__init_subclass__',\n",
              " '__le__',\n",
              " '__lt__',\n",
              " '__module__',\n",
              " '__ne__',\n",
              " '__new__',\n",
              " '__reduce__',\n",
              " '__reduce_ex__',\n",
              " '__repr__',\n",
              " '__setattr__',\n",
              " '__sizeof__',\n",
              " '__str__',\n",
              " '__subclasshook__',\n",
              " '__weakref__',\n",
              " 'add_radius',\n",
              " 'color',\n",
              " 'drawCircle',\n",
              " 'radius']"
            ]
          },
          "metadata": {
            "tags": []
          },
          "execution_count": 29
        }
      ]
    },
    {
      "cell_type": "code",
      "metadata": {
        "id": "060TdEzmo0Mc",
        "colab_type": "code",
        "colab": {
          "base_uri": "https://localhost:8080/",
          "height": 34
        },
        "outputId": "3c298cb7-1d43-4333-b1bc-ca2029dd2873"
      },
      "source": [
        "sophcircle.radius"
      ],
      "execution_count": 30,
      "outputs": [
        {
          "output_type": "execute_result",
          "data": {
            "text/plain": [
              "5"
            ]
          },
          "metadata": {
            "tags": []
          },
          "execution_count": 30
        }
      ]
    },
    {
      "cell_type": "code",
      "metadata": {
        "id": "WjAXZtUwo1vo",
        "colab_type": "code",
        "colab": {
          "base_uri": "https://localhost:8080/",
          "height": 35
        },
        "outputId": "ee84e9a1-0c72-408f-fe76-22a80b22b474"
      },
      "source": [
        "sophcircle.color"
      ],
      "execution_count": 50,
      "outputs": [
        {
          "output_type": "execute_result",
          "data": {
            "application/vnd.google.colaboratory.intrinsic+json": {
              "type": "string"
            },
            "text/plain": [
              "'yellow'"
            ]
          },
          "metadata": {
            "tags": []
          },
          "execution_count": 50
        }
      ]
    },
    {
      "cell_type": "code",
      "metadata": {
        "id": "O1WW2SGHo4Pb",
        "colab_type": "code",
        "colab": {
          "base_uri": "https://localhost:8080/",
          "height": 265
        },
        "outputId": "d322a9c3-9e30-4f54-9bf2-b7ec1246a538"
      },
      "source": [
        "sophcircle.drawCircle()"
      ],
      "execution_count": 49,
      "outputs": [
        {
          "output_type": "display_data",
          "data": {
            "image/png": "[encoded data removed]",
            "text/plain": [
              "<Figure size 432x288 with 1 Axes>"
            ]
          },
          "metadata": {
            "tags": [],
            "needs_background": "light"
          }
        }
      ]
    },
    {
      "cell_type": "code",
      "metadata": {
        "id": "1fnSNTsmpHvG",
        "colab_type": "code",
        "colab": {
          "base_uri": "https://localhost:8080/",
          "height": 34
        },
        "outputId": "9e220f16-6416-4ace-c8c0-594eb51bb55a"
      },
      "source": [
        "sophcircle.add_radius(6)"
      ],
      "execution_count": 36,
      "outputs": [
        {
          "output_type": "execute_result",
          "data": {
            "text/plain": [
              "11"
            ]
          },
          "metadata": {
            "tags": []
          },
          "execution_count": 36
        }
      ]
    },
    {
      "cell_type": "code",
      "metadata": {
        "id": "baO_y2qIpM7t",
        "colab_type": "code",
        "colab": {
          "base_uri": "https://localhost:8080/",
          "height": 265
        },
        "outputId": "10abb19d-a3c4-4a41-a1b9-b758f4a36943"
      },
      "source": [
        "sophcircle.drawCircle()\n"
      ],
      "execution_count": 39,
      "outputs": [
        {
          "output_type": "display_data",
          "data": {
            "image/png": "[encoded data removed]",
            "text/plain": [
              "<Figure size 432x288 with 1 Axes>"
            ]
          },
          "metadata": {
            "tags": [],
            "needs_background": "light"
          }
        }
      ]
    },
    {
      "cell_type": "code",
      "metadata": {
        "id": "rP3RdAoEpZ4G",
        "colab_type": "code",
        "colab": {}
      },
      "source": [
        "sophcircle.radius = 2"
      ],
      "execution_count": 41,
      "outputs": []
    },
    {
      "cell_type": "code",
      "metadata": {
        "id": "rXePJFG-plqX",
        "colab_type": "code",
        "colab": {}
      },
      "source": [
        "sophcircle.color = 'orange'"
      ],
      "execution_count": 42,
      "outputs": []
    },
    {
      "cell_type": "code",
      "metadata": {
        "id": "_HV7RYPEprow",
        "colab_type": "code",
        "colab": {
          "base_uri": "https://localhost:8080/",
          "height": 265
        },
        "outputId": "178a2ca8-b031-4849-f365-c64edeec26dd"
      },
      "source": [
        "sophcircle.drawCircle()"
      ],
      "execution_count": 44,
      "outputs": [
        {
          "output_type": "display_data",
          "data": {
            "image/png": "[encoded data removed]",
            "text/plain": [
              "<Figure size 432x288 with 1 Axes>"
            ]
          },
          "metadata": {
            "tags": [],
            "needs_background": "light"
          }
        }
      ]
    },
    {
      "cell_type": "code",
      "metadata": {
        "id": "6xcNC68Xp7B2",
        "colab_type": "code",
        "colab": {}
      },
      "source": [
        "class Rectangle(object):\n",
        "\n",
        "    # Constructor\n",
        "    def __init__(self, width=4, height=4, color='r'):\n",
        "        self.width = width\n",
        "        self.height = height\n",
        "        self.color = color\n",
        "\n",
        "    # Method\n",
        "    def drawRectangle(self):\n",
        "        plt.gca().add_patch(plt.Rectangle((0, 0), self.width, self.height ,fc=self.color))\n",
        "        plt.axis('scaled')\n",
        "        plt.show()"
      ],
      "execution_count": 83,
      "outputs": []
    },
    {
      "cell_type": "code",
      "metadata": {
        "id": "Q1kcHHB_a6gi",
        "colab_type": "code",
        "colab": {}
      },
      "source": [
        "class Rectangle(object):\n",
        "    \n",
        "    # Constructor\n",
        "    def __init__(self, width=2, height=3, color='r'):\n",
        "        self.height = height \n",
        "        self.width = width\n",
        "        self.color = color\n",
        "    \n",
        "    # Method\n",
        "    def drawRectangle(self):\n",
        "        plt.gca().add_patch(plt.Rectangle((0, 0), self.width, self.height ,fc=self.color))\n",
        "        plt.axis('scaled')\n",
        "        plt.show()"
      ],
      "execution_count": 72,
      "outputs": []
    },
    {
      "cell_type": "code",
      "metadata": {
        "id": "REEWPLRatcDD",
        "colab_type": "code",
        "colab": {}
      },
      "source": [
        "maxrectangle = Rectangle(4,4)"
      ],
      "execution_count": 85,
      "outputs": []
    },
    {
      "cell_type": "code",
      "metadata": {
        "id": "QG2QQVRQvcyl",
        "colab_type": "code",
        "colab": {
          "base_uri": "https://localhost:8080/",
          "height": 265
        },
        "outputId": "44b25c13-3165-45cb-9c89-3d861e2c98f4"
      },
      "source": [
        "maxrectangle.drawRectangle()"
      ],
      "execution_count": 86,
      "outputs": [
        {
          "output_type": "display_data",
          "data": {
            "image/png": "[encoded data removed]",
            "text/plain": [
              "<Figure size 432x288 with 1 Axes>"
            ]
          },
          "metadata": {
            "tags": [],
            "needs_background": "light"
          }
        }
      ]
    },
    {
      "cell_type": "code",
      "metadata": {
        "id": "f9IXb3gBwM7X",
        "colab_type": "code",
        "colab": {
          "base_uri": "https://localhost:8080/",
          "height": 71
        },
        "outputId": "0f1a914e-71cb-44d6-c3a5-be3fc08d77ae"
      },
      "source": [
        "# for manipulating data\n",
        "import pandas as pd\n",
        "import numpy as np\n",
        "# for visualizations\n",
        "%matplotlib inline\n",
        "import matplotlib.pyplot as plt\n",
        "# to print out all the outputs\n",
        "from IPython.core.interactiveshell import InteractiveShell\n",
        "InteractiveShell.ast_node_interactivity = \"all\"\n",
        "# set display options\n",
        "pd.set_option('display.max_columns', None)\n",
        "pd.set_option('display.max_rows', None)\n",
        "pd.set_option('display.max_colwidth', -1)"
      ],
      "execution_count": 87,
      "outputs": [
        {
          "output_type": "stream",
          "text": [
            "/usr/local/lib/python3.6/dist-packages/ipykernel_launcher.py:13: FutureWarning: Passing a negative integer is deprecated in version 1.0 and will not be supported in future version. Instead, use None to not limit the column width.\n",
            "  del sys.path[0]\n"
          ],
          "name": "stderr"
        }
      ]
    },
    {
      "cell_type": "markdown",
      "metadata": {
        "id": "_9AjBuvZwhHf",
        "colab_type": "text"
      },
      "source": [
        "***SEE ARASH'S NOTES FROM CLASS FOR FURTHER IMPORTING DATA & VISUALIZATIONS***"
      ]
    },
    {
      "cell_type": "markdown",
      "metadata": {
        "id": "U58_YU5rkvaB",
        "colab_type": "text"
      },
      "source": [
        "*****HOMEWORK***\n",
        "For next week go over visualization plot - for anlaytical purposes, how you can do them and how yoou can do them in python\n",
        "\n",
        "class atributes extentiation and how we use it\n",
        "\n",
        "definition of methods vs function\n",
        "\n",
        "\n",
        "methods - functions or processes that are defined for an object in a sepcfic class\n",
        "\n",
        "methods are functions that are designed to work in a secific class\n",
        "\n",
        "redcircle = object\n",
        "\n",
        "steps - "
      ]
    },
    {
      "cell_type": "markdown",
      "metadata": {
        "id": "A1pJmPCccRAz",
        "colab_type": "text"
      },
      "source": [
        "introduce new libraries - libraries are used for NLP - natural language processing\n",
        "\n",
        "add in github as project\n",
        "\n",
        "retweets of donald trumps -wanted to write a code that creates tweets that donald trump would retweet-***problem\n",
        "\n",
        "1. Define Problem - write tweets that predicts trump tweets\n",
        "\n",
        "ETL? - Extraction, transform, and load - how often you update your data - event driven data types - so when he tweets things are extracted, transformed, and loaded\n",
        "\n",
        "***ETF in text - extract informtion from say wiki and put it in your file\n",
        "\n",
        "2. study data set he has\n",
        "\n",
        "\n",
        "\n",
        "methodology"
      ]
    },
    {
      "cell_type": "code",
      "metadata": {
        "id": "d0s83UvTeR0O",
        "colab_type": "code",
        "colab": {}
      },
      "source": [
        ""
      ],
      "execution_count": null,
      "outputs": []
    },
    {
      "cell_type": "markdown",
      "metadata": {
        "id": "l5ExZcOCeSiO",
        "colab_type": "text"
      },
      "source": [
        "visual analytics"
      ]
    },
    {
      "cell_type": "markdown",
      "metadata": {
        "id": "4sSsbfyBedNM",
        "colab_type": "text"
      },
      "source": [
        "take a look at plots - write a paragraphs that say better representations or other representations that can be used on all plots \n",
        "\n",
        "example -catergirzed into hours of day and also day of the week\n",
        "can we have another plot that gives us another question\n",
        "\n",
        "class, function, collect text data from website, ect."
      ]
    }
  ]
}